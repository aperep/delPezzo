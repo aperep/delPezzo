{
 "cells": [
  {
   "cell_type": "code",
   "execution_count": 1,
   "metadata": {},
   "outputs": [],
   "source": [
    "from cylinder_cones import cylinders, minus_one_curves, K\n",
    "sp2sage = lambda vector: [Integer(int(i)) for i in vector]\n",
    "cones = cylinders()\n",
    "cones = [[sp2sage(ray) for ray in cone] for cone in cones]\n",
    "cones = [Cone(cone) for cone in cones]\n",
    "effective_cone = Cone([sp2sage(ray) for ray in minus_one_curves()])\n",
    "Q = diagonal_matrix([1]+6*[-1])\n",
    "K = vector(sp2sage(K))\n",
    "ample_cone = Cone([Q*ray for ray in effective_cone.dual().rays()])\n",
    "\n",
    "minkowski_sum = lambda cones : Cone([ray for cone in cones for ray in cone.rays()])\n",
    "contains_ample = lambda cone : all(cone.contains(ray) for ray in ample_cone.rays())\n"
   ]
  },
  {
   "cell_type": "code",
   "execution_count": 115,
   "metadata": {},
   "outputs": [
    {
     "name": "stdout",
     "output_type": "stream",
     "text": [
      "True\n",
      "N(137, -83, -63, -59, -54, -50, -19)\n",
      "in 7-d lattice N\n",
      "N(1, -1, -1,  0,  0,  0,  0),\n",
      "N(1, -1,  0, -1,  0,  0,  0),\n",
      "N(1, -1,  0,  0, -1,  0,  0),\n",
      "N(1, -1,  0,  0,  0, -1,  0),\n",
      "N(1, -1,  0,  0,  0,  0, -1),\n",
      "N(2, -1,  0, -1, -1, -1, -1),\n",
      "N(2, -1, -1,  0, -1, -1, -1),\n",
      "N(2, -1, -1, -1,  0, -1, -1),\n",
      "N(2, -1, -1, -1, -1,  0, -1),\n",
      "N(2, -1, -1, -1, -1, -1,  0)\n",
      "in 7-d lattice N\n",
      "True\n",
      "N(245, -245, -63, -59, -54, -50, -19)\n"
     ]
    }
   ],
   "source": [
    "# studying bad ray\n",
    "N = ToricLattice(7)\n",
    "badray = N(51, -26, -13, -7, -4, -2, -1)\n",
    "print(effective_cone.contains(badray))\n",
    "for face in effective_cone.faces()[6]:\n",
    "    intersection = face.intersection(Cone([ray,K]))\n",
    "    if intersection.dim() == 0:\n",
    "        continue\n",
    "    else:\n",
    "        break\n",
    "print(intersection.rays())\n",
    "print(face.rays())\n",
    "ray = intersection.rays()[0]\n",
    "print(face.relative_interior_contains(ray))\n",
    "e1, e2, e3, e4, e5, f1 = face.rays()[:6]\n",
    "b = e1 + f1\n",
    "R = 63*e1 + 59*e2 + 54*e3 + 50*e4 + 19*e5\n",
    "print(R)\n",
    "    \n",
    "# its Fujita face is spanned by rays L-E1-Ej and L-\\sum(Ei)+Ej, where j=2..6, the class K+\\mu*H equals ray/12.\n",
    "# they comprise 5 pairs \n",
    "# its Fujita map is of type C(6)"
   ]
  },
  {
   "cell_type": "code",
   "execution_count": 119,
   "metadata": {},
   "outputs": [
    {
     "name": "stdout",
     "output_type": "stream",
     "text": [
      "[1, 1, 1, 1, 1]\n",
      "[1, 0, 0, 0, 0]\n",
      "[0, 1, 0, 0, 0]\n",
      "[0, 0, 1, 0, 0]\n",
      "[0, 0, 0, 1, 0]\n",
      "[0, 0, 0, 0, 1]\n",
      "[-1, 0, 0, 0, 0]\n",
      "[0, -1, 0, 0, 0]\n",
      "[0, 0, -1, 0, 0]\n",
      "[0, 0, 0, -1, 0]\n",
      "[0, 0, 0, 0, -1]\n",
      "[0, 0, 1, 1, 1]\n",
      "[0, 1, 0, 1, 1]\n",
      "[0, 1, 1, 0, 1]\n",
      "[0, 1, 1, 1, 0]\n",
      "[1, 0, 0, 1, 1]\n",
      "[1, 0, 1, 0, 1]\n",
      "[1, 0, 1, 1, 0]\n",
      "[1, 1, 0, 0, 1]\n",
      "[1, 1, 0, 1, 0]\n",
      "[1, 1, 1, 0, 0]\n",
      "[1, 1, 1, 1, 1]\n",
      "[1, 0, 0, 0, 0]\n",
      "[0, 1, 0, 0, 0]\n",
      "[0, 0, 1, 0, 0]\n",
      "[0, 0, 0, 1, 0]\n",
      "[0, 0, 0, 0, 1]\n"
     ]
    },
    {
     "data": {
      "text/plain": [
       "27"
      ]
     },
     "execution_count": 119,
     "metadata": {},
     "output_type": "execute_result"
    }
   ],
   "source": [
    "# contraction of e1..e5 yields a minimal surface, i.e., P1xP1\n",
    "def dot(a,b):\n",
    "    return a[0]*b[0] - sum(a[i]*b[i] for i in range(1, len(a)))\n",
    "for e in minus_one_curves():\n",
    "    print([dot(e,ei) for ei in [e1,e2,e3,e4,e5]])\n",
    "    if all(dot(e,ei)==0 for ei in [e1,e2,e3,e4,e5]):\n",
    "        print(e)"
   ]
  },
  {
   "cell_type": "code",
   "execution_count": 50,
   "metadata": {},
   "outputs": [
    {
     "name": "stdout",
     "output_type": "stream",
     "text": [
      "deleted cone 0, 14 cones left\n",
      "deleted cone 0, 13 cones left\n",
      "deleted cone 0, 12 cones left\n",
      "deleted cone 0, 11 cones left\n",
      "deleted cone 2, 10 cones left\n",
      "deleted cone 2, 9 cones left\n",
      "deleted cone 2, 8 cones left\n",
      "deleted cone 2, 7 cones left\n",
      "deleted cone 5, 6 cones left\n",
      "[7-d cone in 7-d lattice N, 7-d cone in 7-d lattice N, 7-d cone in 7-d lattice N, 7-d cone in 7-d lattice N, 7-d cone in 7-d lattice N, 7-d cone in 7-d lattice N]\n"
     ]
    }
   ],
   "source": [
    "#import functools\n",
    "#cones[0].intersection(cones[1])\n",
    "#intersection = functools.reduce(lambda c1, c2: c1.intersection(c2), cones)\n",
    "#from collections import Counter\n",
    "#for ray in effective_cone.\n",
    "#print(minkowski_sum.contains(-K))\n",
    "#print(Counter([ray*Q*m for ray in effective_cone.rays() for m in minkowski_sum.rays()]))\n",
    "#bad_rays = [ray for ray in ample_cone.rays() if not minkowski_sum.contains(ray)]\n",
    "#hyperplanes = set(r for cone in cones for r in cone.dual().rays())\n",
    "\n",
    "def filter_keeping_sum(cones):\n",
    "    while True:\n",
    "        for i,c in enumerate(cones):\n",
    "            \n",
    "            if contains_ample(minkowski_sum([x for j,x in enumerate(cones) if j!=i])):\n",
    "                del cones[i]\n",
    "                print(f'deleted cone {i}, {len(cones)} cones left')\n",
    "                break\n",
    "        else:\n",
    "            return cones\n",
    "        \n",
    "filtered_cones = cones[-15:]\n",
    "filter_keeping_sum(filtered_cones)\n",
    "print(filtered_cones)"
   ]
  },
  {
   "cell_type": "code",
   "execution_count": 3,
   "metadata": {},
   "outputs": [
    {
     "data": {
      "text/plain": [
       "(1, 1)"
      ]
     },
     "execution_count": 3,
     "metadata": {},
     "output_type": "execute_result"
    }
   ],
   "source": [
    "fan = Fan(rays=[(1,0), (0,1), (-1,0)], cones=[(0,1), (1,2)])\n",
    "h = vector([1,1])\n",
    "h"
   ]
  },
  {
   "cell_type": "code",
   "execution_count": null,
   "metadata": {},
   "outputs": [],
   "source": [
    "    \n"
   ]
  },
  {
   "cell_type": "code",
   "execution_count": 4,
   "metadata": {},
   "outputs": [
    {
     "name": "stdout",
     "output_type": "stream",
     "text": [
      "N(2, -1, -1,  0, -1, -1, -1),\n",
      "N(2, -1,  0, -1, -1, -1, -1),\n",
      "N(2,  0, -1, -1, -1, -1, -1),\n",
      "N(1,  0,  0,  0,  0, -1, -1),\n",
      "N(1,  0,  0,  0, -1,  0, -1),\n",
      "N(1,  0,  0,  0, -1, -1,  0),\n",
      "N(2,  0, -1,  0, -1, -1, -1),\n",
      "N(1, -1,  0, -1,  0,  0,  0)\n",
      "in 7-d lattice N\n",
      "N(2, -1, -1,  0, -1, -1, -1),\n",
      "N(2, -1,  0, -1, -1, -1, -1),\n",
      "N(2,  0, -1, -1, -1, -1, -1),\n",
      "N(1,  0,  0,  0,  0, -1, -1),\n",
      "N(1,  0,  0,  0, -1,  0, -1),\n",
      "N(1,  0,  0,  0, -1, -1,  0),\n",
      "N(2, -1,  0,  0, -1, -1, -1),\n",
      "N(1,  0, -1, -1,  0,  0,  0)\n",
      "in 7-d lattice N\n",
      "N(2, -1, -1, -1, -1, -1,  0),\n",
      "N(2, -1, -1, -1, -1,  0, -1),\n",
      "N(2, -1, -1, -1,  0, -1, -1),\n",
      "N(2, -1, -1,  0, -1, -1, -1),\n",
      "N(2, -1,  0, -1, -1, -1, -1),\n",
      "N(2,  0, -1, -1, -1, -1, -1),\n",
      "N(3, -1, -1, -1, -1, -2, -1),\n",
      "N(0,  0,  0,  0,  0,  1,  0)\n",
      "in 7-d lattice N\n",
      "N(2, -1, -1, -1, -1, -1,  0),\n",
      "N(2, -1, -1, -1, -1,  0, -1),\n",
      "N(2, -1, -1, -1,  0, -1, -1),\n",
      "N(2, -1, -1,  0, -1, -1, -1),\n",
      "N(2, -1,  0, -1, -1, -1, -1),\n",
      "N(2,  0, -1, -1, -1, -1, -1),\n",
      "N(3, -1, -1, -1, -2, -1, -1),\n",
      "N(0,  0,  0,  0,  1,  0,  0)\n",
      "in 7-d lattice N\n",
      "N(2, -1, -1, -1, -1, -1,  0),\n",
      "N(2, -1, -1, -1, -1,  0, -1),\n",
      "N(2, -1, -1, -1,  0, -1, -1),\n",
      "N(2, -1, -1,  0, -1, -1, -1),\n",
      "N(2, -1,  0, -1, -1, -1, -1),\n",
      "N(2,  0, -1, -1, -1, -1, -1),\n",
      "N(3, -1, -1, -2, -1, -1, -1),\n",
      "N(0,  0,  0,  1,  0,  0,  0)\n",
      "in 7-d lattice N\n",
      "N(2, -1, -1, -1, -1, -1,  0),\n",
      "N(2, -1, -1, -1, -1,  0, -1),\n",
      "N(2, -1, -1, -1,  0, -1, -1),\n",
      "N(2, -1, -1,  0, -1, -1, -1),\n",
      "N(2, -1,  0, -1, -1, -1, -1),\n",
      "N(2,  0, -1, -1, -1, -1, -1),\n",
      "N(3, -2, -1, -1, -1, -1, -1),\n",
      "N(0,  1,  0,  0,  0,  0,  0)\n",
      "in 7-d lattice N\n"
     ]
    }
   ],
   "source": [
    "for cone in filtered_cones:\n",
    "    print(cone.rays())"
   ]
  },
  {
   "cell_type": "code",
   "execution_count": 40,
   "metadata": {},
   "outputs": [],
   "source": [
    "ample_cone.dual().rays()\n",
    "symmetries = [tuple(1 if i==j else -1 if i==j+1 else 0 for j in range(7)) for i in range(2,7)]\n",
    "ample_segment = Cone(list(ample_cone.dual().rays())+symmetries).dual()"
   ]
  },
  {
   "cell_type": "code",
   "execution_count": 41,
   "metadata": {},
   "outputs": [
    {
     "data": {
      "text/plain": [
       "M(2,  1,  1,  1,  1,  1,  0),\n",
       "M(0, -1,  1,  0,  0,  0,  0),\n",
       "M(1,  1,  1,  0,  0,  0,  0),\n",
       "M(0,  0, -1,  1,  0,  0,  0),\n",
       "M(0,  0,  0,  0,  0, -1,  1),\n",
       "M(0,  0,  0, -1,  1,  0,  0),\n",
       "M(0,  0,  0,  0, -1,  1,  0),\n",
       "M(0,  0,  0,  0,  0,  0, -1)\n",
       "in 7-d lattice M"
      ]
     },
     "execution_count": 41,
     "metadata": {},
     "output_type": "execute_result"
    }
   ],
   "source": [
    "ample_segment.dual().rays()"
   ]
  },
  {
   "cell_type": "code",
   "execution_count": 42,
   "metadata": {},
   "outputs": [
    {
     "name": "stdout",
     "output_type": "stream",
     "text": [
      "deleted cone 1, 5 cones left\n",
      "deleted cone 4, 4 cones left\n",
      "[7-d cone in 7-d lattice N, 7-d cone in 7-d lattice N, 7-d cone in 7-d lattice N, 7-d cone in 7-d lattice N]\n"
     ]
    }
   ],
   "source": [
    "\n",
    "def filter_keeping_sum(cones, filter_cone):\n",
    "    \n",
    "    contains_filter_cone = lambda cone : all(cone.contains(ray) for ray in filter_cone.rays())\n",
    "    while True:\n",
    "        for i,c in enumerate(cones):\n",
    "            \n",
    "            if contains_filter_cone(minkowski_sum([x for j,x in enumerate(cones) if j!=i])):\n",
    "                del cones[i]\n",
    "                print(f'deleted cone {i}, {len(cones)} cones left')\n",
    "                break\n",
    "        else:            \n",
    "            return cones\n",
    "        \n",
    "filtered_cones_2 = filtered_cones[:]\n",
    "filter_keeping_sum(filtered_cones_2, ample_segment)\n",
    "print(filtered_cones_2)"
   ]
  },
  {
   "cell_type": "code",
   "execution_count": 8,
   "metadata": {},
   "outputs": [
    {
     "data": {
      "text/plain": [
       "4"
      ]
     },
     "execution_count": 8,
     "metadata": {},
     "output_type": "execute_result"
    }
   ],
   "source": [
    "len(filtered_cones_2)"
   ]
  },
  {
   "cell_type": "code",
   "execution_count": 9,
   "metadata": {},
   "outputs": [],
   "source": [
    "#good_cones = [c for c in cones if Counter(list(c.rays()[-1]))[0]==6 and sum(list(r)[0] for r in c.rays())==15]\n",
    "#contains_ample(minkowski_sum(good_cones))"
   ]
  },
  {
   "cell_type": "code",
   "execution_count": 43,
   "metadata": {},
   "outputs": [
    {
     "name": "stdout",
     "output_type": "stream",
     "text": [
      "deleted cone 0, 219 cones left\n",
      "deleted cone 0, 218 cones left\n",
      "deleted cone 0, 217 cones left\n",
      "deleted cone 1, 216 cones left\n",
      "deleted cone 1, 215 cones left\n",
      "deleted cone 1, 214 cones left\n",
      "deleted cone 1, 213 cones left\n",
      "deleted cone 1, 212 cones left\n",
      "deleted cone 1, 211 cones left\n",
      "deleted cone 1, 210 cones left\n",
      "deleted cone 1, 209 cones left\n",
      "deleted cone 1, 208 cones left\n",
      "deleted cone 1, 207 cones left\n",
      "deleted cone 1, 206 cones left\n",
      "deleted cone 1, 205 cones left\n",
      "deleted cone 1, 204 cones left\n",
      "deleted cone 1, 203 cones left\n",
      "deleted cone 1, 202 cones left\n",
      "deleted cone 1, 201 cones left\n",
      "deleted cone 1, 200 cones left\n",
      "deleted cone 1, 199 cones left\n",
      "deleted cone 1, 198 cones left\n",
      "deleted cone 1, 197 cones left\n",
      "deleted cone 1, 196 cones left\n",
      "deleted cone 1, 195 cones left\n",
      "deleted cone 1, 194 cones left\n",
      "deleted cone 1, 193 cones left\n",
      "deleted cone 1, 192 cones left\n",
      "deleted cone 1, 191 cones left\n",
      "deleted cone 1, 190 cones left\n",
      "deleted cone 1, 189 cones left\n",
      "deleted cone 1, 188 cones left\n",
      "deleted cone 1, 187 cones left\n",
      "deleted cone 1, 186 cones left\n",
      "deleted cone 1, 185 cones left\n",
      "deleted cone 1, 184 cones left\n",
      "deleted cone 1, 183 cones left\n",
      "deleted cone 1, 182 cones left\n",
      "deleted cone 1, 181 cones left\n",
      "deleted cone 1, 180 cones left\n",
      "deleted cone 1, 179 cones left\n",
      "deleted cone 1, 178 cones left\n",
      "deleted cone 1, 177 cones left\n",
      "deleted cone 1, 176 cones left\n",
      "deleted cone 1, 175 cones left\n",
      "deleted cone 1, 174 cones left\n",
      "deleted cone 1, 173 cones left\n",
      "deleted cone 1, 172 cones left\n",
      "deleted cone 1, 171 cones left\n",
      "deleted cone 1, 170 cones left\n",
      "deleted cone 1, 169 cones left\n",
      "deleted cone 1, 168 cones left\n",
      "deleted cone 1, 167 cones left\n",
      "deleted cone 1, 166 cones left\n",
      "deleted cone 1, 165 cones left\n",
      "deleted cone 1, 164 cones left\n",
      "deleted cone 1, 163 cones left\n",
      "deleted cone 1, 162 cones left\n",
      "deleted cone 1, 161 cones left\n",
      "deleted cone 1, 160 cones left\n",
      "deleted cone 1, 159 cones left\n",
      "deleted cone 1, 158 cones left\n",
      "deleted cone 1, 157 cones left\n",
      "deleted cone 1, 156 cones left\n",
      "deleted cone 1, 155 cones left\n",
      "deleted cone 1, 154 cones left\n",
      "deleted cone 1, 153 cones left\n",
      "deleted cone 1, 152 cones left\n",
      "deleted cone 1, 151 cones left\n",
      "deleted cone 1, 150 cones left\n",
      "deleted cone 1, 149 cones left\n",
      "deleted cone 1, 148 cones left\n",
      "deleted cone 1, 147 cones left\n",
      "deleted cone 1, 146 cones left\n",
      "deleted cone 1, 145 cones left\n",
      "deleted cone 1, 144 cones left\n",
      "deleted cone 1, 143 cones left\n",
      "deleted cone 1, 142 cones left\n",
      "deleted cone 1, 141 cones left\n",
      "deleted cone 1, 140 cones left\n",
      "deleted cone 1, 139 cones left\n",
      "deleted cone 1, 138 cones left\n",
      "deleted cone 1, 137 cones left\n",
      "deleted cone 1, 136 cones left\n",
      "deleted cone 1, 135 cones left\n",
      "deleted cone 1, 134 cones left\n",
      "deleted cone 1, 133 cones left\n",
      "deleted cone 1, 132 cones left\n",
      "deleted cone 1, 131 cones left\n",
      "deleted cone 1, 130 cones left\n",
      "deleted cone 1, 129 cones left\n",
      "deleted cone 1, 128 cones left\n",
      "deleted cone 1, 127 cones left\n",
      "deleted cone 1, 126 cones left\n",
      "deleted cone 1, 125 cones left\n",
      "deleted cone 1, 124 cones left\n",
      "deleted cone 1, 123 cones left\n",
      "deleted cone 1, 122 cones left\n",
      "deleted cone 1, 121 cones left\n",
      "deleted cone 1, 120 cones left\n",
      "deleted cone 1, 119 cones left\n",
      "deleted cone 1, 118 cones left\n",
      "deleted cone 1, 117 cones left\n",
      "deleted cone 1, 116 cones left\n",
      "deleted cone 1, 115 cones left\n",
      "deleted cone 1, 114 cones left\n",
      "deleted cone 1, 113 cones left\n",
      "deleted cone 1, 112 cones left\n",
      "deleted cone 1, 111 cones left\n",
      "deleted cone 1, 110 cones left\n",
      "deleted cone 1, 109 cones left\n",
      "deleted cone 1, 108 cones left\n",
      "deleted cone 1, 107 cones left\n",
      "deleted cone 1, 106 cones left\n",
      "deleted cone 1, 105 cones left\n",
      "deleted cone 1, 104 cones left\n",
      "deleted cone 1, 103 cones left\n",
      "deleted cone 1, 102 cones left\n",
      "deleted cone 1, 101 cones left\n",
      "deleted cone 1, 100 cones left\n",
      "deleted cone 1, 99 cones left\n",
      "deleted cone 1, 98 cones left\n",
      "deleted cone 1, 97 cones left\n",
      "deleted cone 1, 96 cones left\n",
      "deleted cone 1, 95 cones left\n",
      "deleted cone 1, 94 cones left\n",
      "deleted cone 1, 93 cones left\n",
      "deleted cone 1, 92 cones left\n",
      "deleted cone 1, 91 cones left\n",
      "deleted cone 1, 90 cones left\n",
      "deleted cone 1, 89 cones left\n",
      "deleted cone 1, 88 cones left\n",
      "deleted cone 1, 87 cones left\n",
      "deleted cone 1, 86 cones left\n",
      "deleted cone 1, 85 cones left\n",
      "deleted cone 1, 84 cones left\n",
      "deleted cone 1, 83 cones left\n",
      "deleted cone 1, 82 cones left\n",
      "deleted cone 1, 81 cones left\n",
      "deleted cone 1, 80 cones left\n",
      "deleted cone 2, 79 cones left\n",
      "deleted cone 2, 78 cones left\n",
      "deleted cone 2, 77 cones left\n",
      "deleted cone 2, 76 cones left\n",
      "deleted cone 2, 75 cones left\n",
      "deleted cone 2, 74 cones left\n",
      "deleted cone 2, 73 cones left\n",
      "deleted cone 2, 72 cones left\n",
      "deleted cone 2, 71 cones left\n",
      "deleted cone 2, 70 cones left\n",
      "deleted cone 2, 69 cones left\n",
      "deleted cone 2, 68 cones left\n",
      "deleted cone 2, 67 cones left\n",
      "deleted cone 2, 66 cones left\n",
      "deleted cone 2, 65 cones left\n",
      "deleted cone 2, 64 cones left\n",
      "deleted cone 2, 63 cones left\n",
      "deleted cone 2, 62 cones left\n",
      "deleted cone 2, 61 cones left\n",
      "deleted cone 2, 60 cones left\n",
      "deleted cone 2, 59 cones left\n",
      "deleted cone 2, 58 cones left\n",
      "deleted cone 2, 57 cones left\n",
      "deleted cone 2, 56 cones left\n",
      "deleted cone 2, 55 cones left\n",
      "deleted cone 2, 54 cones left\n",
      "deleted cone 2, 53 cones left\n",
      "deleted cone 2, 52 cones left\n",
      "deleted cone 2, 51 cones left\n",
      "deleted cone 2, 50 cones left\n",
      "deleted cone 2, 49 cones left\n",
      "deleted cone 2, 48 cones left\n",
      "deleted cone 2, 47 cones left\n",
      "deleted cone 2, 46 cones left\n",
      "deleted cone 2, 45 cones left\n",
      "deleted cone 2, 44 cones left\n",
      "deleted cone 2, 43 cones left\n",
      "deleted cone 2, 42 cones left\n",
      "deleted cone 2, 41 cones left\n",
      "deleted cone 2, 40 cones left\n",
      "deleted cone 2, 39 cones left\n",
      "deleted cone 2, 38 cones left\n",
      "deleted cone 2, 37 cones left\n",
      "deleted cone 2, 36 cones left\n",
      "deleted cone 2, 35 cones left\n",
      "deleted cone 2, 34 cones left\n",
      "deleted cone 2, 33 cones left\n",
      "deleted cone 2, 32 cones left\n",
      "deleted cone 2, 31 cones left\n",
      "deleted cone 2, 30 cones left\n",
      "deleted cone 2, 29 cones left\n",
      "deleted cone 2, 28 cones left\n",
      "deleted cone 2, 27 cones left\n",
      "deleted cone 2, 26 cones left\n",
      "deleted cone 2, 25 cones left\n",
      "deleted cone 2, 24 cones left\n",
      "deleted cone 2, 23 cones left\n",
      "deleted cone 2, 22 cones left\n",
      "deleted cone 2, 21 cones left\n",
      "deleted cone 2, 20 cones left\n",
      "deleted cone 2, 19 cones left\n",
      "deleted cone 2, 18 cones left\n",
      "deleted cone 2, 17 cones left\n",
      "deleted cone 2, 16 cones left\n",
      "deleted cone 2, 15 cones left\n",
      "deleted cone 2, 14 cones left\n",
      "deleted cone 2, 13 cones left\n",
      "deleted cone 2, 12 cones left\n",
      "deleted cone 2, 11 cones left\n",
      "deleted cone 2, 10 cones left\n",
      "deleted cone 2, 9 cones left\n",
      "deleted cone 2, 8 cones left\n",
      "deleted cone 3, 7 cones left\n",
      "deleted cone 3, 6 cones left\n",
      "deleted cone 3, 5 cones left\n",
      "deleted cone 3, 4 cones left\n",
      "[7-d cone in 7-d lattice N, 7-d cone in 7-d lattice N, 7-d cone in 7-d lattice N, 7-d cone in 7-d lattice N]\n"
     ]
    }
   ],
   "source": [
    "\n",
    "def filter_keeping_rays(cones, filter_cone):\n",
    "    \n",
    "    contain_all_rays = lambda cones : all(any(cone.contains(ray) for cone in cones) for ray in filter_cone.rays())\n",
    "    while True:\n",
    "        for i,c in enumerate(cones):\n",
    "            \n",
    "            if contain_all_rays([x for j,x in enumerate(cones) if j!=i]):\n",
    "                del cones[i]\n",
    "                print(f'deleted cone {i}, {len(cones)} cones left')\n",
    "                break\n",
    "        else:            \n",
    "            return cones\n",
    "        \n",
    "filtered_cones_3 = cones[-220:]\n",
    "filter_keeping_rays(filtered_cones_3, ample_segment)\n",
    "print(filtered_cones_3)"
   ]
  },
  {
   "cell_type": "code",
   "execution_count": 44,
   "metadata": {},
   "outputs": [
    {
     "name": "stdout",
     "output_type": "stream",
     "text": [
      "N(1,  0, -1, -1,  0,  0,  0),\n",
      "N(1, -1,  0, -1,  0,  0,  0),\n",
      "N(1, -1, -1,  0,  0,  0,  0),\n",
      "N(0,  0,  0,  0,  0,  0,  1),\n",
      "N(0,  0,  0,  0,  0,  1,  0),\n",
      "N(0,  0,  0,  0,  1,  0,  0),\n",
      "N(2, -1, -1, -1, -1,  0,  0),\n",
      "N(1,  0,  0,  0,  0, -1, -1)\n",
      "in 7-d lattice N\n",
      "N(2, -1, -1, -1, -1, -1,  0),\n",
      "N(2, -1, -1,  0, -1, -1, -1),\n",
      "N(2, -1,  0, -1, -1, -1, -1),\n",
      "N(1,  0,  0,  0, -1, -1,  0),\n",
      "N(1, -1,  0,  0,  0, -1,  0),\n",
      "N(1, -1,  0,  0, -1,  0,  0),\n",
      "N(3, -1, -1, -1, -1, -2, -1),\n",
      "N(0,  0,  0,  0,  0,  1,  0)\n",
      "in 7-d lattice N\n",
      "N(2, -1, -1, -1, -1, -1,  0),\n",
      "N(2, -1, -1, -1, -1,  0, -1),\n",
      "N(2, -1, -1, -1,  0, -1, -1),\n",
      "N(2, -1, -1,  0, -1, -1, -1),\n",
      "N(2, -1,  0, -1, -1, -1, -1),\n",
      "N(2,  0, -1, -1, -1, -1, -1),\n",
      "N(3, -1, -1, -1, -1, -1, -2),\n",
      "N(0,  0,  0,  0,  0,  0,  1)\n",
      "in 7-d lattice N\n",
      "N(2, -1, -1, -1, -1, -1,  0),\n",
      "N(2, -1, -1, -1, -1,  0, -1),\n",
      "N(2, -1, -1, -1,  0, -1, -1),\n",
      "N(2, -1, -1,  0, -1, -1, -1),\n",
      "N(2, -1,  0, -1, -1, -1, -1),\n",
      "N(2,  0, -1, -1, -1, -1, -1),\n",
      "N(3, -2, -1, -1, -1, -1, -1),\n",
      "N(0,  1,  0,  0,  0,  0,  0)\n",
      "in 7-d lattice N\n"
     ]
    }
   ],
   "source": [
    "for c in filtered_cones_3:\n",
    "    print(c.rays())"
   ]
  },
  {
   "cell_type": "code",
   "execution_count": 12,
   "metadata": {},
   "outputs": [
    {
     "data": {
      "text/plain": [
       "[M(0, 1, -1, -1, 0, 0, 0),\n",
       " M(2, 1, 1, 1, 1, 0, 2),\n",
       " M(0, 1, -1, -1, 1, 0, 0),\n",
       " M(2, 1, 1, 1, 1, 2, 0),\n",
       " M(2, 2, 1, 1, 0, 0, 1),\n",
       " M(0, 0, 1, -1, 0, 0, -1),\n",
       " M(-1, -1, -1, 1, -1, 0, -1),\n",
       " M(-1, -1, -1, -1, -1, 0, 1),\n",
       " M(1, 1, 1, 1, -1, 0, 1),\n",
       " M(1, -1, 1, 1, 1, 0, 1),\n",
       " M(-1, -1, 1, -1, -1, 0, -1),\n",
       " M(1, 2, 0, 0, 0, 0, 0),\n",
       " M(-1, -1, 1, -1, -1, -1, 0),\n",
       " M(-1, -1, -1, 1, -1, -1, 0),\n",
       " M(-1, -1, -1, -1, 1, -1, 0),\n",
       " M(-1, -1, -1, -1, -1, 1, 0),\n",
       " M(-1, 1, -1, -1, -1, -1, 0),\n",
       " M(-1, 0, 1, -1, -1, -1, -1),\n",
       " M(-1, 0, -1, 1, -1, -1, -1),\n",
       " M(-1, 0, -1, -1, 1, -1, -1),\n",
       " M(-1, 0, -1, -1, -1, 1, -1),\n",
       " M(-1, 0, -1, -1, -1, -1, 1)]"
      ]
     },
     "execution_count": 12,
     "metadata": {},
     "output_type": "execute_result"
    }
   ],
   "source": [
    "dissecting_planes = lambda cones : [ray for cone in cones for ray in cone.dual().rays() if not ample_segment.dual().contains(ray)]\n",
    "planes = dissecting_planes(filtered_cones_3)\n",
    "#planes = set(planes)\n",
    "planes"
   ]
  },
  {
   "cell_type": "code",
   "execution_count": 48,
   "metadata": {},
   "outputs": [],
   "source": [
    "import itertools\n",
    "\n",
    "def dissect_with_plane(cones, plane):\n",
    "    dissected = []\n",
    "    for cone in cones:\n",
    "        #print(f'dissecting with plane, {len(dissected)} cones')\n",
    "        if cone.dual().contains(plane) or cone.dual().contains(-plane):\n",
    "            dissected.append(cone)\n",
    "        else:\n",
    "            dual_rays = list(cone.dual().rays())\n",
    "            positive_part = Cone(dual_rays + [plane]).dual()\n",
    "            negative_part = Cone(dual_rays + [-plane]).dual()\n",
    "            dissected.append(positive_part)            \n",
    "            dissected.append(negative_part)            \n",
    "    return dissected\n",
    "\n",
    "def dissect_with_planes(cones, planes):\n",
    "    dissected = cones\n",
    "    for i,p in enumerate(planes):\n",
    "        print(f'dissecting with {i}-th plane of {len(planes)}, {len(dissected)} cones')\n",
    "        dissected = dissect_with_plane(dissected, p)\n",
    "    return dissected\n",
    "\n",
    "dissects = lambda cone, plane: not( cone.dual().contains(plane) or cone.dual().contains(-plane) )\n",
    "\n",
    "\n",
    "def halves(cone, plane):\n",
    "    dual_rays = list(cone.dual().rays())\n",
    "    negative_part = Cone(dual_rays + [-plane]).dual()\n",
    "    positive_part = Cone(dual_rays + [plane]).dual()\n",
    "    return negative_part, positive_part\n",
    "\n",
    "def dissect_wrt(dissected_cone, dissecting_cone): # intersection is returned separately\n",
    "    parts = []\n",
    "    remainder = dissected_cone\n",
    "    for plane in dissecting_cone.dual().rays():\n",
    "        if not dissects(remainder, plane):\n",
    "            continue\n",
    "        negative_part, positive_part = halves(remainder, plane)\n",
    "        parts.append(negative_part)\n",
    "        remainder = positive_part\n",
    "    if remainder.intersection(dissecting_cone).is_solid():\n",
    "        return parts, remainder\n",
    "    else:\n",
    "        parts.append(remainder)    \n",
    "        return parts, None\n",
    "\n",
    "#[c.rays() for c in dissect_wrt(Cone([[1,0],[0,1]]),Cone([[1,1],[-1,1]]))]\n",
    "\n",
    "class Pseudofan: # solid version\n",
    "    def __init__(self, cone):\n",
    "        self.cones = [cone]\n",
    "        #for cone in cones:\n",
    "        #    self.append(cone)\n",
    "    \n",
    "    def remove(self, cone):\n",
    "        #print('removing cone\\n',cone.rays())\n",
    "        outer_parts = [dissect_wrt(old, cone)[0] for old in self.cones]\n",
    "        #print('outer parts\\n', outer_parts)\n",
    "        self.cones  = list(itertools.chain(*outer_parts))\n",
    "        #print('cones\\n', self.cones)\n",
    "\n",
    "    def intersect(self, cone):\n",
    "        intersections = [cone.intersection(old) for old in self.cones]\n",
    "        self.cones = [c for c in intersections if c.is_solid()]\n",
    "\n",
    "#dissection =  dissect_with_planes([ample_segment], planes)"
   ]
  },
  {
   "cell_type": "code",
   "execution_count": 36,
   "metadata": {},
   "outputs": [
    {
     "name": "stdout",
     "output_type": "stream",
     "text": [
      "N( 0, 1),\n",
      "N(-1, 1)\n",
      "in 2-d lattice N\n"
     ]
    }
   ],
   "source": [
    "C1, C2 = Cone([[1,0],[0,1]]), Cone([[1,1],[-1,1]])\n",
    "#F1, F2 = Fan([C1]), Fan([C2])\n",
    "#F1.common_refinement(F2)\n",
    "P = Pseudofan(C2)\n",
    "P.remove(C1)\n",
    "#P.remove(C2)\n",
    "for c in P.cones:\n",
    "    print(c.rays())"
   ]
  },
  {
   "cell_type": "code",
   "execution_count": 53,
   "metadata": {},
   "outputs": [
    {
     "name": "stderr",
     "output_type": "stream",
     "text": [
      "1 cones in pseudofan : 100%|██████████| 1/1 [00:00<00:00, 285.15it/s]\n"
     ]
    }
   ],
   "source": [
    "from tqdm import tqdm\n",
    "#import Counter\n",
    "\n",
    "#P = Pseudofan(ample_segment)\n",
    "P = Pseudofan(face_B6)\n",
    "\n",
    "def remove_cones(pseudofan, cones_list, cap = None):\n",
    "    pbar = tqdm(cones_list)\n",
    "    for cone in pbar:\n",
    "        pseudofan.remove(cone)\n",
    "        pbar.set_description(f'{len(pseudofan.cones)} cones in pseudofan ')\n",
    "        if cap:\n",
    "            P.cones = P.cones[:cap]\n",
    "        \n",
    "#remove_cones(P, filtered_cones)\n",
    "#remove_cones(P, cones[::-1], cap=100)\n",
    "remove_cones(P, [face_B6])"
   ]
  },
  {
   "cell_type": "code",
   "execution_count": 57,
   "metadata": {},
   "outputs": [
    {
     "data": {
      "text/plain": [
       "N(0, 1,  0,  0,  0,  0,  0),\n",
       "N(1, 0, -1,  0,  0, -1,  0),\n",
       "N(1, 0,  0, -1,  0, -1,  0),\n",
       "N(1, 0,  0,  0, -1, -1,  0),\n",
       "N(1, 0,  0,  0,  0, -1, -1),\n",
       "N(2, 0, -1, -1, -1, -1, -1)\n",
       "in 7-d lattice N"
      ]
     },
     "execution_count": 57,
     "metadata": {},
     "output_type": "execute_result"
    }
   ],
   "source": [
    "P.cones[0].rays()"
   ]
  },
  {
   "cell_type": "code",
   "execution_count": 52,
   "metadata": {},
   "outputs": [
    {
     "name": "stderr",
     "output_type": "stream",
     "text": [
      "UsageError: Line magic function `%pip` not found.\n"
     ]
    }
   ],
   "source": [
    "import sys\n",
    "!{sys.executable} -m pip install tqdm"
   ]
  },
  {
   "cell_type": "code",
   "execution_count": 59,
   "metadata": {},
   "outputs": [
    {
     "name": "stderr",
     "output_type": "stream",
     "text": [
      "100%|██████████| 174/174 [00:07<00:00, 24.15it/s]\n"
     ]
    }
   ],
   "source": [
    "bad_rays = [sum(c.rays()) for c in P.cones]\n",
    "pbar = tqdm(bad_rays)\n",
    "#pbar.set_description(\"Processing %s\" % char)\n",
    "for ray in pbar:\n",
    "    if not any(c.contains(ray) for c in cones):\n",
    "        print(ray)"
   ]
  },
  {
   "cell_type": "code",
   "execution_count": 68,
   "metadata": {},
   "outputs": [
    {
     "data": {
      "text/plain": [
       "Counter({7: 1})"
      ]
     },
     "execution_count": 68,
     "metadata": {},
     "output_type": "execute_result"
    }
   ],
   "source": [
    "from collections import Counter\n",
    "Counter([c.dim() for c in P.cones])"
   ]
  },
  {
   "cell_type": "code",
   "execution_count": 73,
   "metadata": {},
   "outputs": [
    {
     "name": "stdout",
     "output_type": "stream",
     "text": [
      "N(1, 0, 0),\n",
      "N(1, 1, 1),\n",
      "N(1, 1, 0)\n",
      "in 3-d lattice N\n",
      "N(0, 1, 0),\n",
      "N(1, 1, 0),\n",
      "N(1, 1, 1)\n",
      "in 3-d lattice N\n"
     ]
    }
   ],
   "source": [
    "N = ToricLattice(3)\n",
    "e1, e2, e3 = N([1,0,0]), N([0,1,0]), N([0,0,1])\n",
    "r = e1+e2+e3\n",
    "P3 = Pseudofan(Cone([e1,e2,e3]))\n",
    "P3.remove(Cone([r,e2,e3]))\n",
    "P3.remove(Cone([e1,r,e3]))\n",
    "P3.remove(Cone([e1,r,r]))\n",
    "for c in P3.cones:\n",
    "    print(c.rays())"
   ]
  },
  {
   "cell_type": "code",
   "execution_count": 77,
   "metadata": {},
   "outputs": [
    {
     "name": "stderr",
     "output_type": "stream",
     "text": [
      "56 cones in pseudofan : 100%|██████████| 432/432 [01:27<00:00,  4.96it/s]\n"
     ]
    }
   ],
   "source": [
    "remove_cones(P, cones, cap=100)"
   ]
  },
  {
   "cell_type": "code",
   "execution_count": 83,
   "metadata": {},
   "outputs": [],
   "source": [
    "baddest_ray = sum(P.cones[0].rays())"
   ]
  },
  {
   "cell_type": "markdown",
   "metadata": {},
   "source": [
    "Этот конус содержится в обильном конусе, но ни в одном из конусов цилиндров\n",
    "```\n",
    "N(20, -10, -5, -3, -2, -1, -1),\n",
    "N(12,  -6, -3, -2, -1, -1,  0),\n",
    "N( 8,  -4, -2, -1, -1,  0,  0),\n",
    "N( 4,  -2, -1, -1,  0,  0,  0),\n",
    "N( 1,  -1,  0,  0,  0,  0,  0),\n",
    "N( 4,  -2, -1,  0,  0,  0,  0),\n",
    "N( 2,  -1, -1,  0,  0,  0,  0)\n",
    "in 7-d lattice N\n",
    "```\n",
    "Его внутренний вектор - `N(51, -26, -13, -7, -4, -2, -1)`"
   ]
  },
  {
   "cell_type": "code",
   "execution_count": 85,
   "metadata": {},
   "outputs": [
    {
     "data": {
      "text/plain": [
       "False"
      ]
     },
     "execution_count": 85,
     "metadata": {},
     "output_type": "execute_result"
    }
   ],
   "source": [
    "any(cone.interior_contains(baddest_ray) for cone in cones)"
   ]
  },
  {
   "cell_type": "code",
   "execution_count": 44,
   "metadata": {},
   "outputs": [],
   "source": [
    "from collections import Counter\n",
    "# вычисляем типы граней\n",
    "dot = lambda a, b: a*Q*b\n",
    "gram_matrix = lambda rays: matrix([[dot(a,b) for a in rays] for b in rays])\n",
    "def face_type(face):\n",
    "    m = gram_matrix(face.rays())\n",
    "    eigenvalues = Counter(m.eigenvalues())\n",
    "    if eigenvalues[-2]==5 and eigenvalues[0]==5:\n",
    "        return \"C\"\n",
    "    assert len(eigenvalues.keys())==1\n",
    "    return f\"B({eigenvalues[-1]})\"\n",
    "\n",
    "face_B6 = effective_cone.faces()[6][-1]\n",
    "face_B5 = effective_cone.faces()[5][-1]\n",
    "face_B4 = effective_cone.faces()[4][-1]\n",
    "face_B3 = effective_cone.faces()[3][-1]\n",
    "face_B2 = effective_cone.faces()[2][-1]\n",
    "face_B1 = effective_cone.faces()[1][-1]\n",
    "face_C = effective_cone.faces()[6][0]\n",
    "\n",
    "assert face_type(face_C) == \"C\"\n",
    "assert face_type(face_B6) == \"B(6)\"\n"
   ]
  },
  {
   "cell_type": "code",
   "execution_count": 25,
   "metadata": {},
   "outputs": [
    {
     "data": {
      "text/plain": [
       "2"
      ]
     },
     "execution_count": 25,
     "metadata": {},
     "output_type": "execute_result"
    }
   ],
   "source": []
  },
  {
   "cell_type": "code",
   "execution_count": null,
   "metadata": {},
   "outputs": [],
   "source": []
  }
 ],
 "metadata": {
  "kernelspec": {
   "display_name": "SageMath 9.1.rc1",
   "language": "sage",
   "name": "sagemath"
  },
  "language_info": {
   "codemirror_mode": {
    "name": "ipython",
    "version": 3
   },
   "file_extension": ".py",
   "mimetype": "text/x-python",
   "name": "python",
   "nbconvert_exporter": "python",
   "pygments_lexer": "ipython3",
   "version": "3.7.3"
  }
 },
 "nbformat": 4,
 "nbformat_minor": 4
}
