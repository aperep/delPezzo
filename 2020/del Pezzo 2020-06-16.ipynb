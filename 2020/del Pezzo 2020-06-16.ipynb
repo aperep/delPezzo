{
 "cells": [
  {
   "cell_type": "code",
   "execution_count": 1,
   "metadata": {},
   "outputs": [
    {
     "name": "stdout",
     "output_type": "stream",
     "text": [
      "Requirement already satisfied: tqdm in /home/sage/sage/local/lib/python3.7/site-packages (4.46.1)\n"
     ]
    }
   ],
   "source": [
    "# installs\n",
    "\n",
    "#!{sys.executable} -m pip install tqdm\n",
    "\n",
    "# ниже - неудачная попытка отрисовать в three.js\n",
    "#!curl -sL https://deb.nodesource.com/setup_12.x | sudo -E bash -\n",
    "#!sudo apt update\n",
    "#!sudo apt install -y nodejs\n",
    "#!{sys.executable} -m pip install nodejs\n",
    "#!{sys.executable} -m pip install pythreejs\n",
    "# теперь можно слева во вкладе extensions установить jupyterlab-manager и threejs"
   ]
  },
  {
   "cell_type": "code",
   "execution_count": 2,
   "metadata": {},
   "outputs": [],
   "source": [
    "# imports\n",
    "import sys\n",
    "import tqdm\n",
    "from collections import Counter\n",
    "import itertools"
   ]
  },
  {
   "cell_type": "code",
   "execution_count": 5,
   "metadata": {},
   "outputs": [],
   "source": [
    "N = ToricLattice(7)\n",
    "K = N([-3, 1, 1, 1, 1, 1, 1]) # canonical divisor\n",
    "E = identity_matrix(QQ, 7)[:,1:].columns() # E is the set of exceptional curves, so the basis is L, E[0], .. , E[5]\n",
    "Line = lambda exceptionals : (-K + sum(exceptionals)) / 3\n",
    "L = Line(E)\n",
    "\n",
    "\n",
    "\n",
    "Q = diagonal_matrix([1]+6*[-1])\n",
    "dot = lambda a, b: a*Q*b\n",
    "gram_matrix = lambda rays: matrix([[dot(a,b) for a in rays] for b in rays])\n",
    "\n",
    "minus_one_curves = E + [L-ei-ej for ei,ej in itertools.combinations(E, 2)] + [-K-L+e for e in E]\n",
    "\n",
    "# take one Fujita face for each isomorphism class (determined by CPW, may check explicitly later)\n",
    "# and turn them into subcones in Mori cone by adding -K\n",
    "Fujita_cone_examples = {label:Cone(rays+[-K]) for label,rays in {\n",
    "        'B6': E,\n",
    "        'B5': E[:5],\n",
    "        'B5P1': E[:4]+[L-E[4]-E[5]], # B(5) for P1xP1. Another type of independent set of 5 (-1)-curves, this one is maximal\n",
    "        'B4': E[:4],\n",
    "        'B3': E[:3],\n",
    "        'B2': E[:2],\n",
    "        'B1': E[:1],\n",
    "        'C6': E[:5]+[L-E[5]-e for e in E[:5]], # C(6). Schlafli graph is 4-ultrahomogeneous, and, after fixing two pairs, three others are defined uniquely\n",
    "    }.items()}\n",
    "\n",
    "is_covered_by = lambda cone1, cone2: all(cone2.contains(ray) for ray in cone1.rays()) and cone2.interior_contains(sum(cone1.rays()))\n",
    "\n",
    "def independent_sets(vectors, size = 6):\n",
    "    if size == 0:\n",
    "        yield []\n",
    "    for i, v in enumerate(vectors):\n",
    "        orthogonals = [v2 for v2 in vectors[i+1:] if dot(v, v2)==0]\n",
    "        for subset in independent_sets(orthogonals, size-1):\n",
    "            yield subset + [v]\n",
    "\n",
    "#cylinder1 = lambda E : E + [Line(E)-E[-1], -K-Line(E)+E[-1]]   \n",
    "def cylinder2(E, e):\n",
    "    '''\n",
    "    E is a list of exceptional curves, and e is one of them\n",
    "    returns rays of the cone of divisors H such that the cylinder (P^2 minus conic through E-e and tangent line through e) is H-polar\n",
    "    '''\n",
    "    tangent = Line(E) - E[-1]\n",
    "    conic = - K - tangent\n",
    "    return E+[tangent,conic]\n",
    "\n",
    "def cylinder1(E,e):\n",
    "    \"\"\"\n",
    "    cylinder complement to E and lines through blowdowns of e and one of E-e\n",
    "    \"\"\"\n",
    "    return E+[Line(E)-e-f for f in E if f!=e]\n",
    "\n",
    "\n",
    "\n",
    "def cylinder_cones(cylinder=cylinder2):\n",
    "    '''\n",
    "    returns a list of cones of compatible divisors for cylinders of considered type\n",
    "    '''\n",
    "    for blowdown in independent_sets(minus_one_curves):\n",
    "        for e in blowdown:\n",
    "            yield Cone(cylinder(blowdown,e))\n"
   ]
  },
  {
   "cell_type": "code",
   "execution_count": 7,
   "metadata": {},
   "outputs": [],
   "source": [
    "# setting cones\n",
    "\n",
    "cones = [cone for cone in cylinder_cones()]\n",
    "effective_cone = Cone(minus_one_curves)\n",
    "ample_cone = Cone([Q*ray for ray in effective_cone.dual().rays()])\n",
    "\n",
    "minkowski_sum = lambda cones : Cone([ray for cone in cones for ray in cone.rays()])\n",
    "contains_ample = lambda cone : all(cone.contains(ray) for ray in ample_cone.rays())\n",
    "is_subcone = lambda cone1, cone2 : all(cone2.contains(ray) for ray in cone1.rays())\n"
   ]
  },
  {
   "cell_type": "code",
   "execution_count": 8,
   "metadata": {},
   "outputs": [
    {
     "name": "stdout",
     "output_type": "stream",
     "text": [
      "True\n"
     ]
    },
    {
     "ename": "NameError",
     "evalue": "name 'ray' is not defined",
     "output_type": "error",
     "traceback": [
      "\u001b[0;31m---------------------------------------------------------------------------\u001b[0m",
      "\u001b[0;31mNameError\u001b[0m                                 Traceback (most recent call last)",
      "\u001b[0;32m<ipython-input-8-522256b9a59b>\u001b[0m in \u001b[0;36m<module>\u001b[0;34m()\u001b[0m\n\u001b[1;32m      4\u001b[0m \u001b[0mprint\u001b[0m\u001b[0;34m(\u001b[0m\u001b[0meffective_cone\u001b[0m\u001b[0;34m.\u001b[0m\u001b[0mcontains\u001b[0m\u001b[0;34m(\u001b[0m\u001b[0mbadray\u001b[0m\u001b[0;34m)\u001b[0m\u001b[0;34m)\u001b[0m\u001b[0;34m\u001b[0m\u001b[0;34m\u001b[0m\u001b[0m\n\u001b[1;32m      5\u001b[0m \u001b[0;32mfor\u001b[0m \u001b[0mface\u001b[0m \u001b[0;32min\u001b[0m \u001b[0meffective_cone\u001b[0m\u001b[0;34m.\u001b[0m\u001b[0mfaces\u001b[0m\u001b[0;34m(\u001b[0m\u001b[0;34m)\u001b[0m\u001b[0;34m[\u001b[0m\u001b[0mInteger\u001b[0m\u001b[0;34m(\u001b[0m\u001b[0;36m6\u001b[0m\u001b[0;34m)\u001b[0m\u001b[0;34m]\u001b[0m\u001b[0;34m:\u001b[0m\u001b[0;34m\u001b[0m\u001b[0;34m\u001b[0m\u001b[0m\n\u001b[0;32m----> 6\u001b[0;31m     \u001b[0mintersection\u001b[0m \u001b[0;34m=\u001b[0m \u001b[0mface\u001b[0m\u001b[0;34m.\u001b[0m\u001b[0mintersection\u001b[0m\u001b[0;34m(\u001b[0m\u001b[0mCone\u001b[0m\u001b[0;34m(\u001b[0m\u001b[0;34m[\u001b[0m\u001b[0mray\u001b[0m\u001b[0;34m,\u001b[0m\u001b[0mK\u001b[0m\u001b[0;34m]\u001b[0m\u001b[0;34m)\u001b[0m\u001b[0;34m)\u001b[0m\u001b[0;34m\u001b[0m\u001b[0;34m\u001b[0m\u001b[0m\n\u001b[0m\u001b[1;32m      7\u001b[0m     \u001b[0;32mif\u001b[0m \u001b[0mintersection\u001b[0m\u001b[0;34m.\u001b[0m\u001b[0mdim\u001b[0m\u001b[0;34m(\u001b[0m\u001b[0;34m)\u001b[0m \u001b[0;34m==\u001b[0m \u001b[0mInteger\u001b[0m\u001b[0;34m(\u001b[0m\u001b[0;36m0\u001b[0m\u001b[0;34m)\u001b[0m\u001b[0;34m:\u001b[0m\u001b[0;34m\u001b[0m\u001b[0;34m\u001b[0m\u001b[0m\n\u001b[1;32m      8\u001b[0m         \u001b[0;32mcontinue\u001b[0m\u001b[0;34m\u001b[0m\u001b[0;34m\u001b[0m\u001b[0m\n",
      "\u001b[0;31mNameError\u001b[0m: name 'ray' is not defined"
     ]
    }
   ],
   "source": [
    "# studying bad ray\n",
    "N = ToricLattice(7)\n",
    "badray = N(51, -26, -13, -7, -4, -2, -1)\n",
    "print(effective_cone.contains(badray))\n",
    "for face in effective_cone.faces()[6]:\n",
    "    intersection = face.intersection(Cone([ray,K]))\n",
    "    if intersection.dim() == 0:\n",
    "        continue\n",
    "    else:\n",
    "        break\n",
    "print(intersection.rays())\n",
    "print(face.rays())\n",
    "ray = intersection.rays()[0]\n",
    "print(face.relative_interior_contains(ray))\n",
    "e1, e2, e3, e4, e5, f1 = face.rays()[:6]\n",
    "b = e1 + f1\n",
    "R = 63*e1 + 59*e2 + 54*e3 + 50*e4 + 19*e5\n",
    "print(R)\n",
    "any(cone.interior_contains(badray) for cone in cones)\n",
    "# its Fujita face is spanned by rays L-E1-Ej and L-\\sum(Ei)+Ej, where j=2..6, the class K+\\mu*H equals ray/12.\n",
    "# they comprise 5 pairs \n",
    "# its Fujita map is of type C(6)"
   ]
  },
  {
   "cell_type": "code",
   "execution_count": null,
   "metadata": {},
   "outputs": [],
   "source": [
    "\n",
    "# вычисляем типы граней\n",
    "def face_type(face):\n",
    "    m = gram_matrix(face.rays())\n",
    "    eigenvalues = Counter(m.eigenvalues())\n",
    "    if eigenvalues[-2]==5 and eigenvalues[0]==5:\n",
    "        return \"C\"\n",
    "    if len(eigenvalues.keys())!=1:\n",
    "        print('ERROR face_type, eigenvalues: ',eigenvalues)\n",
    "    return f\"B{eigenvalues[-1]}\"\n",
    "\n",
    "Fujita_face = lambda dim, num: effective_cone.faces()[dim][num]\n",
    "face_of_type = {\n",
    "    'B6': Fujita_face(6,-1),\n",
    "    'B5': Fujita_face(5,-1), # в B(5) два разных случая: набор из 5 непересекающихся -1-прямых может быть максимальным\n",
    "    'B4': Fujita_face(4,-1),\n",
    "    'B3': Fujita_face(3,-1),\n",
    "    'B2': Fujita_face(2,-1),\n",
    "    'B1': Fujita_face(1,-1),\n",
    "    'C': Fujita_face(6,0),\n",
    "}\n",
    "assert face_type(face_of_type[\"C\"]) == \"C\"\n",
    "assert face_type(face_of_type[\"B6\"]) == \"B6\"\n",
    "\n",
    "\n",
    "Fujita_face_examples = [\n",
    "    \n",
    "]\n",
    "\n",
    "cone_of_type = {label : Cone(list(face.rays())+[-K]) for label, face in face_of_type.items()}\n",
    "\n"
   ]
  },
  {
   "cell_type": "code",
   "execution_count": null,
   "metadata": {},
   "outputs": [],
   "source": [
    "ample_cone.dual().rays()\n",
    "symmetries = [tuple(1 if i==j else -1 if i==j+1 else 0 for j in range(7)) for i in range(2,7)]\n",
    "ample_segment = Cone(list(ample_cone.dual().rays())+symmetries).dual()"
   ]
  },
  {
   "cell_type": "code",
   "execution_count": null,
   "metadata": {},
   "outputs": [],
   "source": [
    "# dissections \n",
    "\n",
    "dissecting_planes = lambda cones : [ray for cone in cones for ray in cone.dual().rays() if not ample_segment.dual().contains(ray)]\n",
    "\n",
    "def dissect_with_plane(cones, plane):\n",
    "    dissected = []\n",
    "    for cone in cones:\n",
    "        #print(f'dissecting with plane, {len(dissected)} cones')\n",
    "        if cone.dual().contains(plane) or cone.dual().contains(-plane):\n",
    "            dissected.append(cone)\n",
    "        else:\n",
    "            dual_rays = list(cone.dual().rays())\n",
    "            positive_part = Cone(dual_rays + [plane]).dual()\n",
    "            negative_part = Cone(dual_rays + [-plane]).dual()\n",
    "            dissected.append(positive_part)            \n",
    "            dissected.append(negative_part)            \n",
    "    return dissected\n",
    "\n",
    "def dissect_with_planes(cones, planes):\n",
    "    dissected = cones\n",
    "    for i,p in enumerate(planes):\n",
    "        print(f'dissecting with {i}-th plane of {len(planes)}, {len(dissected)} cones')\n",
    "        dissected = dissect_with_plane(dissected, p)\n",
    "    return dissected\n",
    "\n",
    "dissects = lambda cone, plane: not( cone.dual().contains(plane) or cone.dual().contains(-plane) )\n",
    "\n",
    "\n",
    "def halves(cone, plane):\n",
    "    dual_rays = list(cone.dual().rays())\n",
    "    negative_part = Cone(dual_rays + [-plane]).dual()\n",
    "    positive_part = Cone(dual_rays + [plane]).dual()\n",
    "    return negative_part, positive_part\n",
    "\n",
    "def dissect_wrt(dissected_cone, dissecting_cone): # intersection is returned separately\n",
    "    parts = []\n",
    "    remainder = dissected_cone\n",
    "    for plane in dissecting_cone.dual().rays():\n",
    "        if not dissects(remainder, plane):\n",
    "            continue\n",
    "        negative_part, positive_part = halves(remainder, plane)\n",
    "        parts.append(negative_part)\n",
    "        remainder = positive_part\n",
    "    if remainder.intersection(dissecting_cone).is_solid():\n",
    "        return parts, remainder\n",
    "    else:\n",
    "        parts.append(remainder)    \n",
    "        return parts, None\n",
    "\n",
    "#[c.rays() for c in dissect_wrt(Cone([[1,0],[0,1]]),Cone([[1,1],[-1,1]]))]\n",
    "\n",
    "class Pseudofan: # solid version\n",
    "    def __init__(self, cone):\n",
    "        self.cones = [cone]\n",
    "        #for cone in cones:\n",
    "        #    self.append(cone)\n",
    "    \n",
    "    def remove(self, cone):\n",
    "        #print('removing cone\\n',cone.rays())\n",
    "        outer_parts = [dissect_wrt(old, cone)[0] for old in self.cones]\n",
    "        #print('outer parts\\n', outer_parts)\n",
    "        self.cones  = list(itertools.chain(*outer_parts))\n",
    "        #print('cones\\n', self.cones)\n",
    "\n",
    "    def intersect(self, cone):\n",
    "        intersections = [cone.intersection(old) for old in self.cones]\n",
    "        self.cones = [c for c in intersections if c.is_solid()]\n",
    "\n",
    "\n",
    "def remove_cones(pseudofan, cones_list, cap = None):\n",
    "    pbar = tqdm(cones_list)\n",
    "    for cone in pbar:\n",
    "        pseudofan.remove(cone)\n",
    "        pbar.set_description(f'{len(pseudofan.cones)} cones in pseudofan ')\n",
    "        if cap:\n",
    "            P.cones = P.cones[:cap]"
   ]
  },
  {
   "cell_type": "code",
   "execution_count": null,
   "metadata": {},
   "outputs": [],
   "source": [
    "C1, C2 = Cone([[1,0],[0,1]]), Cone([[1,1],[-1,1]])\n",
    "#F1, F2 = Fan([C1]), Fan([C2])\n",
    "#F1.common_refinement(F2)\n",
    "P = Pseudofan(C2)\n",
    "P.remove(C1)\n",
    "P.remove(C2)\n",
    "for c in P.cones:\n",
    "    print(c.rays())    "
   ]
  },
  {
   "cell_type": "code",
   "execution_count": null,
   "metadata": {},
   "outputs": [],
   "source": [
    "P = Pseudofan(ample_segment)        \n",
    "remove_cones(P, filtered_cones)\n",
    "remove_cones(P, cones[::-1], cap=100)\n",
    "Counter([c.dim() for c in P.cones])\n",
    "bad_rays = [sum(c.rays()) for c in P.cones]\n",
    "pbar = tqdm(bad_rays)\n",
    "#pbar.set_description(\"Processing %s\" % char)\n",
    "for ray in pbar:\n",
    "    if not any(c.contains(ray) for c in cones):\n",
    "        print(ray)"
   ]
  },
  {
   "cell_type": "code",
   "execution_count": null,
   "metadata": {},
   "outputs": [],
   "source": [
    "N = ToricLattice(3)\n",
    "e1, e2, e3 = N([1,0,0]), N([0,1,0]), N([0,0,1])\n",
    "r = e1+e2+e3\n",
    "P3 = Pseudofan(Cone([e1,e2,e3]))\n",
    "P3.remove(Cone([r,e2,e3]))\n",
    "P3.remove(Cone([e1,r,e3]))\n",
    "P3.remove(Cone([e1,r,r]))\n",
    "for c in P3.cones:\n",
    "    print(c.rays())\n",
    "    #c.plot().show()"
   ]
  },
  {
   "cell_type": "code",
   "execution_count": null,
   "metadata": {},
   "outputs": [],
   "source": [
    "#print(cone_of_type['B6'].rays())\n",
    "[cone.rays() for cone in cones if is_subcone(cone_of_type['B5'],cone)]"
   ]
  },
  {
   "cell_type": "code",
   "execution_count": null,
   "metadata": {},
   "outputs": [],
   "source": [
    "curves = [E[1], E[2], L-E[0]-E[1], L-E[0]-E[2]]\n",
    "[c for c in minus_one_curves() if all(dot(c,e)==0 for e in curves)]"
   ]
  },
  {
   "cell_type": "code",
   "execution_count": null,
   "metadata": {},
   "outputs": [],
   "source": [
    "is_covered_by = lambda cone1, cone2: all(cone2.contains(ray) for ray in cone1.rays()) and cone2.interior_contains(sum(cone1.rays()))\n",
    "#[cone.rays() for cone in cones if Fujita_cone_examples['B5P1'].intersection(cone).dim()]\n",
    "remove_cones(Pseudofan(Fujita_cone_examples['B5P1']), cones)\n"
   ]
  },
  {
   "cell_type": "code",
   "execution_count": null,
   "metadata": {},
   "outputs": [],
   "source": [
    "A=Fujita_cone_examples['B5P1']\n",
    "A.intersection(A)\n",
    "A.dim()\n"
   ]
  },
  {
   "cell_type": "code",
   "execution_count": null,
   "metadata": {},
   "outputs": [],
   "source": []
  }
 ],
 "metadata": {
  "kernelspec": {
   "display_name": "SageMath 9.1.rc1",
   "language": "sage",
   "name": "sagemath"
  },
  "language_info": {
   "codemirror_mode": {
    "name": "ipython",
    "version": 3
   },
   "file_extension": ".py",
   "mimetype": "text/x-python",
   "name": "python",
   "nbconvert_exporter": "python",
   "pygments_lexer": "ipython3",
   "version": "3.7.3"
  }
 },
 "nbformat": 4,
 "nbformat_minor": 4
}
