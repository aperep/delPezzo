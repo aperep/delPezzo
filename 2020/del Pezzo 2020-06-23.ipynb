{
 "cells": [
  {
   "cell_type": "code",
   "execution_count": 1,
   "metadata": {},
   "outputs": [
    {
     "name": "stdout",
     "output_type": "stream",
     "text": [
      "Requirement already satisfied: tqdm in /home/sage/sage/local/lib/python3.7/site-packages (4.46.1)\n"
     ]
    }
   ],
   "source": [
    "# installs\n",
    "\n",
    "#!{sys.executable} -m pip install tqdm\n",
    "\n",
    "# ниже - неудачная попытка отрисовать в three.js\n",
    "#!curl -sL https://deb.nodesource.com/setup_12.x | sudo -E bash -\n",
    "#!sudo apt update\n",
    "#!sudo apt install -y nodejs\n",
    "#!{sys.executable} -m pip install nodejs\n",
    "#!{sys.executable} -m pip install pythreejs\n",
    "# теперь можно слева во вкладе extensions установить jupyterlab-manager и threejs"
   ]
  },
  {
   "cell_type": "code",
   "execution_count": 2,
   "metadata": {},
   "outputs": [],
   "source": [
    "# imports\n",
    "import sys\n",
    "import tqdm\n",
    "from collections import Counter\n",
    "import itertools"
   ]
  },
  {
   "cell_type": "code",
   "execution_count": 86,
   "metadata": {},
   "outputs": [],
   "source": [
    "N = ToricLattice(7)\n",
    "K = N([-3, 1, 1, 1, 1, 1, 1]) # canonical divisor\n",
    "E = identity_matrix(QQ, 7)[:,1:].columns() # E is the set of exceptional curves, so the basis is L, E[0], .. , E[5]\n",
    "Line = lambda exceptionals : (-K + sum(exceptionals)) / 3\n",
    "L = Line(E)\n",
    "\n",
    "\n",
    "\n",
    "Q = diagonal_matrix([1]+6*[-1])\n",
    "dot = lambda a, b: a*Q*b\n",
    "gram_matrix = lambda rays: matrix([[dot(a,b) for a in rays] for b in rays])\n",
    "\n",
    "minus_one_curves = E + [L-ei-ej for ei,ej in itertools.combinations(E, 2)] + [-K-L+e for e in E]\n",
    "disjoint_curves = lambda curves: [c for c in minus_one_curves if all(dot(c,c2)==0 for c2 in curves)]\n",
    "\n",
    "NE = Cone(minus_one_curves)\n",
    "Ample = Cone([Q*ray for ray in NE.dual().rays()])\n",
    "\n",
    "\n",
    "# take one Fujita face for each isomorphism class (determined by CPW, may check explicitly later)\n",
    "# and turn them into subcones in Mori cone by adding -K\n",
    "\n",
    "Fujita_face_rays_examples = {\n",
    "        'B6': E,\n",
    "        'B5': E[:5],\n",
    "        'B5PP': E[:4]+[L-E[4]-E[5]], # B(5) for P1xP1. Another type of independent set of 5 (-1)-curves, this one is maximal\n",
    "        'B4': E[:4],\n",
    "        'B3': E[:3],\n",
    "        'B2': E[:2],\n",
    "        'B1': E[:1],\n",
    "        #'C6': E[:5]+[L-E[5]-e for e in E[:5]], # C(6). Schlafli graph is 4-ultrahomogeneous, and, after fixing two pairs, three others are defined uniquely\n",
    "        'C6B5': E[:5]+[L-E[5]], # здесь и ниже - части C6, из подобных которым складывается весь С6 \n",
    "        'C6B4': E[:4]+[L-E[5]],\n",
    "        'C6B3': E[:3]+[L-E[5]],\n",
    "        'C6B2': E[:2]+[L-E[5]],\n",
    "        'C6B1': E[:1]+[L-E[5]],\n",
    "        'C6B0': E[:0]+[L-E[5]],\n",
    "        'C6PP': E[:4]+[L-E[5]-E[4], L-E[5]],\n",
    "    }\n",
    "Fujita_cone_examples = {label:Cone(rays+[-K]).intersection(Ample) for label,rays in Fujita_face_rays_examples.items()}\n",
    "\n",
    "\n",
    "# вычисляем типы граней\n",
    "def face_type(face):\n",
    "    m = gram_matrix(face.rays())\n",
    "    eigenvalues = Counter(m.eigenvalues())\n",
    "    #print(eigenvalues)\n",
    "    if eigenvalues[-2]==5 and eigenvalues[0]==5:\n",
    "        return \"C\"\n",
    "    if len(eigenvalues.keys())!=1:\n",
    "        print('ERROR face_type, eigenvalues: ',eigenvalues)\n",
    "    if eigenvalues[-1]==5:\n",
    "        if all(all(dot(curve,e)==0 for e in face.rays())==False for curve in minus_one_curves):\n",
    "            return \"B5PP\" \n",
    "    return f\"B{eigenvalues[-1]}\"\n",
    "\n",
    "assert face_type(Cone(Fujita_face_rays_examples['B5PP'])) == 'B5PP'\n",
    "\n",
    "is_covered_by = lambda cone1, cone2: all(cone2.contains(ray) for ray in cone1.rays()) and cone2.interior_contains(sum(cone1.rays()))\n",
    "\n",
    "def independent_sets(vectors, size = 6):\n",
    "    if size == 0:\n",
    "        yield []\n",
    "    for i, v in enumerate(vectors):\n",
    "        orthogonals = [v2 for v2 in vectors[i+1:] if dot(v, v2)==0]\n",
    "        for subset in independent_sets(orthogonals, size-1):\n",
    "            yield subset + [v]\n",
    "\n",
    "#cylinder1 = lambda E : E + [Line(E)-E[-1], -K-Line(E)+E[-1]]   \n",
    "def cylinder2(E):\n",
    "    '''\n",
    "    E is a list of exceptional curves, and e is one of them\n",
    "    returns \n",
    "    1. list of rays of the cone of divisors H such that the cylinder (P^2 minus conic through E-e and tangent line through e) is H-polar\n",
    "    2. list of (-1)-curves lying in the complement of the cylinder (or a union of cylinders if many)\n",
    "    '''\n",
    "    for e in E:\n",
    "        tangent = Line(E) - e\n",
    "        conic = - K - tangent\n",
    "        curves = E+[conic]\n",
    "        yield curves + [tangent], curves\n",
    "\n",
    "def cylinder1(E):\n",
    "    \"\"\"\n",
    "    cylinder complement to E and lines through blowdowns of e and one of E-e\n",
    "    \"\"\"\n",
    "    for e in E:\n",
    "        curves = E+[Line(E)-e-f for f in E if f!=e]\n",
    "        yield curves, curves\n",
    "\n",
    "def cylinder_P1(E):\n",
    "    '''\n",
    "    CPW Example 4.1.6 and Lemma 4.2.2 for contraction of E1..E4, L-E5-E6.\n",
    "    '''\n",
    "    for i,j in itertools.permutations(range(len(E)),int(2)):\n",
    "        complement = [k for k in range(len(E)) if (k!=i) and (k!=j)]\n",
    "        conic = -K-Line(E)+E[i]\n",
    "        curves = [E[k] for k in complement]+[Line(E)-E[i]-E[j], conic]\n",
    "        yield curves + [Line(E)-E[i],Line(E)-E[j]], curves\n",
    "\n",
    "def cylinder_cones(cylinder=cylinder2):\n",
    "    '''\n",
    "    returns a list of cones of compatible divisors for cylinders of considered type\n",
    "    '''\n",
    "    for blowdown in independent_sets(minus_one_curves):\n",
    "        for ray_list,_ in cylinder(blowdown):\n",
    "            yield Cone(ray_list)\n"
   ]
  },
  {
   "cell_type": "code",
   "execution_count": 7,
   "metadata": {},
   "outputs": [],
   "source": [
    "# setting cones\n",
    "\n",
    "cones = [cone for cone in cylinder_cones()] + [cone for cone in cylinder_cones(cylinder1)] + [cone for cone in cylinder_cones(cylinder_P1)]\n",
    "\n",
    "#symmetries = [tuple(1 if i==j else -1 if i==j+1 else 0 for j in range(7)) for i in range(2,7)]\n",
    "#ample_segment = Cone(list(ample_cone.dual().rays())+symmetries).dual()\n",
    "\n",
    "#minkowski_sum = lambda cones : Cone([ray for cone in cones for ray in cone.rays()])\n",
    "#contains_ample = lambda cone : all(cone.contains(ray) for ray in ample_cone.rays())\n",
    "#is_subcone = lambda cone1, cone2 : all(cone2.contains(ray) for ray in cone1.rays())\n"
   ]
  },
  {
   "cell_type": "code",
   "execution_count": 87,
   "metadata": {},
   "outputs": [
    {
     "name": "stdout",
     "output_type": "stream",
     "text": [
      "B6 [0, 1, 2, 3, 4, 5]\n",
      "B5 [0, 1, 2, 3, 4, 5]\n",
      "B5PP [864, 869, 900, 905, 930, 935, 1020, 1025, 1350, 1355]\n",
      "B4 [2, 3, 4, 5]\n",
      "B3 [3, 4, 5, 9, 10, 11]\n",
      "B2 [4, 5, 10, 11, 16, 17, 22, 23, 28, 29, 71, 137]\n",
      "B1 [5, 11, 17, 23, 29, 35, 41, 47, 53, 59, 65, 71, 77, 83, 89, 95]\n",
      "C6B5 [0]\n",
      "C6B4 [869, 900, 930, 1020, 1350]\n",
      "C6B3 [869, 874, 895, 900, 930, 960, 1020, 1050, 1350, 1380]\n",
      "C6B2 [28, 29, 71, 137, 869, 874, 879, 895, 900, 911, 925, 930, 941, 955, 960, 971, 1020, 1050, 1110, 1334, 1350, 1380, 1440, 1664]\n",
      "C6B1 [29, 47, 59, 65, 71, 77, 83, 89, 869, 874, 879, 884, 895, 900, 911, 916, 925, 930, 941, 946, 955, 960, 971, 976, 1015, 1020, 1031, 1036, 1045, 1050, 1061, 1066, 1105, 1110, 1121, 1126, 1319, 1324, 1329, 1334, 1350, 1380, 1440, 1664, 1680, 1904, 2084, 2234]\n",
      "C6B0 [869, 874, 879, 884, 889, 895, 900, 911, 916, 921, 925, 930, 941, 946, 951, 955, 960, 971, 976, 981, 1015, 1020, 1031, 1036, 1041, 1045, 1050, 1061, 1066, 1071, 1105, 1110, 1121, 1126, 1131, 1319, 1324, 1329, 1334, 1339, 1345, 1350, 1361, 1366, 1371, 1375, 1380, 1391, 1396, 1401, 1435, 1440, 1451, 1456, 1461, 1649, 1654, 1659, 1664, 1669, 1675, 1680, 1691, 1696, 1701, 1889, 1894, 1899, 1904, 1909, 2069, 2074, 2079, 2084, 2089, 2219, 2224, 2229, 2234, 2239]\n",
      "C6PP [864, 869, 900, 905, 930, 935, 1020, 1025, 1350, 1355]\n"
     ]
    }
   ],
   "source": [
    "shared_cylinders = lambda keys: [i for i,cone in enumerate(cones) if all(is_covered_by(Fujita_cone,cone) for key, Fujita_cone in Fujita_cone_examples.items() if key in keys) ]\n",
    "for k in Fujita_cone_examples.keys():\n",
    "    print(k,shared_cylinders([k]))\n",
    "\n"
   ]
  },
  {
   "cell_type": "code",
   "execution_count": 36,
   "metadata": {},
   "outputs": [
    {
     "name": "stdout",
     "output_type": "stream",
     "text": [
      "['B6', 'B5', 'B4'] [2, 3, 4, 5]\n",
      "['B3', 'B2', 'B1'] [5, 11]\n",
      "['B5PP', 'C6B4', 'C6B3', 'C6B2', 'C6B1', 'C6B0', 'C6PP'] [869, 900, 930, 1020, 1350]\n"
     ]
    }
   ],
   "source": [
    "    \n",
    "k = ['B6','B5','B4']\n",
    "print(k,shared_cylinders(k))\n",
    "\n",
    "k = ['B3','B2','B1']\n",
    "print(k,shared_cylinders(k))\n",
    "\n",
    "k = ['B5PP','C6B4','C6B3','C6B2','C6B1','C6B0','C6PP']\n",
    "print(k,shared_cylinders(k))\n"
   ]
  },
  {
   "cell_type": "code",
   "execution_count": 88,
   "metadata": {},
   "outputs": [
    {
     "name": "stdout",
     "output_type": "stream",
     "text": [
      "B6 0-d cone in 7-d lattice N\n",
      "B5 0-d cone in 7-d lattice N\n",
      "B5PP 0-d cone in 7-d lattice N\n",
      "B4 0-d cone in 7-d lattice N\n",
      "B3 0-d cone in 7-d lattice N\n",
      "B2 0-d cone in 7-d lattice N\n",
      "B1 0-d cone in 7-d lattice N\n",
      "C6B5 6-d cone in 7-d lattice N\n",
      "C6B4 6-d cone in 7-d lattice N\n",
      "C6B3 0-d cone in 7-d lattice N\n",
      "C6B2 0-d cone in 7-d lattice N\n",
      "C6B1 0-d cone in 7-d lattice N\n"
     ]
    },
    {
     "ename": "ValueError",
     "evalue": "lattice must be given explicitly if there are no rays!",
     "output_type": "error",
     "traceback": [
      "\u001b[0;31m---------------------------------------------------------------------------\u001b[0m",
      "\u001b[0;31mValueError\u001b[0m                                Traceback (most recent call last)",
      "\u001b[0;32m<ipython-input-88-364f2bd77c19>\u001b[0m in \u001b[0;36m<module>\u001b[0;34m()\u001b[0m\n\u001b[1;32m     10\u001b[0m \u001b[0;34m\u001b[0m\u001b[0m\n\u001b[1;32m     11\u001b[0m \u001b[0;32mfor\u001b[0m \u001b[0mk\u001b[0m \u001b[0;32min\u001b[0m \u001b[0mFujita_cone_examples\u001b[0m\u001b[0;34m.\u001b[0m\u001b[0mkeys\u001b[0m\u001b[0;34m(\u001b[0m\u001b[0;34m)\u001b[0m\u001b[0;34m:\u001b[0m\u001b[0;34m\u001b[0m\u001b[0;34m\u001b[0m\u001b[0m\n\u001b[0;32m---> 12\u001b[0;31m     \u001b[0mprint\u001b[0m\u001b[0;34m(\u001b[0m\u001b[0mk\u001b[0m\u001b[0;34m,\u001b[0m\u001b[0mcomplement_cone\u001b[0m\u001b[0;34m(\u001b[0m\u001b[0;34m[\u001b[0m\u001b[0mcones\u001b[0m\u001b[0;34m[\u001b[0m\u001b[0mi\u001b[0m\u001b[0;34m]\u001b[0m \u001b[0;32mfor\u001b[0m \u001b[0mi\u001b[0m \u001b[0;32min\u001b[0m \u001b[0mshared_cylinders\u001b[0m\u001b[0;34m(\u001b[0m\u001b[0;34m[\u001b[0m\u001b[0mk\u001b[0m\u001b[0;34m]\u001b[0m\u001b[0;34m)\u001b[0m\u001b[0;34m]\u001b[0m\u001b[0;34m)\u001b[0m\u001b[0;34m)\u001b[0m\u001b[0;34m\u001b[0m\u001b[0;34m\u001b[0m\u001b[0m\n\u001b[0m\u001b[1;32m     13\u001b[0m \u001b[0;31m#def shared_lines(cylinders)\u001b[0m\u001b[0;34m\u001b[0m\u001b[0;34m\u001b[0m\u001b[0;34m\u001b[0m\u001b[0m\n\u001b[1;32m     14\u001b[0m \u001b[0;31m#cones[0].rays()\u001b[0m\u001b[0;34m\u001b[0m\u001b[0;34m\u001b[0m\u001b[0;34m\u001b[0m\u001b[0m\n",
      "\u001b[0;32m<ipython-input-88-364f2bd77c19>\u001b[0m in \u001b[0;36m<lambda>\u001b[0;34m(cylinders)\u001b[0m\n\u001b[1;32m      7\u001b[0m     \u001b[0;32mreturn\u001b[0m \u001b[0mshared_complements\u001b[0m\u001b[0;34m\u001b[0m\u001b[0;34m\u001b[0m\u001b[0m\n\u001b[1;32m      8\u001b[0m \u001b[0;34m\u001b[0m\u001b[0m\n\u001b[0;32m----> 9\u001b[0;31m \u001b[0mcomplement_cone\u001b[0m \u001b[0;34m=\u001b[0m \u001b[0;32mlambda\u001b[0m \u001b[0mcylinders\u001b[0m\u001b[0;34m:\u001b[0m \u001b[0mCone\u001b[0m\u001b[0;34m(\u001b[0m\u001b[0;34m[\u001b[0m\u001b[0mminus_one_curves\u001b[0m\u001b[0;34m[\u001b[0m\u001b[0mi\u001b[0m\u001b[0;34m]\u001b[0m  \u001b[0;32mfor\u001b[0m \u001b[0mi\u001b[0m \u001b[0;32min\u001b[0m \u001b[0mshared_curves\u001b[0m\u001b[0;34m(\u001b[0m\u001b[0mcylinders\u001b[0m\u001b[0;34m)\u001b[0m\u001b[0;34m]\u001b[0m\u001b[0;34m)\u001b[0m\u001b[0;34m.\u001b[0m\u001b[0mintersection\u001b[0m\u001b[0;34m(\u001b[0m\u001b[0mAmple\u001b[0m\u001b[0;34m)\u001b[0m\u001b[0;34m\u001b[0m\u001b[0;34m\u001b[0m\u001b[0m\n\u001b[0m\u001b[1;32m     10\u001b[0m \u001b[0;34m\u001b[0m\u001b[0m\n\u001b[1;32m     11\u001b[0m \u001b[0;32mfor\u001b[0m \u001b[0mk\u001b[0m \u001b[0;32min\u001b[0m \u001b[0mFujita_cone_examples\u001b[0m\u001b[0;34m.\u001b[0m\u001b[0mkeys\u001b[0m\u001b[0;34m(\u001b[0m\u001b[0;34m)\u001b[0m\u001b[0;34m:\u001b[0m\u001b[0;34m\u001b[0m\u001b[0;34m\u001b[0m\u001b[0m\n",
      "\u001b[0;32m/home/sage/sage/local/lib/python3.7/site-packages/sage/geometry/cone.py\u001b[0m in \u001b[0;36mCone\u001b[0;34m(rays, lattice, check, normalize)\u001b[0m\n\u001b[1;32m    441\u001b[0m         \u001b[0;32melse\u001b[0m\u001b[0;34m:\u001b[0m\u001b[0;34m\u001b[0m\u001b[0;34m\u001b[0m\u001b[0m\n\u001b[1;32m    442\u001b[0m             raise ValueError(\n\u001b[0;32m--> 443\u001b[0;31m                 \"lattice must be given explicitly if there are no rays!\")\n\u001b[0m\u001b[1;32m    444\u001b[0m     \u001b[0;32mif\u001b[0m \u001b[0;32mnot\u001b[0m \u001b[0mcheck\u001b[0m \u001b[0;32mor\u001b[0m \u001b[0;32mnot\u001b[0m \u001b[0mrays\u001b[0m\u001b[0;34m:\u001b[0m\u001b[0;34m\u001b[0m\u001b[0;34m\u001b[0m\u001b[0m\n\u001b[1;32m    445\u001b[0m         \u001b[0;32mreturn\u001b[0m \u001b[0mConvexRationalPolyhedralCone\u001b[0m\u001b[0;34m(\u001b[0m\u001b[0mrays\u001b[0m\u001b[0;34m,\u001b[0m \u001b[0mlattice\u001b[0m\u001b[0;34m)\u001b[0m\u001b[0;34m\u001b[0m\u001b[0;34m\u001b[0m\u001b[0m\n",
      "\u001b[0;31mValueError\u001b[0m: lattice must be given explicitly if there are no rays!"
     ]
    }
   ],
   "source": [
    "curves_in_complement = lambda cylinder: [i for i, curve in enumerate(minus_one_curves) if N(curve) in cylinder.rays()]\n",
    "def shared_curves(cylinders): \n",
    "    if len(cylinders)==0:\n",
    "        return minus_one_curves\n",
    "    complements = curves_in_complement(cylinders[0])\n",
    "    shared_complements = [curve for curve in complements if all(curve in curves_in_complement(cylinder) for cylinder in cylinders[1:])]\n",
    "    return shared_complements\n",
    "\n",
    "complement_cone = lambda cylinders: Cone([minus_one_curves[i]  for i in shared_curves(cylinders)]).intersection(Ample)\n",
    "\n",
    "for k in Fujita_cone_examples.keys():\n",
    "    print(k,complement_cone([cones[i] for i in shared_cylinders([k])]))\n",
    "#def shared_lines(cylinders)\n",
    "#cones[0].rays()\n",
    "#curves_in_complement(cones[0])\n",
    "#minus_one_curves"
   ]
  },
  {
   "cell_type": "code",
   "execution_count": 13,
   "metadata": {},
   "outputs": [
    {
     "name": "stdout",
     "output_type": "stream",
     "text": [
      "True\n",
      "N(27, -27, -1, 11, 17, 21, 23)\n",
      "in 7-d lattice N\n",
      "N(0,  0,  1,  0,  0,  0,  0),\n",
      "N(0,  0,  0,  1,  0,  0,  0),\n",
      "N(0,  0,  0,  0,  1,  0,  0),\n",
      "N(0,  0,  0,  0,  0,  1,  0),\n",
      "N(0,  0,  0,  0,  0,  0,  1),\n",
      "N(1, -1, -1,  0,  0,  0,  0),\n",
      "N(1, -1,  0, -1,  0,  0,  0),\n",
      "N(1, -1,  0,  0, -1,  0,  0),\n",
      "N(1, -1,  0,  0,  0, -1,  0),\n",
      "N(1, -1,  0,  0,  0,  0, -1)\n",
      "in 7-d lattice N\n",
      "True\n",
      "N(0, 0, 63, 59, 54, 50, 19)\n"
     ]
    },
    {
     "data": {
      "text/plain": [
       "False"
      ]
     },
     "execution_count": 13,
     "metadata": {},
     "output_type": "execute_result"
    }
   ],
   "source": [
    "# studying bad ray\n",
    "N = ToricLattice(7)\n",
    "badray = N(51, -26, -13, -7, -4, -2, -1)\n",
    "print(ample_cone.contains(badray))\n",
    "for face in effective_cone.faces()[6]:\n",
    "    intersection = face.intersection(Cone([badray,K]))\n",
    "    if intersection.dim() == 0:\n",
    "        continue\n",
    "    else:\n",
    "        break\n",
    "print(intersection.rays())\n",
    "print(face.rays())\n",
    "ray = intersection.rays()[0]\n",
    "print(face.relative_interior_contains(ray))\n",
    "e1, e2, e3, e4, e5, f1 = face.rays()[:6]\n",
    "b = e1 + f1\n",
    "R = 63*e1 + 59*e2 + 54*e3 + 50*e4 + 19*e5\n",
    "print(R)\n",
    "any(cone.interior_contains(badray) for cone in cones)\n",
    "# its Fujita face is spanned by rays L-E1-Ej and L-\\sum(Ei)+Ej, where j=2..6, the class K+\\mu*H equals ray/12.\n",
    "# they comprise 5 pairs \n",
    "# its Fujita map is of type C(6)"
   ]
  },
  {
   "cell_type": "code",
   "execution_count": null,
   "metadata": {},
   "outputs": [],
   "source": [
    "# dissections \n",
    "\n",
    "dissecting_planes = lambda cones : [ray for cone in cones for ray in cone.dual().rays() if not ample_segment.dual().contains(ray)]\n",
    "\n",
    "def dissect_with_plane(cones, plane):\n",
    "    dissected = []\n",
    "    for cone in cones:\n",
    "        #print(f'dissecting with plane, {len(dissected)} cones')\n",
    "        if cone.dual().contains(plane) or cone.dual().contains(-plane):\n",
    "            dissected.append(cone)\n",
    "        else:\n",
    "            dual_rays = list(cone.dual().rays())\n",
    "            positive_part = Cone(dual_rays + [plane]).dual()\n",
    "            negative_part = Cone(dual_rays + [-plane]).dual()\n",
    "            dissected.append(positive_part)            \n",
    "            dissected.append(negative_part)            \n",
    "    return dissected\n",
    "\n",
    "def dissect_with_planes(cones, planes):\n",
    "    dissected = cones\n",
    "    for i,p in enumerate(planes):\n",
    "        print(f'dissecting with {i}-th plane of {len(planes)}, {len(dissected)} cones')\n",
    "        dissected = dissect_with_plane(dissected, p)\n",
    "    return dissected\n",
    "\n",
    "dissects = lambda cone, plane: not( cone.dual().contains(plane) or cone.dual().contains(-plane) )\n",
    "\n",
    "\n",
    "def halves(cone, plane):\n",
    "    dual_rays = list(cone.dual().rays())\n",
    "    negative_part = Cone(dual_rays + [-plane]).dual()\n",
    "    positive_part = Cone(dual_rays + [plane]).dual()\n",
    "    return negative_part, positive_part\n",
    "\n",
    "def dissect_wrt(dissected_cone, dissecting_cone): # intersection is returned separately\n",
    "    parts = []\n",
    "    remainder = dissected_cone\n",
    "    for plane in dissecting_cone.dual().rays():\n",
    "        if not dissects(remainder, plane):\n",
    "            continue\n",
    "        negative_part, positive_part = halves(remainder, plane)\n",
    "        parts.append(negative_part)\n",
    "        remainder = positive_part\n",
    "    if remainder.intersection(dissecting_cone).is_solid():\n",
    "        return parts, remainder\n",
    "    else:\n",
    "        parts.append(remainder)    \n",
    "        return parts, None\n",
    "\n",
    "#[c.rays() for c in dissect_wrt(Cone([[1,0],[0,1]]),Cone([[1,1],[-1,1]]))]\n",
    "\n",
    "class Pseudofan: # solid version\n",
    "    def __init__(self, cone):\n",
    "        self.cones = [cone]\n",
    "        #for cone in cones:\n",
    "        #    self.append(cone)\n",
    "    \n",
    "    def remove(self, cone):\n",
    "        #print('removing cone\\n',cone.rays())\n",
    "        outer_parts = [dissect_wrt(old, cone)[0] for old in self.cones]\n",
    "        #print('outer parts\\n', outer_parts)\n",
    "        self.cones  = list(itertools.chain(*outer_parts))\n",
    "        #print('cones\\n', self.cones)\n",
    "\n",
    "    def intersect(self, cone):\n",
    "        intersections = [cone.intersection(old) for old in self.cones]\n",
    "        self.cones = [c for c in intersections if c.is_solid()]\n",
    "\n",
    "\n",
    "def remove_cones(pseudofan, cones_list, cap = None):\n",
    "    pbar = tqdm(cones_list)\n",
    "    for cone in pbar:\n",
    "        pseudofan.remove(cone)\n",
    "        pbar.set_description(f'{len(pseudofan.cones)} cones in pseudofan ')\n",
    "        if cap:\n",
    "            P.cones = P.cones[:cap]"
   ]
  },
  {
   "cell_type": "code",
   "execution_count": null,
   "metadata": {},
   "outputs": [],
   "source": [
    "C1, C2 = Cone([[1,0],[0,1]]), Cone([[1,1],[-1,1]])\n",
    "#F1, F2 = Fan([C1]), Fan([C2])\n",
    "#F1.common_refinement(F2)\n",
    "P = Pseudofan(C2)\n",
    "P.remove(C1)\n",
    "P.remove(C2)\n",
    "for c in P.cones:\n",
    "    print(c.rays())    "
   ]
  },
  {
   "cell_type": "code",
   "execution_count": null,
   "metadata": {},
   "outputs": [],
   "source": [
    "P = Pseudofan(ample_segment)        \n",
    "remove_cones(P, filtered_cones)\n",
    "remove_cones(P, cones[::-1], cap=100)\n",
    "Counter([c.dim() for c in P.cones])\n",
    "bad_rays = [sum(c.rays()) for c in P.cones]\n",
    "pbar = tqdm(bad_rays)\n",
    "#pbar.set_description(\"Processing %s\" % char)\n",
    "for ray in pbar:\n",
    "    if not any(c.contains(ray) for c in cones):\n",
    "        print(ray)"
   ]
  },
  {
   "cell_type": "code",
   "execution_count": null,
   "metadata": {},
   "outputs": [],
   "source": [
    "N = ToricLattice(3)\n",
    "e1, e2, e3 = N([1,0,0]), N([0,1,0]), N([0,0,1])\n",
    "r = e1+e2+e3\n",
    "P3 = Pseudofan(Cone([e1,e2,e3]))\n",
    "P3.remove(Cone([r,e2,e3]))\n",
    "P3.remove(Cone([e1,r,e3]))\n",
    "P3.remove(Cone([e1,r,r]))\n",
    "for c in P3.cones:\n",
    "    print(c.rays())\n",
    "    #c.plot().show()"
   ]
  },
  {
   "cell_type": "code",
   "execution_count": 41,
   "metadata": {},
   "outputs": [
    {
     "data": {
      "text/plain": [
       "[(2, -1, -1, -1, -1, 0, -1), (2, -1, -1, -1, -1, -1, 0)]"
      ]
     },
     "execution_count": 41,
     "metadata": {},
     "output_type": "execute_result"
    }
   ],
   "source": [
    "curves = Fujita_face_rays_examples['B5P1'] #[E[1], E[2], L-E[0]-E[1], L-E[0]-E[2]]\n",
    "[c for c in minus_one_curves if all(dot(c,e)==1 for e in curves)]"
   ]
  },
  {
   "cell_type": "code",
   "execution_count": null,
   "metadata": {},
   "outputs": [],
   "source": [
    "is_covered_by = lambda cone1, cone2: all(cone2.contains(ray) for ray in cone1.rays()) and cone2.interior_contains(sum(cone1.rays()))\n",
    "#[cone.rays() for cone in cones if Fujita_cone_examples['B5P1'].intersection(cone).dim()]\n",
    "remove_cones(Pseudofan(Fujita_cone_examples['B5P1']), cones)\n"
   ]
  },
  {
   "cell_type": "code",
   "execution_count": null,
   "metadata": {},
   "outputs": [],
   "source": [
    "A=Fujita_cone_examples['B5P1']\n",
    "A.intersection(A)\n",
    "A.dim()\n"
   ]
  },
  {
   "cell_type": "code",
   "execution_count": null,
   "metadata": {},
   "outputs": [],
   "source": []
  }
 ],
 "metadata": {
  "kernelspec": {
   "display_name": "SageMath 9.1.rc1",
   "language": "sage",
   "name": "sagemath"
  },
  "language_info": {
   "codemirror_mode": {
    "name": "ipython",
    "version": 3
   },
   "file_extension": ".py",
   "mimetype": "text/x-python",
   "name": "python",
   "nbconvert_exporter": "python",
   "pygments_lexer": "ipython3",
   "version": "3.7.3"
  }
 },
 "nbformat": 4,
 "nbformat_minor": 4
}
