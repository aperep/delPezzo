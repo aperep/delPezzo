{
 "cells": [
  {
   "cell_type": "code",
   "execution_count": 2,
   "metadata": {},
   "outputs": [],
   "source": [
    "import itertools\n",
    "#import collections"
   ]
  },
  {
   "cell_type": "code",
   "execution_count": 3,
   "metadata": {},
   "outputs": [],
   "source": [
    "N = ToricLattice(7)\n",
    "K = N([-3, 1, 1, 1, 1, 1, 1]) # canonical divisor\n",
    "E = identity_matrix(QQ, 7)[:,1:].columns() # E is the set of exceptional curves, so the basis is L, E[0], .. , E[5]\n",
    "E = [N(e) for e in E]\n",
    "Line = lambda exceptional_curves : N([i/3 for i in (-K + sum(exceptional_curves)) ])\n",
    "L = Line(E)\n",
    "\n",
    "Q = diagonal_matrix([1]+6*[-1])\n",
    "dot = lambda a, b: a*Q*b\n",
    "gram_matrix = lambda rays: matrix([[dot(a,b) for a in rays] for b in rays])\n",
    "\n",
    "minus_one_curves = E + [L-ei-ej for ei,ej in itertools.combinations(E, 2)] + [-K-L+e for e in E]\n",
    "curves_disjoint_with = lambda curves: [c for c in minus_one_curves if all(dot(c,c2)==0 for c2 in curves)]\n",
    "\n",
    "double_intersections = [(a,b) for a,b in itertools.combinations(minus_one_curves, 2) if dot(a,b)==1]\n",
    "triple_intersections = [(a,b,c) for a,b,c in itertools.combinations(minus_one_curves, 3) if dot(a,b)+dot(b,c)+dot(a,c)==3]\n",
    "\n",
    "NE = Cone(minus_one_curves)\n",
    "Ample = Cone([N(Q*ray) for ray in NE.dual().rays()])\n",
    "\n",
    "# take one Fujita face for each isomorphism class (determined by CPW, may check explicitly later)\n",
    "# and turn them into subcones in Mori cone by adding -K\n",
    "\n",
    "NE_face_types_rays = {\n",
    "        \"B6\": E,\n",
    "        \"B5\": E[:5],\n",
    "        \"B5'\": E[:4]+[L-E[4]-E[5]], # B(5) for P1xP1. Another type of independent set of 5 (-1)-curves, this one is maximal\n",
    "        \"B4\": E[:4],\n",
    "        \"B3\": E[:3],\n",
    "        \"B2\": E[:2],\n",
    "        \"B1\": E[:1],\n",
    "        #'C6': E[:5]+[L-E[5]-e for e in E[:5]], # C(6). Schlafli graph is 4-ultrahomogeneous, and, after fixing two pairs, three others are defined uniquely\n",
    "        \"C5\": E[:5]+[L-E[5]], # здесь и ниже - части C6, из подобных которым складывается весь С6 \n",
    "        \"C5'\": E[:4]+[L-E[5]-E[4], L-E[5]],\n",
    "        \"C4\": E[:4]+[L-E[5]],\n",
    "        \"C3\": E[:3]+[L-E[5]],\n",
    "        \"C2\": E[:2]+[L-E[5]],\n",
    "        \"C1\": E[:1]+[L-E[5]],\n",
    "        \"C0\": E[:0]+[L-E[5]],\n",
    "    }\n",
    "cone_of_type = {label:Cone(rays+[-K]).intersection(Ample) for label,rays in NE_face_types_rays.items()}\n",
    "\n",
    "# returns True if rel.int.(cone1) is in rel.int.(cone2)\n",
    "is_covered_by = lambda cone1, cone2: all(cone2.contains(ray) for ray in cone1.rays()) and cone2.interior_contains(sum(cone1.rays()))"
   ]
  },
  {
   "cell_type": "code",
   "execution_count": 4,
   "metadata": {},
   "outputs": [
    {
     "data": {
      "text/plain": [
       "[N(1, 0, 0, 0, 0, 0, -1)]"
      ]
     },
     "execution_count": 4,
     "metadata": {},
     "output_type": "execute_result"
    }
   ],
   "source": [
    "NE_face_types_rays[\"C0\"]"
   ]
  },
  {
   "cell_type": "code",
   "execution_count": 3,
   "metadata": {},
   "outputs": [],
   "source": [
    "# Constructing cylinders.\n",
    "\n",
    "def independent_sets(vectors, size = 6):\n",
    "    if size == 0:\n",
    "        yield []\n",
    "    for i, v in enumerate(vectors):\n",
    "        orthogonals = [v2 for v2 in vectors[i+1:] if dot(v, v2)==0]\n",
    "        for subset in independent_sets(orthogonals, size-1):\n",
    "            yield subset + [v]\n",
    "\n",
    "#cylinder1 = lambda E : E + [Line(E)-E[-1], -K-Line(E)+E[-1]]   \n",
    "def cylinder_generator_P2(E):\n",
    "    '''\n",
    "    E is a list of exceptional curves, and e is one of them\n",
    "    returns \n",
    "    1. list of rays of the cone of divisors H such that the cylinder (P^2 minus conic through E-e and tangent line through e) is H-polar\n",
    "    2. list of (-1)-curves lying in the complement of the cylinder (or a union of cylinders if many)\n",
    "    '''\n",
    "    for e in E:\n",
    "        tangent = Line(E) - e\n",
    "        conic = - K - tangent\n",
    "        curves = E+[conic]\n",
    "        yield curves + [tangent]\n",
    "\n",
    "def cylinder_generator_1(E):\n",
    "    \"\"\"\n",
    "    cylinder complement to E and lines through blowdowns of e and one of E-e\n",
    "    \"\"\"\n",
    "    for e in E:\n",
    "        curves = E+[Line(E)-e-f for f in E if f!=e]\n",
    "        yield curves\n",
    "\n",
    "def cylinder_generator_P1(E):\n",
    "    '''\n",
    "    CPW Example 4.1.6 and Lemma 4.2.2 for contraction of E1..E4, L-E5-E6.\n",
    "    '''\n",
    "    for i,j in itertools.permutations(range(len(E)),int(2)):\n",
    "        complement = [k for k in range(len(E)) if (k!=i) and (k!=j)]\n",
    "        conic = -K-Line(E)+E[i]\n",
    "        curves = [E[k] for k in complement]+[Line(E)-E[i]-E[j], conic]\n",
    "        yield curves + [Line(E)-E[i],Line(E)-E[j]]\n",
    "\n",
    "def cylinders_of_type(cylinder_generator_list):\n",
    "    '''\n",
    "    returns a list of cones of cylinders of considered type\n",
    "    '''\n",
    "    for cylinder_generator in cylinder_generator_list:\n",
    "        for blowdown in independent_sets(minus_one_curves):\n",
    "            yield from cylinder_generator(blowdown)\n",
    "\n",
    "# polarity cone of a collection of cylinders\n",
    "def Pol(collection):\n",
    "    result = Cone([],lattice=N.dual()).dual() # ambient space\n",
    "    for cylinder in collection:\n",
    "        result = result.intersection(Cone(cylinder['rays']))\n",
    "    return result\n",
    "\n",
    "def minus_one_curves_in_complement(collection):\n",
    "    return [curve for curve in minus_one_curves if all(curve in cylinder['rays'] for cylinder in collection)]\n",
    "    \n",
    "# forbidden cone of a collection of cylinders\n",
    "def Forb(collection):\n",
    "    return Cone(minus_one_curves_in_complement(collection),lattice=N)\n",
    "\n",
    "cylinders = [{\n",
    "    'rays': cylinder_rays,\n",
    "    'index': i,\n",
    "} for i, cylinder_rays in enumerate(cylinders_of_type([cylinder_generator_P2,cylinder_generator_P1]))]\n",
    "\n",
    "for u in cylinders:\n",
    "    u['Pol'] = Pol([u])\n",
    "    u['Forb'] = Forb([u])\n"
   ]
  },
  {
   "cell_type": "code",
   "execution_count": 139,
   "metadata": {},
   "outputs": [],
   "source": [
    "\n",
    "def is_polar_wrt(cylinder, cones):\n",
    "    return all(is_covered_by(cone,cylinder['Pol']) for cone in cones)\n",
    "\n",
    "intersection_point_in_cylinder = lambda intersection, cylinder: all(curve not in cylinder['rays'] for curve in intersection)\n",
    "intersection_point_in_cylinders = lambda intersection, cylinders: any(intersection_point_in_cylinder(intersection, c) for c in cylinders)\n",
    "def complement_points(cylinders):\n",
    "    return {\n",
    "        'double': [intersection for intersection in double_intersections if not intersection_point_in_cylinders(intersection, cylinders)],\n",
    "        'triple': [intersection for intersection in triple_intersections if not intersection_point_in_cylinders(intersection, cylinders)],\n",
    "    }"
   ]
  },
  {
   "cell_type": "code",
   "execution_count": 133,
   "metadata": {},
   "outputs": [
    {
     "data": {
      "text/plain": [
       "True"
      ]
     },
     "execution_count": 133,
     "metadata": {},
     "output_type": "execute_result"
    }
   ],
   "source": [
    "point = double_intersections[0]\n",
    "cylinder = collection_of_type['B2'][0]\n",
    "point in complement_points([cylinder])['double']"
   ]
  },
  {
   "cell_type": "code",
   "execution_count": 155,
   "metadata": {},
   "outputs": [],
   "source": [
    "\n",
    "def point_eliminating_cylinder(pool, U, seed=123456):\n",
    "    polarity = Pol(U).intersection(Ample) if len(U)>0 else Ample\n",
    "    double_points = complement_points(U)['double']\n",
    "    print('double points in complement: ', len(double_points))\n",
    "    polarity_agrees = lambda cone: is_covered_by(cone, Ample) and cone.codim()==0\n",
    "    candidates = [c for c in pool if polarity_agrees(c['Pol'].intersection(polarity))]\n",
    "    print('candidates: ', len(candidates))\n",
    "    if len(candidates) == 0:\n",
    "        return None\n",
    "    candidates_with_counts = [(c, len([point for point in double_points if intersection_point_in_cylinder(point, c)])) for c in candidates]\n",
    "    max_count = max([c[1] for c in candidates_with_counts])\n",
    "    print('points eliminated: ', max_count)\n",
    "    if max_count == 0:\n",
    "        return None\n",
    "    best_candidates = [candidate for candidate, count in candidates_with_counts if count == max_count]\n",
    "    print('best candidates: ', len(best_candidates))\n",
    "    print('returning ', best_candidates[0])\n",
    "    return best_candidates[0] #[seed%len(best_candidates)]\n",
    "\n",
    "def eliminate_points(pool=cylinders, collection=[]):\n",
    "    new_collection = collection[:]\n",
    "    while True:\n",
    "        new_cylinder = point_eliminating_cylinder(pool, new_collection)\n",
    "        #print('new cylinder', new_cylinder)\n",
    "        if new_cylinder == None:\n",
    "            break\n",
    "        new_collection.append(new_cylinder)\n",
    "        print('New collection length:\\n', len(new_collection))\n",
    "    return new_collection\n",
    "    \n",
    "\n",
    "\n",
    "\n",
    "#total_collection = eliminate_points(cylinders[200:300], U)"
   ]
  },
  {
   "cell_type": "code",
   "execution_count": 107,
   "metadata": {},
   "outputs": [
    {
     "data": {
      "text/plain": [
       "False"
      ]
     },
     "execution_count": 107,
     "metadata": {},
     "output_type": "execute_result"
    }
   ],
   "source": [
    "#complement_points(collection_of_type['C2'])\n",
    "p = Pol(collection_of_type['B2'])\n",
    "is_covered_by(cone_of_type['C2'], p)"
   ]
  },
  {
   "cell_type": "code",
   "execution_count": 154,
   "metadata": {},
   "outputs": [],
   "source": [
    "#total_collection = U+cylinders[204]\n",
    "#for key, cone in cone_of_type.items():\n",
    "#    print(key, Pol(total_collection).intersection(cone))\n",
    "\n",
    "def eliminate_cylinders(collection):\n",
    "    if len(complement_points(collection)['double'])!=0:\n",
    "        print('this collection does not cover all double points')\n",
    "        return collection\n",
    "    print('deleting cylinders, remaining:')\n",
    "    while True:\n",
    "        for i in range(len(collection)):\n",
    "            collection_without_cylinder = collection[:i] + collection[i+1:]\n",
    "            if len(complement_points(collection_without_cylinder)['double'])==0:\n",
    "                del collection[i]\n",
    "                print(len(collection), end=' ')\n",
    "                break\n",
    "        else:\n",
    "            print('no cylinders to delete')\n",
    "            break\n",
    "    return collection\n",
    "            \n",
    "\n",
    "#Pol(total_collection).intersection(cone_of_type['C0']).rays()\n",
    "#print(complement_points(total_collection)['double'])\n",
    "#another_collection = total_collection[:]\n",
    "#shorter_collection = eliminate_cylinders(another_collection)\n",
    "#print(len(another_collection))\n",
    "#len(shorter_collection)"
   ]
  },
  {
   "cell_type": "code",
   "execution_count": 152,
   "metadata": {},
   "outputs": [
    {
     "name": "stdout",
     "output_type": "stream",
     "text": [
      "this collection does not cover all double points\n",
      "this collection does not cover all double points\n",
      "this collection does not cover all double points\n",
      "this collection does not cover all double points\n",
      "this collection does not cover all double points\n",
      "this collection does not cover all double points\n",
      "this collection does not cover all double points\n",
      "this collection does not cover all double points\n",
      "this collection does not cover all double points\n",
      "this collection does not cover all double points\n",
      "this collection does not cover all double points\n",
      "this collection does not cover all double points\n",
      "this collection does not cover all double points\n",
      "this collection does not cover all double points\n",
      "B6 :  60  points  6  cylinders\n",
      "B5 :  60  points  6  cylinders\n",
      "B5' :  50  points  10  cylinders\n",
      "B4 :  60  points  4  cylinders\n",
      "B3 :  36  points  6  cylinders\n",
      "B2 :  20  points  12  cylinders\n",
      "B1 :  10  points  16  cylinders\n",
      "C5 :  65  points  1  cylinders\n",
      "C5' :  50  points  10  cylinders\n",
      "C4 :  55  points  5  cylinders\n",
      "C3 :  32  points  10  cylinders\n",
      "C2 :  20  points  24  cylinders\n",
      "C1 :  10  points  48  cylinders\n",
      "C0 :  5  points  80  cylinders\n"
     ]
    }
   ],
   "source": [
    "cone_types_list_1 = [cone_of_type[i] for i in [\"B6\",\"B5\",\"B4\",\"B3\",\"B2\",\"B1\",]]\n",
    "\n",
    "collection_of_type=dict()\n",
    "for i, cone in cone_of_type.items():\n",
    "    collection_of_type[i]=[c for c in cylinders if is_polar_wrt(c,[cone])]\n",
    "    collection_of_type[i] = eliminate_cylinders(collection_of_type[i])\n",
    "\n",
    "for i, collection in collection_of_type.items():\n",
    "    print(i,\": \", len(complement_points(collection)['double']) ,\" points \", len(collection) ,\" cylinders\")\n",
    "#u_1=cylinders[5]\n",
    "#Forb(U).intersection(Ample)"
   ]
  },
  {
   "cell_type": "code",
   "execution_count": 156,
   "metadata": {},
   "outputs": [
    {
     "name": "stdout",
     "output_type": "stream",
     "text": [
      "double points in complement:  5\n",
      "candidates:  656\n",
      "points eliminated:  4\n",
      "best candidates:  400\n",
      "returning  {'rays': [N(1, 0, 0, -1, 0, -1, 0), N(1, 0, 0, -1, -1, 0, 0), N(0, 0, 0, 0, 0, 0, 1), N(0, 1, 0, 0, 0, 0, 0), N(1, 0, -1, -1, 0, 0, 0), N(1, -1, 0, 0, 0, 0, -1), N(2, 0, -1, -1, -1, -1, 0), N(1, 0, 0, -1, 0, 0, 0)], 'index': 572, 'Pol': 7-d cone in 7-d lattice N, 'Forb': 6-d cone in 7-d lattice N}\n",
      "New collection length:\n",
      " 81\n",
      "double points in complement:  1\n",
      "candidates:  339\n",
      "points eliminated:  1\n",
      "best candidates:  184\n",
      "returning  {'rays': [N(1, 0, 0, 0, -1, -1, 0), N(1, -1, 0, 0, 0, -1, 0), N(1, -1, 0, 0, -1, 0, 0), N(0, 0, 0, 0, 0, 0, 1), N(0, 0, 0, 1, 0, 0, 0), N(0, 0, 1, 0, 0, 0, 0), N(1, 0, 0, -1, 0, 0, -1), N(2, -1, -1, 0, -1, -1, 0)], 'index': 113, 'Pol': 7-d cone in 7-d lattice N, 'Forb': 7-d cone in 7-d lattice N}\n",
      "New collection length:\n",
      " 82\n",
      "double points in complement:  0\n",
      "candidates:  238\n",
      "points eliminated:  0\n",
      "deleting cylinders, remaining:\n",
      "81 80 79 78 77 76 75 74 73 72 71 70 69 68 67 66 65 64 63 62 61 60 59 58 57 56 55 54 53 52 51 50 49 48 47 46 45 44 43 42 41 40 39 38 37 36 35 34 33 32 31 30 29 28 27 26 25 24 23 22 21 20 19 18 17 16 15 14 13 12 11 10 9 8 7 6 no cylinders to delete\n"
     ]
    },
    {
     "data": {
      "text/plain": [
       "7-d cone in 7-d lattice N"
      ]
     },
     "execution_count": 156,
     "metadata": {},
     "output_type": "execute_result"
    }
   ],
   "source": [
    "collection_c0 = eliminate_points(collection=collection_of_type['C0'])\n",
    "shorter_collection_c0 = eliminate_cylinders(collection_c0)\n",
    "Pol(shorter_collection_c0)"
   ]
  },
  {
   "cell_type": "code",
   "execution_count": 173,
   "metadata": {},
   "outputs": [
    {
     "name": "stdout",
     "output_type": "stream",
     "text": [
      "\n",
      " 1787\n",
      "1 N(1, 0, 0, -1, 0, 0, -1)\n",
      "2 N(1, 0, -1, 0, 0, 0, -1)\n",
      "3 N(1, -1, 0, 0, 0, 0, -1)\n",
      "4 N(0, 0, 0, 0, 0, 1, 0)\n",
      "5 N(0, 0, 0, 0, 1, 0, 0)\n",
      "6 N(1, 0, 0, 0, -1, -1, 0)\n",
      "7 N(2, -1, -1, -1, 0, 0, -1)\n",
      "8 N(1, 0, 0, 0, 0, 0, -1)\n",
      "\n",
      " 1792\n",
      "1 N(1, 0, 0, 0, -1, 0, -1)\n",
      "2 N(1, 0, -1, 0, 0, 0, -1)\n",
      "3 N(1, -1, 0, 0, 0, 0, -1)\n",
      "4 N(0, 0, 0, 0, 0, 1, 0)\n",
      "5 N(0, 0, 0, 1, 0, 0, 0)\n",
      "6 N(1, 0, 0, -1, 0, -1, 0)\n",
      "7 N(2, -1, -1, 0, -1, 0, -1)\n",
      "8 N(1, 0, 0, 0, 0, 0, -1)\n",
      "\n",
      " 1797\n",
      "1 N(1, 0, 0, 0, -1, 0, -1)\n",
      "2 N(1, 0, 0, -1, 0, 0, -1)\n",
      "3 N(1, -1, 0, 0, 0, 0, -1)\n",
      "4 N(0, 0, 0, 0, 0, 1, 0)\n",
      "5 N(0, 0, 1, 0, 0, 0, 0)\n",
      "6 N(1, 0, -1, 0, 0, -1, 0)\n",
      "7 N(2, -1, 0, -1, -1, 0, -1)\n",
      "8 N(1, 0, 0, 0, 0, 0, -1)\n",
      "\n",
      " 1802\n",
      "1 N(1, 0, 0, 0, -1, 0, -1)\n",
      "2 N(1, 0, 0, -1, 0, 0, -1)\n",
      "3 N(1, 0, -1, 0, 0, 0, -1)\n",
      "4 N(0, 0, 0, 0, 0, 1, 0)\n",
      "5 N(0, 1, 0, 0, 0, 0, 0)\n",
      "6 N(1, -1, 0, 0, 0, -1, 0)\n",
      "7 N(2, 0, -1, -1, -1, 0, -1)\n",
      "8 N(1, 0, 0, 0, 0, 0, -1)\n",
      "\n",
      " 572\n",
      "1 N(1, 0, 0, -1, 0, -1, 0)\n",
      "2 N(1, 0, 0, -1, -1, 0, 0)\n",
      "3 N(0, 0, 0, 0, 0, 0, 1)\n",
      "4 N(0, 1, 0, 0, 0, 0, 0)\n",
      "5 N(1, 0, -1, -1, 0, 0, 0)\n",
      "6 N(1, -1, 0, 0, 0, 0, -1)\n",
      "7 N(2, 0, -1, -1, -1, -1, 0)\n",
      "8 N(1, 0, 0, -1, 0, 0, 0)\n",
      "\n",
      " 113\n",
      "1 N(1, 0, 0, 0, -1, -1, 0)\n",
      "2 N(1, -1, 0, 0, 0, -1, 0)\n",
      "3 N(1, -1, 0, 0, -1, 0, 0)\n",
      "4 N(0, 0, 0, 0, 0, 0, 1)\n",
      "5 N(0, 0, 0, 1, 0, 0, 0)\n",
      "6 N(0, 0, 1, 0, 0, 0, 0)\n",
      "7 N(1, 0, 0, -1, 0, 0, -1)\n",
      "8 N(2, -1, -1, 0, -1, -1, 0)\n"
     ]
    }
   ],
   "source": [
    "shorter_collection_c0\n",
    "for c in shorter_collection_c0:\n",
    "    print('\\n',c['index'])\n",
    "    for i, ray in enumerate(c['rays']):\n",
    "        print(i+1,ray)\n"
   ]
  },
  {
   "cell_type": "code",
   "execution_count": 194,
   "metadata": {},
   "outputs": [
    {
     "data": {
      "text/plain": [
       "N(18, -3, -1, -7, -3, -3, -10)"
      ]
     },
     "execution_count": 194,
     "metadata": {},
     "output_type": "execute_result"
    }
   ],
   "source": [
    "#p = Pol(shorter_collection_c0).intersection(Ample)\n",
    "#rays = p.rays()\n",
    "p.relative_interior_contains(sum([rays[i] for i in [1,2,4,5,6]]))\n",
    "sum([rays[i] for i in [1,2,4,5,6]])"
   ]
  },
  {
   "cell_type": "code",
   "execution_count": 196,
   "metadata": {},
   "outputs": [
    {
     "data": {
      "text/plain": [
       "N(1,  0,  0,  0,  0,  0, -1),\n",
       "N(3, -1,  0, -1, -1,  0, -2),\n",
       "N(3, -1,  0, -1,  0, -1, -2),\n",
       "N(2,  0,  0, -1,  0,  0, -1),\n",
       "N(5,  0,  0, -2, -1, -1, -3),\n",
       "N(6, -1, -1, -3, -1, -1, -3),\n",
       "N(1,  0,  0,  0,  0,  0,  0),\n",
       "N(7, -1,  0, -3, -1, -2, -4),\n",
       "N(3, -1, -1, -1, -1, -1, -1)\n",
       "in 7-d lattice N"
      ]
     },
     "execution_count": 196,
     "metadata": {},
     "output_type": "execute_result"
    }
   ],
   "source": [
    "Pol(shorter_collection_c0).rays()"
   ]
  },
  {
   "cell_type": "code",
   "execution_count": 109,
   "metadata": {},
   "outputs": [
    {
     "name": "stdout",
     "output_type": "stream",
     "text": [
      "B6 :  45  points  6  cylinders\n",
      "B5 :  45  points  6  cylinders\n",
      "B5' :  75  points  10  cylinders\n",
      "B4 :  55  points  4  cylinders\n",
      "B3 :  27  points  6  cylinders\n",
      "B2 :  0  points  6  cylinders\n",
      "B1 :  5  points  16  cylinders\n",
      "C5 :  70  points  1  cylinders\n",
      "C5' :  75  points  10  cylinders\n",
      "C4 :  80  points  5  cylinders\n",
      "C3 :  57  points  10  cylinders\n",
      "C2 :  0  points  6  cylinders\n",
      "C1 :  1  points  48  cylinders\n",
      "C0 :  0  points  12  cylinders\n",
      "[11, 17, 23, 29, 71, 137]\n",
      "\n",
      "\n",
      "N(1, 0, 0, 0, 0, -1, -1)\n",
      "N(1, 0, 0, 0, -1, 0, -1)\n",
      "N(1, 0, 0, 0, -1, -1, 0)\n",
      "N(0, 0, 0, 1, 0, 0, 0)\n",
      "N(0, 0, 1, 0, 0, 0, 0)\n",
      "N(0, 1, 0, 0, 0, 0, 0)\n",
      "N(1, 0, -1, -1, 0, 0, 0)\n",
      "N(2, -1, 0, 0, -1, -1, -1)\n",
      "\n",
      "\n",
      "N(1, 0, 0, 0, 0, -1, -1)\n",
      "N(1, 0, 0, -1, 0, 0, -1)\n",
      "N(1, 0, 0, -1, 0, -1, 0)\n",
      "N(0, 0, 0, 0, 1, 0, 0)\n",
      "N(0, 0, 1, 0, 0, 0, 0)\n",
      "N(0, 1, 0, 0, 0, 0, 0)\n",
      "N(1, 0, -1, 0, -1, 0, 0)\n",
      "N(2, -1, 0, -1, 0, -1, -1)\n",
      "\n",
      "\n",
      "N(1, 0, 0, 0, -1, 0, -1)\n",
      "N(1, 0, 0, -1, 0, 0, -1)\n",
      "N(1, 0, 0, -1, -1, 0, 0)\n",
      "N(0, 0, 0, 0, 0, 1, 0)\n",
      "N(0, 0, 1, 0, 0, 0, 0)\n",
      "N(0, 1, 0, 0, 0, 0, 0)\n",
      "N(1, 0, -1, 0, 0, -1, 0)\n",
      "N(2, -1, 0, -1, -1, 0, -1)\n",
      "\n",
      "\n",
      "N(1, 0, 0, 0, -1, -1, 0)\n",
      "N(1, 0, 0, -1, 0, -1, 0)\n",
      "N(1, 0, 0, -1, -1, 0, 0)\n",
      "N(0, 0, 0, 0, 0, 0, 1)\n",
      "N(0, 0, 1, 0, 0, 0, 0)\n",
      "N(0, 1, 0, 0, 0, 0, 0)\n",
      "N(1, 0, -1, 0, 0, 0, -1)\n",
      "N(2, -1, 0, -1, -1, -1, 0)\n",
      "\n",
      "\n",
      "N(2, 0, -1, -1, -1, -1, -1)\n",
      "N(1, 0, -1, 0, 0, 0, -1)\n",
      "N(1, 0, -1, 0, 0, -1, 0)\n",
      "N(1, 0, -1, 0, -1, 0, 0)\n",
      "N(1, 0, -1, -1, 0, 0, 0)\n",
      "N(0, 1, 0, 0, 0, 0, 0)\n",
      "N(0, 0, 1, 0, 0, 0, 0)\n",
      "N(3, -1, -2, -1, -1, -1, -1)\n",
      "\n",
      "\n",
      "N(2, -1, 0, -1, -1, -1, -1)\n",
      "N(1, -1, 0, 0, 0, 0, -1)\n",
      "N(1, -1, 0, 0, 0, -1, 0)\n",
      "N(1, -1, 0, 0, -1, 0, 0)\n",
      "N(1, -1, 0, -1, 0, 0, 0)\n",
      "N(0, 0, 1, 0, 0, 0, 0)\n",
      "N(0, 1, 0, 0, 0, 0, 0)\n",
      "N(3, -2, -1, -1, -1, -1, -1)\n"
     ]
    },
    {
     "data": {
      "text/plain": [
       "[-1  0  0  0  0  0  1  0]\n",
       "[ 0 -1  0  0  0  0  1  0]\n",
       "[ 0  0 -1  0  0  0  1  0]\n",
       "[ 0  0  0 -1  0  0  1  0]\n",
       "[ 0  0  0  0 -1  0  1  0]\n",
       "[ 0  0  0  0  0 -1  0  1]\n",
       "[ 1  1  1  1  1  0 -1  2]\n",
       "[ 0  0  0  0  0  1  2  0]"
      ]
     },
     "execution_count": 109,
     "metadata": {},
     "output_type": "execute_result"
    }
   ],
   "source": [
    "for i, collection in collection_of_type.items():\n",
    "    print(i,\": \", len(complement_points(collection)['double']) ,\" points \", len(collection) ,\" cylinders\")\n",
    "\n",
    "print([c['index'] for c in collection_of_type['B2']])\n",
    "#print([c['index'] for c in collection_of_type['C2']])\n",
    "for c in collection_of_type['B2']:\n",
    "    print('\\n')\n",
    "    for ray in c['rays']:\n",
    "        print(ray)\n",
    "complement_points(collection_of_type['B2'])\n"
   ]
  },
  {
   "cell_type": "code",
   "execution_count": 117,
   "metadata": {},
   "outputs": [
    {
     "data": {
      "text/plain": [
       "[-1  0  0  0  0  0  1  0]\n",
       "[ 0 -1  0  0  0  0  1  0]\n",
       "[ 0  0 -1  0  0  0  1  0]\n",
       "[ 0  0  0 -1  0  0  1  0]\n",
       "[ 0  0  0  0 -1  0  1  0]\n",
       "[ 0  0  0  0  0 -1  0  1]\n",
       "[ 1  1  1  1  1  0 -1  2]\n",
       "[ 0  0  0  0  0  1  2  0]"
      ]
     },
     "execution_count": 117,
     "metadata": {},
     "output_type": "execute_result"
    }
   ],
   "source": [
    "\n",
    "gram_matrix(collection_of_type['B2'][0]['rays'])"
   ]
  },
  {
   "cell_type": "code",
   "execution_count": 152,
   "metadata": {},
   "outputs": [
    {
     "data": {
      "text/plain": [
       "[0]"
      ]
     },
     "execution_count": 152,
     "metadata": {},
     "output_type": "execute_result"
    }
   ],
   "source": [
    "cone_types_list_2 = [cone_of_type[i] for i in [\"C5\",]]\n",
    "\n",
    "U=[c for c in cylinders if is_polar_wrt(c,cone_types_list_2)]\n",
    "[u['index'] for u in U]\n"
   ]
  },
  {
   "cell_type": "code",
   "execution_count": 153,
   "metadata": {},
   "outputs": [
    {
     "data": {
      "text/plain": [
       "[437, 442, 463, 468, 498, 528, 588, 618, 918, 948]"
      ]
     },
     "execution_count": 153,
     "metadata": {},
     "output_type": "execute_result"
    }
   ],
   "source": [
    "cone_types_list_7 = [cone_of_type[i] for i in [\"C3\",\"C2\",\"C1\",\"C0\",]]\n",
    "\n",
    "U=[c for c in cylinders if is_polar_wrt(c,cone_types_list_7)]\n",
    "[u['index'] for u in U]\n"
   ]
  },
  {
   "cell_type": "code",
   "execution_count": 102,
   "metadata": {},
   "outputs": [
    {
     "data": {
      "text/plain": [
       "[432, 437, 468, 473, 498, 503, 588, 593, 918, 923]"
      ]
     },
     "execution_count": 102,
     "metadata": {},
     "output_type": "execute_result"
    }
   ],
   "source": [
    "cone_types_list_3 = [cone_of_type[i] for i in [\"B5'\",\"C5'\",]]\n",
    "\n",
    "U=[c for c in cylinders if is_polar_wrt(c,cone_types_list_3)]\n",
    "[u['index'] for u in U]\n",
    "#Forb([cylinders[437],cylinders[432]]).rays()\n"
   ]
  },
  {
   "cell_type": "code",
   "execution_count": 122,
   "metadata": {},
   "outputs": [
    {
     "data": {
      "text/plain": [
       "[437, 468, 498, 588, 918]"
      ]
     },
     "execution_count": 122,
     "metadata": {},
     "output_type": "execute_result"
    }
   ],
   "source": [
    "cone_types_list_4 = [cone_of_type[i] for i in [\"C4\",]]\n",
    "\n",
    "U=[c for c in cylinders if is_polar_wrt(c,cone_types_list_4)]\n",
    "[u['index'] for u in U]\n",
    "#U4 = [cylinders[437]]\n",
    "#Forb(U4).rays()\n"
   ]
  },
  {
   "cell_type": "code",
   "execution_count": 119,
   "metadata": {},
   "outputs": [
    {
     "data": {
      "text/plain": [
       "0-d cone in 7-d lattice N"
      ]
     },
     "execution_count": 119,
     "metadata": {},
     "output_type": "execute_result"
    }
   ],
   "source": [
    "cone_of_type[\"C4'\"] = cylinders[437]['Forb'].intersection(cone_of_type['C4'])\n",
    "U=[c for c in cylinders if is_polar_wrt(c,[cone_of_type[\"C4'\"]])]\n",
    "[u['index'] for u in U]\n",
    "U5=[c for c in cylinders if c['index'] in [437,442]]\n",
    "Forb(U5).intersection(Ample)"
   ]
  },
  {
   "cell_type": "code",
   "execution_count": 183,
   "metadata": {},
   "outputs": [
    {
     "name": "stdout",
     "output_type": "stream",
     "text": [
      "N(0,  1,  0,  0,  0,  0,  0),\n",
      "N(0,  0,  1,  0,  0,  0,  0),\n",
      "N(0,  0,  0,  1,  0,  0,  0),\n",
      "N(0,  0,  0,  0,  1,  0,  0),\n",
      "N(1,  0,  0,  0,  0, -1, -1),\n",
      "N(2, -1, -1, -1, -1,  0, -1)\n",
      "in 7-d lattice N\n",
      "[N(0, 1, 0, 0, 0, 0, 0), N(0, 0, 1, 0, 0, 0, 0), N(0, 0, 0, 1, 0, 0, 0), N(1, 0, 0, 0, 0, 0, -1)]\n"
     ]
    }
   ],
   "source": [
    "cone_types_list_5 = [cone_of_type[i] for i in [\"C4'\",\"C3\",\"C2\",\"C1\",\"C0\",]]\n",
    "print(Forb(U3).rays())\n",
    "print(NE_face_types_rays[\"C3\"])\n"
   ]
  },
  {
   "cell_type": "code",
   "execution_count": 128,
   "metadata": {},
   "outputs": [
    {
     "name": "stdout",
     "output_type": "stream",
     "text": [
      "432\n",
      "N(0, 0, 0, 0, 1, 0, 0)\n",
      "N(0, 0, 0, 1, 0, 0, 0)\n",
      "N(0, 0, 1, 0, 0, 0, 0)\n",
      "N(0, 1, 0, 0, 0, 0, 0)\n",
      "N(1, 0, 0, 0, 0, -1, -1)\n",
      "N(2, -1, -1, -1, -1, -1, 0)\n",
      "N(1, 0, 0, 0, 0, 0, -1)\n",
      "N(1, 0, 0, 0, 0, -1, 0)\n",
      "437\n",
      "N(0, 0, 0, 0, 1, 0, 0)\n",
      "N(0, 0, 0, 1, 0, 0, 0)\n",
      "N(0, 0, 1, 0, 0, 0, 0)\n",
      "N(0, 1, 0, 0, 0, 0, 0)\n",
      "N(1, 0, 0, 0, 0, -1, -1)\n",
      "N(2, -1, -1, -1, -1, 0, -1)\n",
      "N(1, 0, 0, 0, 0, -1, 0)\n",
      "N(1, 0, 0, 0, 0, 0, -1)\n",
      "442\n",
      "N(0, 0, 0, 0, 0, 1, 0)\n",
      "N(0, 0, 0, 1, 0, 0, 0)\n",
      "N(0, 0, 1, 0, 0, 0, 0)\n",
      "N(0, 1, 0, 0, 0, 0, 0)\n",
      "N(1, 0, 0, 0, -1, 0, -1)\n",
      "N(2, -1, -1, -1, 0, -1, -1)\n",
      "N(1, 0, 0, 0, -1, 0, 0)\n",
      "N(1, 0, 0, 0, 0, 0, -1)\n"
     ]
    }
   ],
   "source": [
    "for i in  [432,437,442]:\n",
    "    print(i)\n",
    "    for ray in cylinders[i]['rays']:\n",
    "        print(ray)\n",
    "\n",
    "    "
   ]
  },
  {
   "cell_type": "code",
   "execution_count": 148,
   "metadata": {},
   "outputs": [
    {
     "name": "stdout",
     "output_type": "stream",
     "text": [
      "0 7-d cone in 7-d lattice N\n",
      "1 7-d cone in 7-d lattice N\n",
      "2 7-d cone in 7-d lattice N\n",
      "3 7-d cone in 7-d lattice N\n",
      "4 7-d cone in 7-d lattice N\n",
      "0 7-d cone in 7-d lattice N\n",
      "1 7-d cone in 7-d lattice N\n",
      "2 7-d cone in 7-d lattice N\n",
      "3 7-d cone in 7-d lattice N\n",
      "4 7-d cone in 7-d lattice N\n",
      "0 7-d cone in 7-d lattice N\n",
      "1 7-d cone in 7-d lattice N\n",
      "2 7-d cone in 7-d lattice N\n",
      "3 7-d cone in 7-d lattice N\n",
      "4 7-d cone in 7-d lattice N\n",
      "0 7-d cone in 7-d lattice N\n",
      "1 7-d cone in 7-d lattice N\n",
      "2 7-d cone in 7-d lattice N\n",
      "3 7-d cone in 7-d lattice N\n",
      "4 7-d cone in 7-d lattice N\n",
      "0 7-d cone in 7-d lattice N\n",
      "1 7-d cone in 7-d lattice N\n",
      "2 7-d cone in 7-d lattice N\n",
      "3 7-d cone in 7-d lattice N\n",
      "4 7-d cone in 7-d lattice N\n",
      "0 7-d cone in 7-d lattice N\n",
      "1 7-d cone in 7-d lattice N\n",
      "2 7-d cone in 7-d lattice N\n",
      "3 7-d cone in 7-d lattice N\n",
      "4 7-d cone in 7-d lattice N\n",
      "0 7-d cone in 7-d lattice N\n",
      "1 7-d cone in 7-d lattice N\n",
      "2 7-d cone in 7-d lattice N\n",
      "3 7-d cone in 7-d lattice N\n",
      "4 7-d cone in 7-d lattice N\n",
      "0 7-d cone in 7-d lattice N\n",
      "1 7-d cone in 7-d lattice N\n",
      "2 7-d cone in 7-d lattice N\n",
      "3 7-d cone in 7-d lattice N\n",
      "4 7-d cone in 7-d lattice N\n",
      "0 7-d cone in 7-d lattice N\n",
      "1 7-d cone in 7-d lattice N\n",
      "2 7-d cone in 7-d lattice N\n",
      "3 7-d cone in 7-d lattice N\n",
      "4 7-d cone in 7-d lattice N\n",
      "0 7-d cone in 7-d lattice N\n",
      "1 7-d cone in 7-d lattice N\n",
      "2 7-d cone in 7-d lattice N\n",
      "3 7-d cone in 7-d lattice N\n",
      "4 7-d cone in 7-d lattice N\n",
      "0 7-d cone in 7-d lattice N\n",
      "1 7-d cone in 7-d lattice N\n",
      "2 7-d cone in 7-d lattice N\n",
      "3 7-d cone in 7-d lattice N\n",
      "4 7-d cone in 7-d lattice N\n",
      "0 7-d cone in 7-d lattice N\n",
      "1 7-d cone in 7-d lattice N\n",
      "2 7-d cone in 7-d lattice N\n",
      "3 7-d cone in 7-d lattice N\n",
      "4 7-d cone in 7-d lattice N\n",
      "0 7-d cone in 7-d lattice N\n",
      "1 7-d cone in 7-d lattice N\n",
      "2 7-d cone in 7-d lattice N\n",
      "3 7-d cone in 7-d lattice N\n",
      "4 7-d cone in 7-d lattice N\n",
      "0 7-d cone in 7-d lattice N\n",
      "1 7-d cone in 7-d lattice N\n",
      "2 7-d cone in 7-d lattice N\n",
      "3 7-d cone in 7-d lattice N\n",
      "4 7-d cone in 7-d lattice N\n"
     ]
    }
   ],
   "source": [
    "U1=[c for c in cylinders if c['index'] in [5]]\n",
    "U2=[c for c in cylinders if c['index'] in [0]]\n",
    "U3=[c for c in cylinders if c['index'] in [437]]\n",
    "U4=[c for c in cylinders if c['index'] in [437,432]]\n",
    "U5=[c for c in cylinders if c['index'] in [437,442]]\n",
    "for key, cone in cone_of_type.items():\n",
    "    for i,U in enumerate([U1,U2,U3,U4,U5]):\n",
    "        #print(i,key,is_covered_by(cone,Pol(U)))\n",
    "        print(i,Pol(U))"
   ]
  },
  {
   "cell_type": "code",
   "execution_count": 159,
   "metadata": {},
   "outputs": [
    {
     "data": {
      "text/plain": [
       "False"
      ]
     },
     "execution_count": 159,
     "metadata": {},
     "output_type": "execute_result"
    }
   ],
   "source": [
    "is_covered_by(cone_of_type[\"B5'\"],Pol(U3))\n",
    "Pol(U3).contains(E[4])"
   ]
  },
  {
   "cell_type": "code",
   "execution_count": 186,
   "metadata": {},
   "outputs": [
    {
     "data": {
      "text/plain": [
       "M(1, 0, 0, 0, 0, -1, 2)\n",
       "in 7-d lattice M"
      ]
     },
     "execution_count": 186,
     "metadata": {},
     "output_type": "execute_result"
    }
   ],
   "source": [
    "G=Forb(U3).intersection(Cone(NE_face_types_rays[\"C5'\"]+[-K]))\n",
    "G.dual().lines()"
   ]
  },
  {
   "cell_type": "code",
   "execution_count": 166,
   "metadata": {},
   "outputs": [],
   "source": [
    "for ray in NE_face_types_rays[\"C5'\"]+[-K]:\n",
    "    if ray not in Pol(U3):\n",
    "        print(ray)"
   ]
  },
  {
   "cell_type": "code",
   "execution_count": 191,
   "metadata": {},
   "outputs": [
    {
     "data": {
      "text/plain": [
       "0"
      ]
     },
     "execution_count": 191,
     "metadata": {},
     "output_type": "execute_result"
    }
   ],
   "source": [
    "NE_face_types_rays[\"B5'\"]\n",
    "dot(L+E[4]-2*E[5],2*(L-E[5])-K)"
   ]
  },
  {
   "cell_type": "code",
   "execution_count": 207,
   "metadata": {},
   "outputs": [
    {
     "data": {
      "text/plain": [
       "[N(2, -1, -1, -1, -1, 0, -1), N(2, -1, -1, -1, -1, -1, 0)]"
      ]
     },
     "execution_count": 207,
     "metadata": {},
     "output_type": "execute_result"
    }
   ],
   "source": [
    "curves = E[:4]+[L-E[4]-E[5]]\n",
    "q = minus_one_curves[25]\n",
    "[e for e in minus_one_curves if all(dot(e,c)==1 for c in curves)]\n"
   ]
  },
  {
   "cell_type": "code",
   "execution_count": 209,
   "metadata": {},
   "outputs": [
    {
     "name": "stdout",
     "output_type": "stream",
     "text": [
      "N(0, 1, 0, 0, 0, 0, 0) N(1, -1, 0, 0, 0, -1, 0)\n",
      "N(0, 0, 1, 0, 0, 0, 0) N(1, 0, -1, 0, 0, -1, 0)\n",
      "N(0, 0, 0, 1, 0, 0, 0) N(1, 0, 0, -1, 0, -1, 0)\n",
      "N(0, 0, 0, 0, 1, 0, 0) N(1, 0, 0, 0, -1, -1, 0)\n",
      "N(0, 0, 0, 0, 0, 0, 1) N(1, 0, 0, 0, 0, -1, -1)\n"
     ]
    }
   ],
   "source": [
    "for i,j in double_intersections:\n",
    "    if i+j==L-E[4]:\n",
    "        print(i,j)"
   ]
  },
  {
   "cell_type": "code",
   "execution_count": null,
   "metadata": {},
   "outputs": [],
   "source": []
  }
 ],
 "metadata": {
  "kernelspec": {
   "display_name": "SageMath 9.1.rc1",
   "language": "sage",
   "name": "sagemath"
  },
  "language_info": {
   "codemirror_mode": {
    "name": "ipython",
    "version": 3
   },
   "file_extension": ".py",
   "mimetype": "text/x-python",
   "name": "python",
   "nbconvert_exporter": "python",
   "pygments_lexer": "ipython3",
   "version": "3.7.3"
  }
 },
 "nbformat": 4,
 "nbformat_minor": 4
}
