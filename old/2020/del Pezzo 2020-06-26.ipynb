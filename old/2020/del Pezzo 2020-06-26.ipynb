{
 "cells": [
  {
   "cell_type": "code",
   "execution_count": 1,
   "metadata": {},
   "outputs": [
    {
     "name": "stdout",
     "output_type": "stream",
     "text": [
      "Requirement already satisfied: tqdm in /home/sage/sage/local/lib/python3.7/site-packages (4.46.1)\n"
     ]
    }
   ],
   "source": [
    "# installs\n",
    "\n",
    "#!{sys.executable} -m pip install tqdm\n",
    "\n",
    "# ниже - неудачная попытка отрисовать в three.js\n",
    "#!curl -sL https://deb.nodesource.com/setup_12.x | sudo -E bash -\n",
    "#!sudo apt update\n",
    "#!sudo apt install -y nodejs\n",
    "#!{sys.executable} -m pip install nodejs\n",
    "#!{sys.executable} -m pip install pythreejs\n",
    "# теперь можно слева во вкладе extensions установить jupyterlab-manager и threejs"
   ]
  },
  {
   "cell_type": "code",
   "execution_count": 2,
   "metadata": {},
   "outputs": [],
   "source": [
    "# imports\n",
    "import sys\n",
    "import tqdm\n",
    "from collections import Counter\n",
    "import itertools"
   ]
  },
  {
   "cell_type": "code",
   "execution_count": 86,
   "metadata": {},
   "outputs": [],
   "source": [
    "N = ToricLattice(7)\n",
    "K = N([-3, 1, 1, 1, 1, 1, 1]) # canonical divisor\n",
    "E = identity_matrix(QQ, 7)[:,1:].columns() # E is the set of exceptional curves, so the basis is L, E[0], .. , E[5]\n",
    "Line = lambda exceptionals : (-K + sum(exceptionals)) / 3\n",
    "L = Line(E)\n",
    "\n",
    "\n",
    "\n",
    "Q = diagonal_matrix([1]+6*[-1])\n",
    "dot = lambda a, b: a*Q*b\n",
    "gram_matrix = lambda rays: matrix([[dot(a,b) for a in rays] for b in rays])\n",
    "\n",
    "minus_one_curves = E + [L-ei-ej for ei,ej in itertools.combinations(E, 2)] + [-K-L+e for e in E]\n",
    "disjoint_curves = lambda curves: [c for c in minus_one_curves if all(dot(c,c2)==0 for c2 in curves)]\n",
    "\n",
    "NE = Cone(minus_one_curves)\n",
    "Ample = Cone([Q*ray for ray in NE.dual().rays()])\n",
    "\n",
    "\n",
    "# take one Fujita face for each isomorphism class (determined by CPW, may check explicitly later)\n",
    "# and turn them into subcones in Mori cone by adding -K\n",
    "\n",
    "Fujita_face_rays_examples = {\n",
    "        'B6': E,\n",
    "        'B5': E[:5],\n",
    "        'B5PP': E[:4]+[L-E[4]-E[5]], # B(5) for P1xP1. Another type of independent set of 5 (-1)-curves, this one is maximal\n",
    "        'B4': E[:4],\n",
    "        'B3': E[:3],\n",
    "        'B2': E[:2],\n",
    "        'B1': E[:1],\n",
    "        #'C6': E[:5]+[L-E[5]-e for e in E[:5]], # C(6). Schlafli graph is 4-ultrahomogeneous, and, after fixing two pairs, three others are defined uniquely\n",
    "        'C6B5': E[:5]+[L-E[5]], # здесь и ниже - части C6, из подобных которым складывается весь С6 \n",
    "        'C6B4': E[:4]+[L-E[5]],\n",
    "        'C6B3': E[:3]+[L-E[5]],\n",
    "        'C6B2': E[:2]+[L-E[5]],\n",
    "        'C6B1': E[:1]+[L-E[5]],\n",
    "        'C6B0': E[:0]+[L-E[5]],\n",
    "        'C6PP': E[:4]+[L-E[5]-E[4], L-E[5]],\n",
    "    }\n",
    "Fujita_cone_examples = {label:Cone(rays+[-K]).intersection(Ample) for label,rays in Fujita_face_rays_examples.items()}\n",
    "\n",
    "\n",
    "# вычисляем типы граней\n",
    "def face_type(face):\n",
    "    m = gram_matrix(face.rays())\n",
    "    eigenvalues = Counter(m.eigenvalues())\n",
    "    #print(eigenvalues)\n",
    "    if eigenvalues[-2]==5 and eigenvalues[0]==5:\n",
    "        return \"C\"\n",
    "    if len(eigenvalues.keys())!=1:\n",
    "        print('ERROR face_type, eigenvalues: ',eigenvalues)\n",
    "    if eigenvalues[-1]==5:\n",
    "        if all(all(dot(curve,e)==0 for e in face.rays())==False for curve in minus_one_curves):\n",
    "            return \"B5PP\" \n",
    "    return f\"B{eigenvalues[-1]}\"\n",
    "\n",
    "assert face_type(Cone(Fujita_face_rays_examples['B5PP'])) == 'B5PP'\n",
    "\n",
    "is_covered_by = lambda cone1, cone2: all(cone2.contains(ray) for ray in cone1.rays()) and cone2.interior_contains(sum(cone1.rays()))\n",
    "\n",
    "def independent_sets(vectors, size = 6):\n",
    "    if size == 0:\n",
    "        yield []\n",
    "    for i, v in enumerate(vectors):\n",
    "        orthogonals = [v2 for v2 in vectors[i+1:] if dot(v, v2)==0]\n",
    "        for subset in independent_sets(orthogonals, size-1):\n",
    "            yield subset + [v]\n",
    "\n",
    "#cylinder1 = lambda E : E + [Line(E)-E[-1], -K-Line(E)+E[-1]]   \n",
    "def cylinder2(E):\n",
    "    '''\n",
    "    E is a list of exceptional curves, and e is one of them\n",
    "    returns \n",
    "    1. list of rays of the cone of divisors H such that the cylinder (P^2 minus conic through E-e and tangent line through e) is H-polar\n",
    "    2. list of (-1)-curves lying in the complement of the cylinder (or a union of cylinders if many)\n",
    "    '''\n",
    "    for e in E:\n",
    "        tangent = Line(E) - e\n",
    "        conic = - K - tangent\n",
    "        curves = E+[conic]\n",
    "        yield curves + [tangent], curves\n",
    "\n",
    "def cylinder1(E):\n",
    "    \"\"\"\n",
    "    cylinder complement to E and lines through blowdowns of e and one of E-e\n",
    "    \"\"\"\n",
    "    for e in E:\n",
    "        curves = E+[Line(E)-e-f for f in E if f!=e]\n",
    "        yield curves, curves\n",
    "\n",
    "def cylinder_P1(E):\n",
    "    '''\n",
    "    CPW Example 4.1.6 and Lemma 4.2.2 for contraction of E1..E4, L-E5-E6.\n",
    "    '''\n",
    "    for i,j in itertools.permutations(range(len(E)),int(2)):\n",
    "        complement = [k for k in range(len(E)) if (k!=i) and (k!=j)]\n",
    "        conic = -K-Line(E)+E[i]\n",
    "        curves = [E[k] for k in complement]+[Line(E)-E[i]-E[j], conic]\n",
    "        yield curves + [Line(E)-E[i],Line(E)-E[j]], curves\n",
    "\n",
    "def cylinder_cones(cylinder=cylinder2):\n",
    "    '''\n",
    "    returns a list of cones of compatible divisors for cylinders of considered type\n",
    "    '''\n",
    "    for blowdown in independent_sets(minus_one_curves):\n",
    "        for ray_list,_ in cylinder(blowdown):\n",
    "            yield Cone(ray_list)\n"
   ]
  },
  {
   "cell_type": "code",
   "execution_count": 7,
   "metadata": {},
   "outputs": [],
   "source": [
    "# setting cones\n",
    "\n",
    "cones = [cone for cone in cylinder_cones()] + [cone for cone in cylinder_cones(cylinder1)] + [cone for cone in cylinder_cones(cylinder_P1)]\n",
    "\n",
    "#symmetries = [tuple(1 if i==j else -1 if i==j+1 else 0 for j in range(7)) for i in range(2,7)]\n",
    "#ample_segment = Cone(list(ample_cone.dual().rays())+symmetries).dual()\n",
    "\n",
    "#minkowski_sum = lambda cones : Cone([ray for cone in cones for ray in cone.rays()])\n",
    "#contains_ample = lambda cone : all(cone.contains(ray) for ray in ample_cone.rays())\n",
    "#is_subcone = lambda cone1, cone2 : all(cone2.contains(ray) for ray in cone1.rays())\n"
   ]
  },
  {
   "cell_type": "code",
   "execution_count": 87,
   "metadata": {},
   "outputs": [
    {
     "name": "stdout",
     "output_type": "stream",
     "text": [
      "B6 [0, 1, 2, 3, 4, 5]\n",
      "B5 [0, 1, 2, 3, 4, 5]\n",
      "B5PP [864, 869, 900, 905, 930, 935, 1020, 1025, 1350, 1355]\n",
      "B4 [2, 3, 4, 5]\n",
      "B3 [3, 4, 5, 9, 10, 11]\n",
      "B2 [4, 5, 10, 11, 16, 17, 22, 23, 28, 29, 71, 137]\n",
      "B1 [5, 11, 17, 23, 29, 35, 41, 47, 53, 59, 65, 71, 77, 83, 89, 95]\n",
      "C6B5 [0]\n",
      "C6B4 [869, 900, 930, 1020, 1350]\n",
      "C6B3 [869, 874, 895, 900, 930, 960, 1020, 1050, 1350, 1380]\n",
      "C6B2 [28, 29, 71, 137, 869, 874, 879, 895, 900, 911, 925, 930, 941, 955, 960, 971, 1020, 1050, 1110, 1334, 1350, 1380, 1440, 1664]\n",
      "C6B1 [29, 47, 59, 65, 71, 77, 83, 89, 869, 874, 879, 884, 895, 900, 911, 916, 925, 930, 941, 946, 955, 960, 971, 976, 1015, 1020, 1031, 1036, 1045, 1050, 1061, 1066, 1105, 1110, 1121, 1126, 1319, 1324, 1329, 1334, 1350, 1380, 1440, 1664, 1680, 1904, 2084, 2234]\n",
      "C6B0 [869, 874, 879, 884, 889, 895, 900, 911, 916, 921, 925, 930, 941, 946, 951, 955, 960, 971, 976, 981, 1015, 1020, 1031, 1036, 1041, 1045, 1050, 1061, 1066, 1071, 1105, 1110, 1121, 1126, 1131, 1319, 1324, 1329, 1334, 1339, 1345, 1350, 1361, 1366, 1371, 1375, 1380, 1391, 1396, 1401, 1435, 1440, 1451, 1456, 1461, 1649, 1654, 1659, 1664, 1669, 1675, 1680, 1691, 1696, 1701, 1889, 1894, 1899, 1904, 1909, 2069, 2074, 2079, 2084, 2089, 2219, 2224, 2229, 2234, 2239]\n",
      "C6PP [864, 869, 900, 905, 930, 935, 1020, 1025, 1350, 1355]\n"
     ]
    }
   ],
   "source": [
    "shared_cylinders = lambda keys: [i for i,cone in enumerate(cones) if all(is_covered_by(Fujita_cone,cone) for key, Fujita_cone in Fujita_cone_examples.items() if key in keys) ]\n",
    "for k in Fujita_cone_examples.keys():\n",
    "    print(k,shared_cylinders([k]))\n",
    "\n"
   ]
  },
  {
   "cell_type": "code",
   "execution_count": 142,
   "metadata": {},
   "outputs": [
    {
     "name": "stdout",
     "output_type": "stream",
     "text": [
      "['B6', 'B5', 'B4', 'B3', 'B2', 'B1'] 6-d cone in 7-d lattice N [5]\n",
      "['B3', 'B2', 'B1'] 0-d cone in 7-d lattice N [5, 11]\n",
      "['B5PP', 'C6B4', 'C6B3', 'C6B2', 'C6B1', 'C6B0', 'C6PP'] 6-d cone in 7-d lattice N [869, 900, 930, 1020, 1350]\n"
     ]
    }
   ],
   "source": [
    "    \n",
    "k = ['B6','B5','B4']+['B3','B2','B1']\n",
    "print(k,complement_cone([cones[i] for i in shared_cylinders(k)]),shared_cylinders(k))\n",
    "\n",
    "k = ['B3','B2','B1']\n",
    "print(k,complement_cone([cones[i] for i in shared_cylinders(k)]),shared_cylinders(k))\n",
    "\n",
    "k = ['B5PP','C6B4','C6B3','C6B2','C6B1','C6B0','C6PP']\n",
    "print(k,complement_cone([cones[i] for i in shared_cylinders(k)]),shared_cylinders(k))\n"
   ]
  },
  {
   "cell_type": "code",
   "execution_count": 212,
   "metadata": {},
   "outputs": [
    {
     "name": "stdout",
     "output_type": "stream",
     "text": [
      "0-d cone in 7-d lattice N\n",
      "N(0,  0,  0,  0,  1,  0,  0),\n",
      "N(0,  0,  0,  1,  0,  0,  0),\n",
      "N(0,  0,  1,  0,  0,  0,  0),\n",
      "N(0,  1,  0,  0,  0,  0,  0),\n",
      "N(1,  0,  0,  0,  0, -1, -1),\n",
      "N(2, -1, -1, -1, -1,  0, -1),\n",
      "N(1,  0,  0,  0,  0, -1,  0),\n",
      "N(1,  0,  0,  0,  0,  0, -1)\n",
      "in 7-d lattice N\n",
      "N(0,  0,  0,  0,  0,  1,  0),\n",
      "N(0,  0,  0,  1,  0,  0,  0),\n",
      "N(0,  0,  1,  0,  0,  0,  0),\n",
      "N(0,  1,  0,  0,  0,  0,  0),\n",
      "N(1,  0,  0,  0, -1,  0, -1),\n",
      "N(2, -1, -1, -1,  0, -1, -1),\n",
      "N(1,  0,  0,  0, -1,  0,  0),\n",
      "N(1,  0,  0,  0,  0,  0, -1)\n",
      "in 7-d lattice N\n"
     ]
    }
   ],
   "source": [
    "#k = [869]#, 900, 930, 1020, 1350]\n",
    "c=complement_cone([cones[869]])\n",
    "#complement_cone([cones[869]]).dual().lines()\n",
    "#Cone(Fujita_face_rays_examples['C6PP']+[-K]).intersection(complement_cone([cones[869]]))\n",
    "#Fujita_cone_examples['C6PP'].intersection(complement_cone([cones[869]]))\n",
    "#c.intersection(Ample).dual().lines()[0]*Q\n",
    "#complement_cone([cones[i] for i in shared_cylinders(['B5PP','C6PP',])])\n",
    "#complement_cone([cones[i] for i in shared_cylinders(['C6B3','C6B2','C6B1','C6B0'])])\n",
    "#[cones[i].rays() for i in shared_cylinders(['C6B3','C6B2','C6B1','C6B0'])]\n",
    "k=shared_cylinders(['C6B3','C6B2','C6B1','C6B0'])\n",
    "k=[869, 874]#, 895, 900, 930, 960, 1020, 1050, 1350, 1380]\n",
    "print(complement_cone([cones[i] for i in k]))\n",
    "for i in k:\n",
    "    print(cones[i].rays())"
   ]
  },
  {
   "cell_type": "code",
   "execution_count": 264,
   "metadata": {},
   "outputs": [
    {
     "data": {
      "text/plain": [
       "True"
      ]
     },
     "execution_count": 264,
     "metadata": {},
     "output_type": "execute_result"
    }
   ],
   "source": [
    "complement_cone([cones[i] for i in shared_cylinders(['B5PP','C6PP',])])\n",
    "shared_cylinders(['B5PP','C6PP',])\n",
    "k=[864, 869]\n",
    "#complement_cone([cones[i] for i in k])\n",
    "cones[869].rays()\n",
    "complement_cone = lambda cylinders: Cone([minus_one_curves[i]  for i in shared_curves(cylinders)],lattice=ToricLattice(7))#.intersection(Ample)\n",
    "c1 = complement_cone([cones[869]]).dual()\n",
    "c2 = Cone([-r for r in Fujita_cone_examples['C6B4'].dual().rays()])\n",
    "C4=Cone(Fujita_face_rays_examples['C6B4']+[-K])\n",
    "F=complement_cone([cones[869]])\n",
    "G=F.intersection(C4)\n",
    "is_covered_by(G,C4)\n",
    "#shared_cylinders(['C6B4'])\n",
    "all(C4.contains(ray) for ray in G.rays())# and \n",
    "C4.interior_contains(sum(G.rays()))\n",
    "C4.dual().intersection(-F.dual()).rays()\n",
    "F.relative_interior_contains(N(5*2,-1,-1,-1,-1,-1*2,-3*2)) "
   ]
  },
  {
   "cell_type": "code",
   "execution_count": 270,
   "metadata": {},
   "outputs": [
    {
     "data": {
      "text/plain": [
       "[432,\n",
       " 440,\n",
       " 446,\n",
       " 452,\n",
       " 464,\n",
       " 470,\n",
       " 482,\n",
       " 522,\n",
       " 530,\n",
       " 536,\n",
       " 548,\n",
       " 588,\n",
       " 596,\n",
       " 636,\n",
       " 672,\n",
       " 869,\n",
       " 874,\n",
       " 879,\n",
       " 884,\n",
       " 889,\n",
       " 895,\n",
       " 900,\n",
       " 911,\n",
       " 916,\n",
       " 921,\n",
       " 925,\n",
       " 930,\n",
       " 941,\n",
       " 946,\n",
       " 951,\n",
       " 955,\n",
       " 960,\n",
       " 971,\n",
       " 976,\n",
       " 981,\n",
       " 1015,\n",
       " 1020,\n",
       " 1031,\n",
       " 1036,\n",
       " 1041,\n",
       " 1045,\n",
       " 1050,\n",
       " 1061,\n",
       " 1066,\n",
       " 1071,\n",
       " 1105,\n",
       " 1110,\n",
       " 1121,\n",
       " 1126,\n",
       " 1131,\n",
       " 1319,\n",
       " 1324,\n",
       " 1329,\n",
       " 1334,\n",
       " 1339,\n",
       " 1345,\n",
       " 1350,\n",
       " 1361,\n",
       " 1366,\n",
       " 1371,\n",
       " 1375,\n",
       " 1380,\n",
       " 1391,\n",
       " 1396,\n",
       " 1401,\n",
       " 1435,\n",
       " 1440,\n",
       " 1451,\n",
       " 1456,\n",
       " 1461,\n",
       " 1649,\n",
       " 1654,\n",
       " 1659,\n",
       " 1664,\n",
       " 1669,\n",
       " 1675,\n",
       " 1680,\n",
       " 1691,\n",
       " 1696,\n",
       " 1701,\n",
       " 1889,\n",
       " 1894,\n",
       " 1899,\n",
       " 1904,\n",
       " 1909,\n",
       " 2069,\n",
       " 2074,\n",
       " 2079,\n",
       " 2084,\n",
       " 2089,\n",
       " 2219,\n",
       " 2224,\n",
       " 2229,\n",
       " 2234,\n",
       " 2239]"
      ]
     },
     "execution_count": 270,
     "metadata": {},
     "output_type": "execute_result"
    }
   ],
   "source": [
    "badcone = G.intersection(Ample)\n",
    "goodcones = [i for i,c in enumerate(cones) if is_covered_by(badcone,c)]\n",
    "goodcones"
   ]
  },
  {
   "cell_type": "code",
   "execution_count": 135,
   "metadata": {},
   "outputs": [
    {
     "data": {
      "text/plain": [
       "-x*y^2 + (x^2 + 3*x*y + y*z)*z"
      ]
     },
     "execution_count": 135,
     "metadata": {},
     "output_type": "execute_result"
    }
   ],
   "source": [
    "var('x y z a b c beta')\n",
    "a,b,c=1,3,1\n",
    "#x=-b*y/(3*a)\n",
    "#z=b*b*y/(9*a*c)\n",
    "beta = -b^3/(27*a*c)\n",
    "G = z*(a*x*x+b*x*y+c*y*z)+beta*x*y*y\n",
    "Gx = G.diff(x)\n",
    "Gy = G.diff(y)\n",
    "Gz = G.diff(z)\n",
    "#solve([Gx==0,Gy==0,Gz==0,G==0],x,y,z)\n",
    "#y=-x\n",
    "#z=-x\n",
    "z*(a*x*x+b*x*y+c*y*z)+beta*x*y*y"
   ]
  },
  {
   "cell_type": "code",
   "execution_count": 138,
   "metadata": {},
   "outputs": [
    {
     "data": {
      "text/plain": [
       "True"
      ]
     },
     "execution_count": 138,
     "metadata": {},
     "output_type": "execute_result"
    }
   ],
   "source": [
    "P.<x,y,z> = ProjectiveSpace(QQ, 2)\n",
    "a,b,c=1,3,1\n",
    "beta = -b^3/(27*a*c)\n",
    "G = z*(a*x*x+b*x*y+c*y*z)+beta*x*y*y\n",
    "C = Curve([G], P)\n",
    "C.is_singular()"
   ]
  },
  {
   "cell_type": "code",
   "execution_count": 141,
   "metadata": {},
   "outputs": [
    {
     "data": {
      "text/plain": [
       "7-d cone in 7-d lattice N"
      ]
     },
     "execution_count": 141,
     "metadata": {},
     "output_type": "execute_result"
    }
   ],
   "source": [
    "c1 = Fujita_cone_examples['C6PP']\n",
    "c2 = cones[869]\n",
    "c2.intersection(c1)"
   ]
  },
  {
   "cell_type": "code",
   "execution_count": 103,
   "metadata": {},
   "outputs": [
    {
     "name": "stdout",
     "output_type": "stream",
     "text": [
      "6-d cone in 7-d lattice N\n",
      "N(0,  0,  0,  0,  0,  0,  1),\n",
      "N(0,  0,  0,  0,  0,  1,  0),\n",
      "N(0,  0,  0,  0,  1,  0,  0),\n",
      "N(0,  0,  0,  1,  0,  0,  0),\n",
      "N(0,  0,  1,  0,  0,  0,  0),\n",
      "N(0,  1,  0,  0,  0,  0,  0),\n",
      "N(2,  0, -1, -1, -1, -1, -1),\n",
      "N(1, -1,  0,  0,  0,  0,  0)\n",
      "in 7-d lattice N\n",
      "6-d cone in 7-d lattice N\n",
      "N(0,  0,  0,  0,  1,  0,  0),\n",
      "N(0,  0,  0,  1,  0,  0,  0),\n",
      "N(0,  0,  1,  0,  0,  0,  0),\n",
      "N(0,  1,  0,  0,  0,  0,  0),\n",
      "N(1,  0,  0,  0,  0, -1, -1),\n",
      "N(2, -1, -1, -1, -1,  0, -1),\n",
      "N(1,  0,  0,  0,  0, -1,  0),\n",
      "N(1,  0,  0,  0,  0,  0, -1)\n",
      "in 7-d lattice N\n",
      "6-d cone in 7-d lattice N\n",
      "N(1,  0,  0,  0,  0, -1, -1),\n",
      "N(0,  0,  0,  1,  0,  0,  0),\n",
      "N(0,  0,  1,  0,  0,  0,  0),\n",
      "N(0,  1,  0,  0,  0,  0,  0),\n",
      "N(0,  0,  0,  0,  1,  0,  0),\n",
      "N(2, -1, -1, -1, -1,  0, -1),\n",
      "N(1,  0,  0,  0,  0, -1,  0),\n",
      "N(1,  0,  0,  0,  0,  0, -1)\n",
      "in 7-d lattice N\n",
      "6-d cone in 7-d lattice N\n",
      "N(1,  0,  0,  0,  0, -1, -1),\n",
      "N(0,  0,  0,  0,  1,  0,  0),\n",
      "N(0,  0,  1,  0,  0,  0,  0),\n",
      "N(0,  1,  0,  0,  0,  0,  0),\n",
      "N(0,  0,  0,  1,  0,  0,  0),\n",
      "N(2, -1, -1, -1, -1,  0, -1),\n",
      "N(1,  0,  0,  0,  0, -1,  0),\n",
      "N(1,  0,  0,  0,  0,  0, -1)\n",
      "in 7-d lattice N\n",
      "6-d cone in 7-d lattice N\n",
      "N(1,  0,  0,  0,  0, -1, -1),\n",
      "N(0,  0,  0,  0,  1,  0,  0),\n",
      "N(0,  0,  0,  1,  0,  0,  0),\n",
      "N(0,  1,  0,  0,  0,  0,  0),\n",
      "N(0,  0,  1,  0,  0,  0,  0),\n",
      "N(2, -1, -1, -1, -1,  0, -1),\n",
      "N(1,  0,  0,  0,  0, -1,  0),\n",
      "N(1,  0,  0,  0,  0,  0, -1)\n",
      "in 7-d lattice N\n",
      "6-d cone in 7-d lattice N\n",
      "N(1,  0,  0,  0,  0, -1, -1),\n",
      "N(0,  0,  0,  0,  1,  0,  0),\n",
      "N(0,  0,  0,  1,  0,  0,  0),\n",
      "N(0,  0,  1,  0,  0,  0,  0),\n",
      "N(0,  1,  0,  0,  0,  0,  0),\n",
      "N(2, -1, -1, -1, -1,  0, -1),\n",
      "N(1,  0,  0,  0,  0, -1,  0),\n",
      "N(1,  0,  0,  0,  0,  0, -1)\n",
      "in 7-d lattice N\n"
     ]
    }
   ],
   "source": [
    "for i in [869, 900, 930, 1020, 1350]:\n",
    "    print(complement_cone([cones[i]]))\n",
    "    print(cones[i].rays())"
   ]
  },
  {
   "cell_type": "code",
   "execution_count": 102,
   "metadata": {},
   "outputs": [
    {
     "data": {
      "text/plain": [
       "2160"
      ]
     },
     "execution_count": 102,
     "metadata": {},
     "output_type": "execute_result"
    }
   ],
   "source": [
    " len([c for c in cylinder_cones(cylinder_P1)])#] + [cone for cone in cylinder_cones(cylinder1)] + [cone for cone in cylinder_cones(cylinder_P1)]"
   ]
  },
  {
   "cell_type": "code",
   "execution_count": 89,
   "metadata": {},
   "outputs": [
    {
     "name": "stdout",
     "output_type": "stream",
     "text": [
      "B6 0-d cone in 7-d lattice N\n",
      "B5 0-d cone in 7-d lattice N\n",
      "B5PP 0-d cone in 7-d lattice N\n",
      "B4 0-d cone in 7-d lattice N\n",
      "B3 0-d cone in 7-d lattice N\n",
      "B2 0-d cone in 7-d lattice N\n",
      "B1 0-d cone in 7-d lattice N\n",
      "C6B5 6-d cone in 7-d lattice N\n",
      "C6B4 6-d cone in 7-d lattice N\n",
      "C6B3 0-d cone in 7-d lattice N\n",
      "C6B2 0-d cone in 7-d lattice N\n",
      "C6B1 0-d cone in 7-d lattice N\n",
      "C6B0 0-d cone in 7-d lattice N\n",
      "C6PP 0-d cone in 7-d lattice N\n"
     ]
    }
   ],
   "source": [
    "curves_in_complement = lambda cylinder: [i for i, curve in enumerate(minus_one_curves) if N(curve) in cylinder.rays()]\n",
    "def shared_curves(cylinders): \n",
    "    if len(cylinders)==0:\n",
    "        return minus_one_curves\n",
    "    complements = curves_in_complement(cylinders[0])\n",
    "    shared_complements = [curve for curve in complements if all(curve in curves_in_complement(cylinder) for cylinder in cylinders[1:])]\n",
    "    return shared_complements\n",
    "\n",
    "complement_cone = lambda cylinders: Cone([minus_one_curves[i]  for i in shared_curves(cylinders)],lattice=ToricLattice(7)).intersection(Ample)\n",
    "\n",
    "for k in Fujita_cone_examples.keys():\n",
    "    print(k,complement_cone([cones[i] for i in shared_cylinders([k])]))\n",
    "#def shared_lines(cylinders)\n",
    "#cones[0].rays()\n",
    "#curves_in_complement(cones[0])\n",
    "#minus_one_curves"
   ]
  },
  {
   "cell_type": "code",
   "execution_count": 90,
   "metadata": {},
   "outputs": [
    {
     "data": {
      "text/plain": [
       "7-d cone in 7-d lattice N"
      ]
     },
     "execution_count": 90,
     "metadata": {},
     "output_type": "execute_result"
    }
   ],
   "source": [
    "Ample"
   ]
  },
  {
   "cell_type": "code",
   "execution_count": null,
   "metadata": {},
   "outputs": [],
   "source": []
  }
 ],
 "metadata": {
  "kernelspec": {
   "display_name": "SageMath 9.1.rc1",
   "language": "sage",
   "name": "sagemath"
  },
  "language_info": {
   "codemirror_mode": {
    "name": "ipython",
    "version": 3
   },
   "file_extension": ".py",
   "mimetype": "text/x-python",
   "name": "python",
   "nbconvert_exporter": "python",
   "pygments_lexer": "ipython3",
   "version": "3.7.3"
  }
 },
 "nbformat": 4,
 "nbformat_minor": 4
}
