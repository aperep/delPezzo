{
 "cells": [
  {
   "cell_type": "code",
   "execution_count": 1,
   "metadata": {},
   "outputs": [],
   "source": [
    "import itertools"
   ]
  },
  {
   "cell_type": "code",
   "execution_count": 2,
   "metadata": {},
   "outputs": [],
   "source": [
    "N = ToricLattice(7)\n",
    "K = N([-3, 1, 1, 1, 1, 1, 1]) # canonical divisor\n",
    "E = identity_matrix(QQ, 7)[:,1:].columns() # E is the set of exceptional curves, so the basis is L, E[0], .. , E[5]\n",
    "E = [N(e) for e in E]\n",
    "Line = lambda exceptional_curves : N([i/3 for i in (-K + sum(exceptional_curves)) ])\n",
    "L = Line(E)\n",
    "\n",
    "Q = diagonal_matrix([1]+6*[-1])\n",
    "dot = lambda a, b: a*Q*b\n",
    "gram_matrix = lambda rays: matrix([[dot(a,b) for a in rays] for b in rays])\n",
    "\n",
    "minus_one_curves = E + [L-ei-ej for ei,ej in itertools.combinations(E, 2)] + [-K-L+e for e in E]\n",
    "curves_disjoint_with = lambda curves: [c for c in minus_one_curves if all(dot(c,c2)==0 for c2 in curves)]\n",
    "\n",
    "NE = Cone(minus_one_curves)\n",
    "Ample = Cone([N(Q*ray) for ray in NE.dual().rays()])\n",
    "\n",
    "# take one Fujita face for each isomorphism class (determined by CPW, may check explicitly later)\n",
    "# and turn them into subcones in Mori cone by adding -K\n",
    "\n",
    "NE_face_types_rays = {\n",
    "        \"B6\": E,\n",
    "        \"B5\": E[:5],\n",
    "        \"B5'\": E[:4]+[L-E[4]-E[5]], # B(5) for P1xP1. Another type of independent set of 5 (-1)-curves, this one is maximal\n",
    "        \"B4\": E[:4],\n",
    "        \"B3\": E[:3],\n",
    "        \"B2\": E[:2],\n",
    "        \"B1\": E[:1],\n",
    "        #'C6': E[:5]+[L-E[5]-e for e in E[:5]], # C(6). Schlafli graph is 4-ultrahomogeneous, and, after fixing two pairs, three others are defined uniquely\n",
    "        \"C5\": E[:5]+[L-E[5]], # здесь и ниже - части C6, из подобных которым складывается весь С6 \n",
    "        \"C5'\": E[:4]+[L-E[5]-E[4], L-E[5]],\n",
    "        \"C4\": E[:4]+[L-E[5]],\n",
    "        \"C3\": E[:3]+[L-E[5]],\n",
    "        \"C2\": E[:2]+[L-E[5]],\n",
    "        \"C1\": E[:1]+[L-E[5]],\n",
    "        \"C0\": E[:0]+[L-E[5]],\n",
    "    }\n",
    "cone_of_type = {label:Cone(rays+[-K]).intersection(Ample) for label,rays in NE_face_types_rays.items()}\n",
    "\n",
    "# returns True if rel.int.(cone1) is in rel.int.(cone2)\n",
    "is_covered_by = lambda cone1, cone2: all(cone2.contains(ray) for ray in cone1.rays()) and cone2.interior_contains(sum(cone1.rays()))"
   ]
  },
  {
   "cell_type": "code",
   "execution_count": 60,
   "metadata": {},
   "outputs": [],
   "source": []
  },
  {
   "cell_type": "code",
   "execution_count": 3,
   "metadata": {},
   "outputs": [],
   "source": [
    "# Constructing cylinders.\n",
    "\n",
    "def independent_sets(vectors, size = 6):\n",
    "    if size == 0:\n",
    "        yield []\n",
    "    for i, v in enumerate(vectors):\n",
    "        orthogonals = [v2 for v2 in vectors[i+1:] if dot(v, v2)==0]\n",
    "        for subset in independent_sets(orthogonals, size-1):\n",
    "            yield subset + [v]\n",
    "\n",
    "#cylinder1 = lambda E : E + [Line(E)-E[-1], -K-Line(E)+E[-1]]   \n",
    "def cylinder_generator_P2(E):\n",
    "    '''\n",
    "    E is a list of exceptional curves, and e is one of them\n",
    "    returns \n",
    "    1. list of rays of the cone of divisors H such that the cylinder (P^2 minus conic through E-e and tangent line through e) is H-polar\n",
    "    2. list of (-1)-curves lying in the complement of the cylinder (or a union of cylinders if many)\n",
    "    '''\n",
    "    for e in E:\n",
    "        tangent = Line(E) - e\n",
    "        conic = - K - tangent\n",
    "        curves = E+[conic]\n",
    "        yield curves + [tangent]\n",
    "\n",
    "def cylinder_generator_1(E):\n",
    "    \"\"\"\n",
    "    cylinder complement to E and lines through blowdowns of e and one of E-e\n",
    "    \"\"\"\n",
    "    for e in E:\n",
    "        curves = E+[Line(E)-e-f for f in E if f!=e]\n",
    "        yield curves\n",
    "\n",
    "def cylinder_generator_P1(E):\n",
    "    '''\n",
    "    CPW Example 4.1.6 and Lemma 4.2.2 for contraction of E1..E4, L-E5-E6.\n",
    "    '''\n",
    "    for i,j in itertools.permutations(range(len(E)),int(2)):\n",
    "        complement = [k for k in range(len(E)) if (k!=i) and (k!=j)]\n",
    "        conic = -K-Line(E)+E[i]\n",
    "        curves = [E[k] for k in complement]+[Line(E)-E[i]-E[j], conic]\n",
    "        yield curves + [Line(E)-E[i],Line(E)-E[j]]\n",
    "\n",
    "def cylinders_of_type(cylinder_generator_list):\n",
    "    '''\n",
    "    returns a list of cones of cylinders of considered type\n",
    "    '''\n",
    "    for cylinder_generator in cylinder_generator_list:\n",
    "        for blowdown in independent_sets(minus_one_curves):\n",
    "            yield from cylinder_generator(blowdown)\n",
    "\n",
    "# polarity cone of a collection of cylinders\n",
    "def Pol(collection):\n",
    "    result = Cone([],lattice=N.dual()).dual() # ambient space\n",
    "    for cylinder in collection:\n",
    "        result = result.intersection(Cone(cylinder['rays']))\n",
    "    return result\n",
    "\n",
    "def minus_one_curves_in_complement(collection):\n",
    "    return [curve for curve in minus_one_curves if all(curve in cylinder['rays'] for cylinder in collection)]\n",
    "    \n",
    "# forbidden cone of a collection of cylinders\n",
    "def Forb(collection):\n",
    "    return Cone(minus_one_curves_in_complement(collection),lattice=N)\n",
    "\n",
    "cylinders = [{\n",
    "    'rays': cylinder_rays,\n",
    "    'index': i,\n",
    "} for i, cylinder_rays in enumerate(cylinders_of_type([cylinder_generator_P2,cylinder_generator_P1]))]\n",
    "\n",
    "for u in cylinders:\n",
    "    u['Pol'] = Pol([u])\n",
    "    u['Forb'] = Forb([u])\n"
   ]
  },
  {
   "cell_type": "code",
   "execution_count": 66,
   "metadata": {},
   "outputs": [
    {
     "data": {
      "text/plain": [
       "N(0,  1,  0,  0,  0,  0, 0),\n",
       "N(0,  0,  1,  0,  0,  0, 0),\n",
       "N(0,  0,  0,  1,  0,  0, 0),\n",
       "N(0,  0,  0,  0,  1,  0, 0),\n",
       "N(0,  0,  0,  0,  0,  1, 0),\n",
       "N(0,  0,  0,  0,  0,  0, 1),\n",
       "N(2, -1, -1, -1, -1, -1, 0)\n",
       "in 7-d lattice N"
      ]
     },
     "execution_count": 66,
     "metadata": {},
     "output_type": "execute_result"
    }
   ],
   "source": [
    "\n",
    "def is_polar_wrt(cylinder, cones):\n",
    "    return all(is_covered_by(cone,cylinder['Pol']) for cone in cones)\n"
   ]
  },
  {
   "cell_type": "code",
   "execution_count": 146,
   "metadata": {},
   "outputs": [
    {
     "data": {
      "text/plain": [
       "[5, 11, 17, 23, 29, 35, 41, 47, 53, 59, 65, 71, 77, 83, 89, 95]"
      ]
     },
     "execution_count": 146,
     "metadata": {},
     "output_type": "execute_result"
    }
   ],
   "source": [
    "cone_types_list_1 = [cone_of_type[i] for i in [\"B6\",\"B5\",\"B4\",\"B3\",\"B2\",\"B1\",]]\n",
    "\n",
    "U=[c for c in cylinders if is_polar_wrt(c,cone_types_list_1)]\n",
    "[u['index'] for u in U]\n",
    "#u_1=cylinders[5]\n",
    "#Forb(U).intersection(Ample)"
   ]
  },
  {
   "cell_type": "code",
   "execution_count": 152,
   "metadata": {},
   "outputs": [
    {
     "data": {
      "text/plain": [
       "[0]"
      ]
     },
     "execution_count": 152,
     "metadata": {},
     "output_type": "execute_result"
    }
   ],
   "source": [
    "cone_types_list_2 = [cone_of_type[i] for i in [\"C5\",]]\n",
    "\n",
    "U=[c for c in cylinders if is_polar_wrt(c,cone_types_list_2)]\n",
    "[u['index'] for u in U]\n"
   ]
  },
  {
   "cell_type": "code",
   "execution_count": 153,
   "metadata": {},
   "outputs": [
    {
     "data": {
      "text/plain": [
       "[437, 442, 463, 468, 498, 528, 588, 618, 918, 948]"
      ]
     },
     "execution_count": 153,
     "metadata": {},
     "output_type": "execute_result"
    }
   ],
   "source": [
    "cone_types_list_7 = [cone_of_type[i] for i in [\"C3\",\"C2\",\"C1\",\"C0\",]]\n",
    "\n",
    "U=[c for c in cylinders if is_polar_wrt(c,cone_types_list_7)]\n",
    "[u['index'] for u in U]\n"
   ]
  },
  {
   "cell_type": "code",
   "execution_count": 102,
   "metadata": {},
   "outputs": [
    {
     "data": {
      "text/plain": [
       "[432, 437, 468, 473, 498, 503, 588, 593, 918, 923]"
      ]
     },
     "execution_count": 102,
     "metadata": {},
     "output_type": "execute_result"
    }
   ],
   "source": [
    "cone_types_list_3 = [cone_of_type[i] for i in [\"B5'\",\"C5'\",]]\n",
    "\n",
    "U=[c for c in cylinders if is_polar_wrt(c,cone_types_list_3)]\n",
    "[u['index'] for u in U]\n",
    "#Forb([cylinders[437],cylinders[432]]).rays()\n"
   ]
  },
  {
   "cell_type": "code",
   "execution_count": 122,
   "metadata": {},
   "outputs": [
    {
     "data": {
      "text/plain": [
       "[437, 468, 498, 588, 918]"
      ]
     },
     "execution_count": 122,
     "metadata": {},
     "output_type": "execute_result"
    }
   ],
   "source": [
    "cone_types_list_4 = [cone_of_type[i] for i in [\"C4\",]]\n",
    "\n",
    "U=[c for c in cylinders if is_polar_wrt(c,cone_types_list_4)]\n",
    "[u['index'] for u in U]\n",
    "#U4 = [cylinders[437]]\n",
    "#Forb(U4).rays()\n"
   ]
  },
  {
   "cell_type": "code",
   "execution_count": 119,
   "metadata": {},
   "outputs": [
    {
     "data": {
      "text/plain": [
       "0-d cone in 7-d lattice N"
      ]
     },
     "execution_count": 119,
     "metadata": {},
     "output_type": "execute_result"
    }
   ],
   "source": [
    "cone_of_type[\"C4'\"] = cylinders[437]['Forb'].intersection(cone_of_type['C4'])\n",
    "U=[c for c in cylinders if is_polar_wrt(c,[cone_of_type[\"C4'\"]])]\n",
    "[u['index'] for u in U]\n",
    "U5=[c for c in cylinders if c['index'] in [437,442]]\n",
    "Forb(U5).intersection(Ample)"
   ]
  },
  {
   "cell_type": "code",
   "execution_count": 183,
   "metadata": {},
   "outputs": [
    {
     "name": "stdout",
     "output_type": "stream",
     "text": [
      "N(0,  1,  0,  0,  0,  0,  0),\n",
      "N(0,  0,  1,  0,  0,  0,  0),\n",
      "N(0,  0,  0,  1,  0,  0,  0),\n",
      "N(0,  0,  0,  0,  1,  0,  0),\n",
      "N(1,  0,  0,  0,  0, -1, -1),\n",
      "N(2, -1, -1, -1, -1,  0, -1)\n",
      "in 7-d lattice N\n",
      "[N(0, 1, 0, 0, 0, 0, 0), N(0, 0, 1, 0, 0, 0, 0), N(0, 0, 0, 1, 0, 0, 0), N(1, 0, 0, 0, 0, 0, -1)]\n"
     ]
    }
   ],
   "source": [
    "cone_types_list_5 = [cone_of_type[i] for i in [\"C4'\",\"C3\",\"C2\",\"C1\",\"C0\",]]\n",
    "print(Forb(U3).rays())\n",
    "print(NE_face_types_rays[\"C3\"])\n"
   ]
  },
  {
   "cell_type": "code",
   "execution_count": 128,
   "metadata": {},
   "outputs": [
    {
     "name": "stdout",
     "output_type": "stream",
     "text": [
      "432\n",
      "N(0, 0, 0, 0, 1, 0, 0)\n",
      "N(0, 0, 0, 1, 0, 0, 0)\n",
      "N(0, 0, 1, 0, 0, 0, 0)\n",
      "N(0, 1, 0, 0, 0, 0, 0)\n",
      "N(1, 0, 0, 0, 0, -1, -1)\n",
      "N(2, -1, -1, -1, -1, -1, 0)\n",
      "N(1, 0, 0, 0, 0, 0, -1)\n",
      "N(1, 0, 0, 0, 0, -1, 0)\n",
      "437\n",
      "N(0, 0, 0, 0, 1, 0, 0)\n",
      "N(0, 0, 0, 1, 0, 0, 0)\n",
      "N(0, 0, 1, 0, 0, 0, 0)\n",
      "N(0, 1, 0, 0, 0, 0, 0)\n",
      "N(1, 0, 0, 0, 0, -1, -1)\n",
      "N(2, -1, -1, -1, -1, 0, -1)\n",
      "N(1, 0, 0, 0, 0, -1, 0)\n",
      "N(1, 0, 0, 0, 0, 0, -1)\n",
      "442\n",
      "N(0, 0, 0, 0, 0, 1, 0)\n",
      "N(0, 0, 0, 1, 0, 0, 0)\n",
      "N(0, 0, 1, 0, 0, 0, 0)\n",
      "N(0, 1, 0, 0, 0, 0, 0)\n",
      "N(1, 0, 0, 0, -1, 0, -1)\n",
      "N(2, -1, -1, -1, 0, -1, -1)\n",
      "N(1, 0, 0, 0, -1, 0, 0)\n",
      "N(1, 0, 0, 0, 0, 0, -1)\n"
     ]
    }
   ],
   "source": [
    "for i in  [432,437,442]:\n",
    "    print(i)\n",
    "    for ray in cylinders[i]['rays']:\n",
    "        print(ray)\n",
    "\n",
    "    "
   ]
  },
  {
   "cell_type": "code",
   "execution_count": 184,
   "metadata": {},
   "outputs": [
    {
     "name": "stdout",
     "output_type": "stream",
     "text": [
      "0 B6 True\n",
      "1 B6 True\n",
      "2 B6 False\n",
      "3 B6 False\n",
      "4 B6 False\n",
      "0 B5 True\n",
      "1 B5 True\n",
      "2 B5 False\n",
      "3 B5 False\n",
      "4 B5 False\n",
      "0 B5' False\n",
      "1 B5' False\n",
      "2 B5' True\n",
      "3 B5' True\n",
      "4 B5' False\n",
      "0 B4 True\n",
      "1 B4 False\n",
      "2 B4 False\n",
      "3 B4 False\n",
      "4 B4 False\n",
      "0 B3 True\n",
      "1 B3 False\n",
      "2 B3 False\n",
      "3 B3 False\n",
      "4 B3 False\n",
      "0 B2 True\n",
      "1 B2 False\n",
      "2 B2 False\n",
      "3 B2 False\n",
      "4 B2 False\n",
      "0 B1 True\n",
      "1 B1 False\n",
      "2 B1 False\n",
      "3 B1 False\n",
      "4 B1 False\n",
      "0 C5 False\n",
      "1 C5 True\n",
      "2 C5 False\n",
      "3 C5 False\n",
      "4 C5 False\n",
      "0 C5' False\n",
      "1 C5' False\n",
      "2 C5' True\n",
      "3 C5' True\n",
      "4 C5' False\n",
      "0 C4 False\n",
      "1 C4 False\n",
      "2 C4 True\n",
      "3 C4 False\n",
      "4 C4 False\n",
      "0 C3 False\n",
      "1 C3 False\n",
      "2 C3 True\n",
      "3 C3 False\n",
      "4 C3 True\n",
      "0 C2 False\n",
      "1 C2 False\n",
      "2 C2 True\n",
      "3 C2 False\n",
      "4 C2 True\n",
      "0 C1 False\n",
      "1 C1 False\n",
      "2 C1 True\n",
      "3 C1 False\n",
      "4 C1 True\n",
      "0 C0 False\n",
      "1 C0 False\n",
      "2 C0 True\n",
      "3 C0 False\n",
      "4 C0 True\n",
      "0 C4' False\n",
      "1 C4' False\n",
      "2 C4' True\n",
      "3 C4' False\n",
      "4 C4' True\n"
     ]
    }
   ],
   "source": [
    "U1=[c for c in cylinders if c['index'] in [5]]\n",
    "U2=[c for c in cylinders if c['index'] in [0]]\n",
    "U3=[c for c in cylinders if c['index'] in [437]]\n",
    "U4=[c for c in cylinders if c['index'] in [437,432]]\n",
    "U5=[c for c in cylinders if c['index'] in [437,442]]\n",
    "for key, cone in cone_of_type.items():\n",
    "    for i,U in enumerate([U1,U2,U3,U4,U5]):\n",
    "        print(i,key,is_covered_by(cone,Pol(U)))"
   ]
  },
  {
   "cell_type": "code",
   "execution_count": 159,
   "metadata": {},
   "outputs": [
    {
     "data": {
      "text/plain": [
       "False"
      ]
     },
     "execution_count": 159,
     "metadata": {},
     "output_type": "execute_result"
    }
   ],
   "source": [
    "is_covered_by(cone_of_type[\"B5'\"],Pol(U3))\n",
    "Pol(U3).contains(E[4])"
   ]
  },
  {
   "cell_type": "code",
   "execution_count": 156,
   "metadata": {},
   "outputs": [
    {
     "data": {
      "text/plain": [
       "N(3,  0,  0,  0,  0, -1, -1),\n",
       "N(3, -1, -1,  0, -1, -1, -1),\n",
       "N(3,  0,  0, -1, -1, -1, -1),\n",
       "N(3,  0, -1, -1, -1, -1, -1),\n",
       "N(3, -1, -1, -1, -1, -1, -1),\n",
       "N(3, -1,  0, -1, -1, -1, -1),\n",
       "N(3, -1,  0,  0, -1, -1, -1),\n",
       "N(3,  0,  0,  0, -1, -1, -1),\n",
       "N(3,  0, -1,  0, -1, -1, -1),\n",
       "N(3,  0, -1,  0,  0, -1, -1),\n",
       "N(3, -1, -1,  0,  0, -1, -1),\n",
       "N(3,  0,  0, -1,  0, -1, -1),\n",
       "N(3,  0, -1, -1,  0, -1, -1),\n",
       "N(3, -1, -1, -1,  0, -1, -1),\n",
       "N(3, -1,  0, -1,  0, -1, -1),\n",
       "N(3, -1,  0,  0,  0, -1, -1),\n",
       "N(4, -1,  0,  0,  0, -2, -2),\n",
       "N(2,  0,  0,  0,  0, -1, -1),\n",
       "N(4, -1, -1,  0, -1, -2, -2),\n",
       "N(4,  0,  0, -1, -1, -2, -2),\n",
       "N(4,  0, -1, -1, -1, -2, -2),\n",
       "N(4, -1, -1, -1, -1, -2, -2),\n",
       "N(4, -1,  0, -1, -1, -2, -2),\n",
       "N(4, -1,  0,  0, -1, -2, -2),\n",
       "N(4,  0,  0,  0, -1, -2, -2),\n",
       "N(4,  0, -1,  0, -1, -2, -2),\n",
       "N(4,  0, -1,  0,  0, -2, -2),\n",
       "N(4, -1, -1,  0,  0, -2, -2),\n",
       "N(4,  0,  0, -1,  0, -2, -2),\n",
       "N(4,  0, -1, -1,  0, -2, -2),\n",
       "N(4, -1, -1, -1,  0, -2, -2),\n",
       "N(4, -1,  0, -1,  0, -2, -2)\n",
       "in 7-d lattice N"
      ]
     },
     "execution_count": 156,
     "metadata": {},
     "output_type": "execute_result"
    }
   ],
   "source": []
  },
  {
   "cell_type": "code",
   "execution_count": 186,
   "metadata": {},
   "outputs": [
    {
     "data": {
      "text/plain": [
       "M(1, 0, 0, 0, 0, -1, 2)\n",
       "in 7-d lattice M"
      ]
     },
     "execution_count": 186,
     "metadata": {},
     "output_type": "execute_result"
    }
   ],
   "source": [
    "G=Forb(U3).intersection(Cone(NE_face_types_rays[\"C5'\"]+[-K]))\n",
    "G.dual().lines()"
   ]
  },
  {
   "cell_type": "code",
   "execution_count": 166,
   "metadata": {},
   "outputs": [],
   "source": [
    "for ray in NE_face_types_rays[\"C5'\"]+[-K]:\n",
    "    if ray not in Pol(U3):\n",
    "        print(ray)"
   ]
  },
  {
   "cell_type": "code",
   "execution_count": 191,
   "metadata": {},
   "outputs": [
    {
     "data": {
      "text/plain": [
       "0"
      ]
     },
     "execution_count": 191,
     "metadata": {},
     "output_type": "execute_result"
    }
   ],
   "source": [
    "NE_face_types_rays[\"B5'\"]\n",
    "dot(L+E[4]-2*E[5],2*(L-E[5])-K)"
   ]
  },
  {
   "cell_type": "code",
   "execution_count": 193,
   "metadata": {},
   "outputs": [
    {
     "data": {
      "text/plain": [
       "[N(0, 1, 0, 0, 0, 0, 0),\n",
       " N(0, 0, 1, 0, 0, 0, 0),\n",
       " N(0, 0, 0, 1, 0, 0, 0),\n",
       " N(0, 0, 0, 0, 1, 0, 0),\n",
       " N(1, 0, 0, 0, 0, -1, -1)]"
      ]
     },
     "execution_count": 193,
     "metadata": {},
     "output_type": "execute_result"
    }
   ],
   "source": [
    "[c for c in minus_one_curves if all(dot(c,d)<=0 for d in Forb(U4).rays())]"
   ]
  },
  {
   "cell_type": "code",
   "execution_count": null,
   "metadata": {},
   "outputs": [],
   "source": []
  }
 ],
 "metadata": {
  "kernelspec": {
   "display_name": "SageMath 9.1.rc1",
   "language": "sage",
   "name": "sagemath"
  },
  "language_info": {
   "codemirror_mode": {
    "name": "ipython",
    "version": 3
   },
   "file_extension": ".py",
   "mimetype": "text/x-python",
   "name": "python",
   "nbconvert_exporter": "python",
   "pygments_lexer": "ipython3",
   "version": "3.7.3"
  }
 },
 "nbformat": 4,
 "nbformat_minor": 4
}
