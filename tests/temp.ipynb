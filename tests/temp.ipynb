{
 "cells": [
  {
   "cell_type": "code",
   "execution_count": 1,
   "metadata": {},
   "outputs": [],
   "source": [
    "%load_ext autoreload\n",
    "%autoreload 2\n",
    "import sys  \n",
    "sys.path.insert(0, '../src')"
   ]
  },
  {
   "cell_type": "code",
   "execution_count": null,
   "metadata": {},
   "outputs": [],
   "source": [
    "from test_deg2_B2 import *\n",
    "\n",
    "P0.plot() + P1.plot() + P2.plot() + P3.plot()\n",
    "\n",
    "\n",
    "\n"
   ]
  },
  {
   "cell_type": "code",
   "execution_count": null,
   "metadata": {},
   "outputs": [],
   "source": [
    "from tqdm import tqdm\n",
    "for cyl in tqdm(Surface(2).all_cylinders(constructions=['tangent','lines','lines2','cuspcubic'])):\n",
    "    P = polar_subset_on_B2(cyl.Pol)\n",
    "    if P:\n",
    "        print(cyl,[tuple(v) for v in P.vertices()])\n",
    "        P.plot()\n"
   ]
  },
  {
   "cell_type": "code",
   "execution_count": null,
   "metadata": {},
   "outputs": [],
   "source": [
    "from test_deg2_B2 import polar_subset_on_B2\n",
    "C = S2.N([4,-1,-1,-2,-2,-2,-2,-2])\n",
    "Q1 = S2.N([2,-1,-1,-1,0,0,0,0])\n",
    "Q2 = S2.N([2,-1,0,0,0,-1,-1,-1])\n",
    "L = S2.N([1,0,0,0,0,0,0,0])\n",
    "cone = Cone([C,Q1,Q2,L] + S2.E[1:])\n",
    "P = polar_subset_on_B2(cone)\n",
    "P.plot()"
   ]
  },
  {
   "cell_type": "code",
   "execution_count": 23,
   "metadata": {},
   "outputs": [
    {
     "name": "stdout",
     "output_type": "stream",
     "text": [
      "cake on NE:\tpolar:False.\tintersects:True\n",
      "cake on B(7)-P1xP1:\tpolar:False.\tintersects:True\n",
      "cake on C(7)-P1xP1:\tpolar:False.\tintersects:True\n",
      "cake on C:\tpolar:False.\tintersects:True\n",
      "cake on B(0):\tpolar:False.\tintersects:False\n",
      "cake on B(1):\tpolar:False.\tintersects:False\n",
      "cake on B(2):\tpolar:False.\tintersects:False\n",
      "cake on B(3):\tpolar:False.\tintersects:False\n",
      "cake on B(4):\tpolar:False.\tintersects:False\n",
      "cake on B(5):\tpolar:False.\tintersects:True\n",
      "cake on B(6):\tpolar:False.\tintersects:True\n",
      "cake on B(7):\tpolar:False.\tintersects:True\n",
      "cake on B(8):\tpolar:False.\tintersects:True\n",
      "cake on C(0):\tpolar:False.\tintersects:False\n",
      "cake on C(1):\tpolar:False.\tintersects:False\n",
      "cake on C(2):\tpolar:False.\tintersects:False\n",
      "cake on C(3):\tpolar:False.\tintersects:False\n",
      "cake on C(4):\tpolar:False.\tintersects:False\n",
      "cake on C(5):\tpolar:False.\tintersects:True\n",
      "cake on C(6):\tpolar:False.\tintersects:True\n",
      "cake on C(7):\tpolar:False.\tintersects:True\n"
     ]
    }
   ],
   "source": [
    "from delPezzo_cylinders import Surface, Cylinder, CylinderList, NE_SubdivisionCone, cones_intersect_by_relint\n",
    "S1 = Surface(1)\n",
    "on_conic = 5\n",
    "cake = Cylinder.make_type_tangent(S1, S1.E, E_on_conic=S1.E[:on_conic],E_on_tangent=[],E_on_fibers=[S1.E[on_conic:]])\n",
    "pol = cake.Pol\n",
    "for cone_type in NE_SubdivisionCone.cone_types(S1):\n",
    "    representative = NE_SubdivisionCone.representative(S1, cone_type)\n",
    "    print(f\"cake on {cone_type}:\\tpolar:{cake.is_polar_on(representative)}.\\tintersects:{cones_intersect_by_relint(pol, representative)}\")"
   ]
  },
  {
   "cell_type": "code",
   "execution_count": 3,
   "metadata": {},
   "outputs": [
    {
     "ename": "NameError",
     "evalue": "name 'S2' is not defined",
     "output_type": "error",
     "traceback": [
      "\u001b[0;31m---------------------------------------------------------------------------\u001b[0m",
      "\u001b[0;31mNameError\u001b[0m                                 Traceback (most recent call last)",
      "\u001b[1;32m/workspaces/sagemath/tests/temp.ipynb Cell 6\u001b[0m in \u001b[0;36m<cell line: 2>\u001b[0;34m()\u001b[0m\n\u001b[1;32m      <a href='vscode-notebook-cell://dev-container%2B7b22686f737450617468223a22633a5c5c55736572735c5c6b6f746f6b656c5c5c44726f70626f785c5cd09dd0b0d183d187d0bdd0b0d18f20d180d0b0d0b1d0bed182d0b05c5cd0b25fd180d0b0d0b1d0bed182d0b55c5c466c65782064656c2050657a7a6f20325c5c736167656d617468222c22636f6e66696746696c65223a7b22246d6964223a312c22667350617468223a22633a5c5c55736572735c5c6b6f746f6b656c5c5c44726f70626f785c5cd09dd0b0d183d187d0bdd0b0d18f20d180d0b0d0b1d0bed182d0b05c5cd0b25fd180d0b0d0b1d0bed182d0b55c5c466c65782064656c2050657a7a6f20325c5c736167656d6174685c5c2e646576636f6e7461696e65725c5c646576636f6e7461696e65722e6a736f6e222c225f736570223a312c2265787465726e616c223a2266696c653a2f2f2f632533412f55736572732f6b6f746f6b656c2f44726f70626f782f2544302539442544302542302544312538332544312538372544302542442544302542302544312538462532302544312538302544302542302544302542312544302542452544312538322544302542302f2544302542325f2544312538302544302542302544302542312544302542452544312538322544302542352f466c657825323064656c25323050657a7a6f253230322f736167656d6174682f2e646576636f6e7461696e65722f646576636f6e7461696e65722e6a736f6e222c2270617468223a222f633a2f55736572732f6b6f746f6b656c2f44726f70626f782fd09dd0b0d183d187d0bdd0b0d18f20d180d0b0d0b1d0bed182d0b02fd0b25fd180d0b0d0b1d0bed182d0b52f466c65782064656c2050657a7a6f20322f736167656d6174682f2e646576636f6e7461696e65722f646576636f6e7461696e65722e6a736f6e222c22736368656d65223a2266696c65227d7d/workspaces/sagemath/tests/temp.ipynb#W5sdnNjb2RlLXJlbW90ZQ%3D%3D?line=0'>1</a>\u001b[0m \u001b[39mfrom\u001b[39;00m \u001b[39mdelPezzo_cylinders\u001b[39;00m \u001b[39mimport\u001b[39;00m \u001b[39m*\u001b[39m\n\u001b[0;32m----> <a href='vscode-notebook-cell://dev-container%2B7b22686f737450617468223a22633a5c5c55736572735c5c6b6f746f6b656c5c5c44726f70626f785c5cd09dd0b0d183d187d0bdd0b0d18f20d180d0b0d0b1d0bed182d0b05c5cd0b25fd180d0b0d0b1d0bed182d0b55c5c466c65782064656c2050657a7a6f20325c5c736167656d617468222c22636f6e66696746696c65223a7b22246d6964223a312c22667350617468223a22633a5c5c55736572735c5c6b6f746f6b656c5c5c44726f70626f785c5cd09dd0b0d183d187d0bdd0b0d18f20d180d0b0d0b1d0bed182d0b05c5cd0b25fd180d0b0d0b1d0bed182d0b55c5c466c65782064656c2050657a7a6f20325c5c736167656d6174685c5c2e646576636f6e7461696e65725c5c646576636f6e7461696e65722e6a736f6e222c225f736570223a312c2265787465726e616c223a2266696c653a2f2f2f632533412f55736572732f6b6f746f6b656c2f44726f70626f782f2544302539442544302542302544312538332544312538372544302542442544302542302544312538462532302544312538302544302542302544302542312544302542452544312538322544302542302f2544302542325f2544312538302544302542302544302542312544302542452544312538322544302542352f466c657825323064656c25323050657a7a6f253230322f736167656d6174682f2e646576636f6e7461696e65722f646576636f6e7461696e65722e6a736f6e222c2270617468223a222f633a2f55736572732f6b6f746f6b656c2f44726f70626f782fd09dd0b0d183d187d0bdd0b0d18f20d180d0b0d0b1d0bed182d0b02fd0b25fd180d0b0d0b1d0bed182d0b52f466c65782064656c2050657a7a6f20322f736167656d6174682f2e646576636f6e7461696e65722f646576636f6e7461696e65722e6a736f6e222c22736368656d65223a2266696c65227d7d/workspaces/sagemath/tests/temp.ipynb#W5sdnNjb2RlLXJlbW90ZQ%3D%3D?line=1'>2</a>\u001b[0m C1 \u001b[39m=\u001b[39m Cylinder\u001b[39m.\u001b[39mmake_type_cuspcubic(S2, S2\u001b[39m.\u001b[39mE, S2\u001b[39m.\u001b[39mE[Integer(\u001b[39m3\u001b[39m):])\n\u001b[1;32m      <a href='vscode-notebook-cell://dev-container%2B7b22686f737450617468223a22633a5c5c55736572735c5c6b6f746f6b656c5c5c44726f70626f785c5cd09dd0b0d183d187d0bdd0b0d18f20d180d0b0d0b1d0bed182d0b05c5cd0b25fd180d0b0d0b1d0bed182d0b55c5c466c65782064656c2050657a7a6f20325c5c736167656d617468222c22636f6e66696746696c65223a7b22246d6964223a312c22667350617468223a22633a5c5c55736572735c5c6b6f746f6b656c5c5c44726f70626f785c5cd09dd0b0d183d187d0bdd0b0d18f20d180d0b0d0b1d0bed182d0b05c5cd0b25fd180d0b0d0b1d0bed182d0b55c5c466c65782064656c2050657a7a6f20325c5c736167656d6174685c5c2e646576636f6e7461696e65725c5c646576636f6e7461696e65722e6a736f6e222c225f736570223a312c2265787465726e616c223a2266696c653a2f2f2f632533412f55736572732f6b6f746f6b656c2f44726f70626f782f2544302539442544302542302544312538332544312538372544302542442544302542302544312538462532302544312538302544302542302544302542312544302542452544312538322544302542302f2544302542325f2544312538302544302542302544302542312544302542452544312538322544302542352f466c657825323064656c25323050657a7a6f253230322f736167656d6174682f2e646576636f6e7461696e65722f646576636f6e7461696e65722e6a736f6e222c2270617468223a222f633a2f55736572732f6b6f746f6b656c2f44726f70626f782fd09dd0b0d183d187d0bdd0b0d18f20d180d0b0d0b1d0bed182d0b02fd0b25fd180d0b0d0b1d0bed182d0b52f466c65782064656c2050657a7a6f20322f736167656d6174682f2e646576636f6e7461696e65722f646576636f6e7461696e65722e6a736f6e222c22736368656d65223a2266696c65227d7d/workspaces/sagemath/tests/temp.ipynb#W5sdnNjb2RlLXJlbW90ZQ%3D%3D?line=2'>3</a>\u001b[0m C1\u001b[39m.\u001b[39mcompatible_representatives(complete\u001b[39m=\u001b[39m\u001b[39mTrue\u001b[39;00m)\n",
      "\u001b[0;31mNameError\u001b[0m: name 'S2' is not defined"
     ]
    }
   ],
   "source": [
    "from delPezzo_cylinders import *\n",
    "S2 = Surface(2)\n",
    "C1 = Cylinder.make_type_cuspcubic(S2, S2.E, S2.E[3:])\n",
    "C1.compatible_representatives(complete=True)"
   ]
  },
  {
   "cell_type": "code",
   "execution_count": null,
   "metadata": {},
   "outputs": [],
   "source": []
  }
 ],
 "metadata": {
  "kernelspec": {
   "display_name": "SageMath 9.7",
   "language": "sage",
   "name": "sagemath"
  },
  "language_info": {
   "codemirror_mode": {
    "name": "ipython",
    "version": 3
   },
   "file_extension": ".py",
   "mimetype": "text/x-python",
   "name": "python",
   "nbconvert_exporter": "python",
   "pygments_lexer": "ipython3",
   "version": "3.10.5"
  },
  "orig_nbformat": 4
 },
 "nbformat": 4,
 "nbformat_minor": 2
}
