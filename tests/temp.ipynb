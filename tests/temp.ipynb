{
 "cells": [
  {
   "cell_type": "code",
   "execution_count": 2,
   "metadata": {},
   "outputs": [],
   "source": [
    "%load_ext autoreload\n",
    "%autoreload 2\n",
    "import sys  \n",
    "sys.path.insert(0, '../src')"
   ]
  },
  {
   "cell_type": "code",
   "execution_count": null,
   "metadata": {},
   "outputs": [],
   "source": [
    "from test_deg2_B2 import *\n",
    "\n",
    "P0.plot() + P1.plot() + P2.plot() + P3.plot()\n",
    "\n",
    "\n",
    "\n"
   ]
  },
  {
   "cell_type": "code",
   "execution_count": null,
   "metadata": {},
   "outputs": [],
   "source": [
    "from tqdm import tqdm\n",
    "for cyl in tqdm(Surface(2).all_cylinders(constructions=['tangent','lines','lines2','cuspcubic'])):\n",
    "    P = polar_subset_on_B2(cyl.Pol)\n",
    "    if P:\n",
    "        print(cyl,[tuple(v) for v in P.vertices()])\n",
    "        P.plot()\n"
   ]
  },
  {
   "cell_type": "code",
   "execution_count": null,
   "metadata": {},
   "outputs": [],
   "source": [
    "from test_deg2_B2 import polar_subset_on_B2\n",
    "C = S2.N([4,-1,-1,-2,-2,-2,-2,-2])\n",
    "Q1 = S2.N([2,-1,-1,-1,0,0,0,0])\n",
    "Q2 = S2.N([2,-1,0,0,0,-1,-1,-1])\n",
    "L = S2.N([1,0,0,0,0,0,0,0])\n",
    "cone = Cone([C,Q1,Q2,L] + S2.E[1:])\n",
    "P = polar_subset_on_B2(cone)\n",
    "P.plot()"
   ]
  },
  {
   "cell_type": "code",
   "execution_count": 23,
   "metadata": {},
   "outputs": [
    {
     "name": "stdout",
     "output_type": "stream",
     "text": [
      "cake on NE:\tpolar:False.\tintersects:True\n",
      "cake on B(7)-P1xP1:\tpolar:False.\tintersects:True\n",
      "cake on C(7)-P1xP1:\tpolar:False.\tintersects:True\n",
      "cake on C:\tpolar:False.\tintersects:True\n",
      "cake on B(0):\tpolar:False.\tintersects:False\n",
      "cake on B(1):\tpolar:False.\tintersects:False\n",
      "cake on B(2):\tpolar:False.\tintersects:False\n",
      "cake on B(3):\tpolar:False.\tintersects:False\n",
      "cake on B(4):\tpolar:False.\tintersects:False\n",
      "cake on B(5):\tpolar:False.\tintersects:True\n",
      "cake on B(6):\tpolar:False.\tintersects:True\n",
      "cake on B(7):\tpolar:False.\tintersects:True\n",
      "cake on B(8):\tpolar:False.\tintersects:True\n",
      "cake on C(0):\tpolar:False.\tintersects:False\n",
      "cake on C(1):\tpolar:False.\tintersects:False\n",
      "cake on C(2):\tpolar:False.\tintersects:False\n",
      "cake on C(3):\tpolar:False.\tintersects:False\n",
      "cake on C(4):\tpolar:False.\tintersects:False\n",
      "cake on C(5):\tpolar:False.\tintersects:True\n",
      "cake on C(6):\tpolar:False.\tintersects:True\n",
      "cake on C(7):\tpolar:False.\tintersects:True\n"
     ]
    }
   ],
   "source": [
    "from delPezzo_cylinders import Surface, Cylinder, CylinderList, NE_SubdivisionCone, cones_intersect_by_relint\n",
    "S1 = Surface(1)\n",
    "on_conic = 5\n",
    "cake = Cylinder.make_type_tangent(S1, S1.E, E_on_conic=S1.E[:on_conic],E_on_tangent=[],E_on_fibers=[S1.E[on_conic:]])\n",
    "pol = cake.Pol\n",
    "for cone_type in NE_SubdivisionCone.cone_types(S1):\n",
    "    representative = NE_SubdivisionCone.representative(S1, cone_type)\n",
    "    print(f\"cake on {cone_type}:\\tpolar:{cake.is_polar_on(representative)}.\\tintersects:{cones_intersect_by_relint(pol, representative)}\")"
   ]
  },
  {
   "cell_type": "code",
   "execution_count": null,
   "metadata": {},
   "outputs": [],
   "source": []
  }
 ],
 "metadata": {
  "kernelspec": {
   "display_name": "SageMath 9.7",
   "language": "sage",
   "name": "sagemath"
  },
  "language_info": {
   "codemirror_mode": {
    "name": "ipython",
    "version": 3
   },
   "file_extension": ".py",
   "mimetype": "text/x-python",
   "name": "python",
   "nbconvert_exporter": "python",
   "pygments_lexer": "ipython3",
   "version": "3.10.5"
  },
  "orig_nbformat": 4
 },
 "nbformat": 4,
 "nbformat_minor": 2
}
