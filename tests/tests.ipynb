{
 "cells": [
  {
   "cell_type": "code",
   "execution_count": 2,
   "metadata": {},
   "outputs": [],
   "source": [
    "%load_ext autoreload\n",
    "%autoreload 2\n",
    "import sys  \n",
    "sys.path.insert(0, '../src')"
   ]
  },
  {
   "cell_type": "code",
   "execution_count": 2,
   "metadata": {},
   "outputs": [],
   "source": [
    "from test_various import *\n",
    "test_S5_covering()\n",
    "test_cone_types()\n",
    "test_S3_tangent_covering()\n",
    "test_S3_cover_anticanonical()"
   ]
  },
  {
   "cell_type": "code",
   "execution_count": 3,
   "metadata": {},
   "outputs": [
    {
     "data": {
      "text/plain": [
       "[Cylinder(S=<delPezzo_cylinders.Surface object at 0x7fa59e037760>, construction='lines2', complement=(N(0, 0, 0, 0, 1), N(0, 0, 0, 1, 0), N(0, 0, 1, 0, 0), N(0, 1, 0, 0, 0), N(1, 0, 0, -1, -1), N(1, -1, -1, 0, 0)), support=(N(0, 0, 0, 0, 1), N(0, 0, 0, 1, 0), N(0, 0, 1, 0, 0), N(0, 1, 0, 0, 0), N(1, 0, 0, -1, -1), N(1, -1, -1, 0, 0)), fiber=N(1, 0, 0, 0, 0), basepoint=Point(curves=frozenset({N(1, 0, 0, -1, -1), N(1, -1, -1, 0, 0)})), transversal=False), Cylinder(S=<delPezzo_cylinders.Surface object at 0x7fa59e037760>, construction='lines2', complement=(N(0, 0, 0, 0, 1), N(0, 0, 0, 1, 0), N(0, 0, 1, 0, 0), N(0, 1, 0, 0, 0), N(1, 0, -1, 0, -1), N(1, -1, 0, -1, 0)), support=(N(0, 0, 0, 0, 1), N(0, 0, 0, 1, 0), N(0, 0, 1, 0, 0), N(0, 1, 0, 0, 0), N(1, 0, -1, 0, -1), N(1, -1, 0, -1, 0)), fiber=N(1, 0, 0, 0, 0), basepoint=Point(curves=frozenset({N(1, -1, 0, -1, 0), N(1, 0, -1, 0, -1)})), transversal=False), Cylinder(S=<delPezzo_cylinders.Surface object at 0x7fa59e037760>, construction='lines2', complement=(N(0, 0, 0, 0, 1), N(0, 0, 0, 1, 0), N(0, 0, 1, 0, 0), N(0, 1, 0, 0, 0), N(1, -1, 0, 0, -1), N(1, 0, -1, -1, 0)), support=(N(0, 0, 0, 0, 1), N(0, 0, 0, 1, 0), N(0, 0, 1, 0, 0), N(0, 1, 0, 0, 0), N(1, -1, 0, 0, -1), N(1, 0, -1, -1, 0)), fiber=N(1, 0, 0, 0, 0), basepoint=Point(curves=frozenset({N(1, -1, 0, 0, -1), N(1, 0, -1, -1, 0)})), transversal=False), Cylinder(S=<delPezzo_cylinders.Surface object at 0x7fa59e037760>, construction='lines2', complement=(N(1, 0, 0, -1, -1), N(1, 0, -1, 0, -1), N(1, 0, -1, -1, 0), N(0, 1, 0, 0, 0), N(0, 0, 0, 0, 1), N(1, -1, 0, 0, -1)), support=(N(1, 0, 0, -1, -1), N(1, 0, -1, 0, -1), N(1, 0, -1, -1, 0), N(0, 1, 0, 0, 0), N(0, 0, 0, 0, 1), N(1, -1, 0, 0, -1)), fiber=N(2, 0, -1, -1, -1), basepoint=Point(curves=frozenset({N(1, -1, 0, 0, -1), N(0, 0, 0, 0, 1)})), transversal=False), Cylinder(S=<delPezzo_cylinders.Surface object at 0x7fa59e037760>, construction='lines2', complement=(N(1, 0, 0, -1, -1), N(1, 0, -1, 0, -1), N(1, 0, -1, -1, 0), N(0, 1, 0, 0, 0), N(0, 0, 0, 1, 0), N(1, -1, 0, -1, 0)), support=(N(1, 0, 0, -1, -1), N(1, 0, -1, 0, -1), N(1, 0, -1, -1, 0), N(0, 1, 0, 0, 0), N(0, 0, 0, 1, 0), N(1, -1, 0, -1, 0)), fiber=N(2, 0, -1, -1, -1), basepoint=Point(curves=frozenset({N(1, -1, 0, -1, 0), N(0, 0, 0, 1, 0)})), transversal=False), Cylinder(S=<delPezzo_cylinders.Surface object at 0x7fa59e037760>, construction='lines2', complement=(N(1, 0, 0, -1, -1), N(1, 0, -1, 0, -1), N(1, 0, -1, -1, 0), N(0, 1, 0, 0, 0), N(1, -1, -1, 0, 0), N(0, 0, 1, 0, 0)), support=(N(1, 0, 0, -1, -1), N(1, 0, -1, 0, -1), N(1, 0, -1, -1, 0), N(0, 1, 0, 0, 0), N(1, -1, -1, 0, 0), N(0, 0, 1, 0, 0)), fiber=N(2, 0, -1, -1, -1), basepoint=Point(curves=frozenset({N(0, 0, 1, 0, 0), N(1, -1, -1, 0, 0)})), transversal=False), Cylinder(S=<delPezzo_cylinders.Surface object at 0x7fa59e037760>, construction='lines2', complement=(N(1, 0, 0, -1, -1), N(1, -1, 0, 0, -1), N(1, -1, 0, -1, 0), N(0, 0, 1, 0, 0), N(0, 0, 0, 0, 1), N(1, 0, -1, 0, -1)), support=(N(1, 0, 0, -1, -1), N(1, -1, 0, 0, -1), N(1, -1, 0, -1, 0), N(0, 0, 1, 0, 0), N(0, 0, 0, 0, 1), N(1, 0, -1, 0, -1)), fiber=N(2, -1, 0, -1, -1), basepoint=Point(curves=frozenset({N(1, 0, -1, 0, -1), N(0, 0, 0, 0, 1)})), transversal=False), Cylinder(S=<delPezzo_cylinders.Surface object at 0x7fa59e037760>, construction='lines2', complement=(N(1, 0, 0, -1, -1), N(1, -1, 0, 0, -1), N(1, -1, 0, -1, 0), N(0, 0, 1, 0, 0), N(0, 0, 0, 1, 0), N(1, 0, -1, -1, 0)), support=(N(1, 0, 0, -1, -1), N(1, -1, 0, 0, -1), N(1, -1, 0, -1, 0), N(0, 0, 1, 0, 0), N(0, 0, 0, 1, 0), N(1, 0, -1, -1, 0)), fiber=N(2, -1, 0, -1, -1), basepoint=Point(curves=frozenset({N(1, 0, -1, -1, 0), N(0, 0, 0, 1, 0)})), transversal=False), Cylinder(S=<delPezzo_cylinders.Surface object at 0x7fa59e037760>, construction='lines2', complement=(N(1, 0, 0, -1, -1), N(1, -1, 0, 0, -1), N(1, -1, 0, -1, 0), N(0, 0, 1, 0, 0), N(1, -1, -1, 0, 0), N(0, 1, 0, 0, 0)), support=(N(1, 0, 0, -1, -1), N(1, -1, 0, 0, -1), N(1, -1, 0, -1, 0), N(0, 0, 1, 0, 0), N(1, -1, -1, 0, 0), N(0, 1, 0, 0, 0)), fiber=N(2, -1, 0, -1, -1), basepoint=Point(curves=frozenset({N(0, 1, 0, 0, 0), N(1, -1, -1, 0, 0)})), transversal=False), Cylinder(S=<delPezzo_cylinders.Surface object at 0x7fa59e037760>, construction='lines2', complement=(N(1, 0, -1, 0, -1), N(1, -1, 0, 0, -1), N(1, -1, -1, 0, 0), N(0, 0, 0, 1, 0), N(0, 0, 0, 0, 1), N(1, 0, 0, -1, -1)), support=(N(1, 0, -1, 0, -1), N(1, -1, 0, 0, -1), N(1, -1, -1, 0, 0), N(0, 0, 0, 1, 0), N(0, 0, 0, 0, 1), N(1, 0, 0, -1, -1)), fiber=N(2, -1, -1, 0, -1), basepoint=Point(curves=frozenset({N(1, 0, 0, -1, -1), N(0, 0, 0, 0, 1)})), transversal=False), Cylinder(S=<delPezzo_cylinders.Surface object at 0x7fa59e037760>, construction='lines2', complement=(N(1, 0, -1, 0, -1), N(1, -1, 0, 0, -1), N(1, -1, -1, 0, 0), N(0, 0, 0, 1, 0), N(0, 0, 1, 0, 0), N(1, 0, -1, -1, 0)), support=(N(1, 0, -1, 0, -1), N(1, -1, 0, 0, -1), N(1, -1, -1, 0, 0), N(0, 0, 0, 1, 0), N(0, 0, 1, 0, 0), N(1, 0, -1, -1, 0)), fiber=N(2, -1, -1, 0, -1), basepoint=Point(curves=frozenset({N(0, 0, 1, 0, 0), N(1, 0, -1, -1, 0)})), transversal=False), Cylinder(S=<delPezzo_cylinders.Surface object at 0x7fa59e037760>, construction='lines2', complement=(N(1, 0, -1, 0, -1), N(1, -1, 0, 0, -1), N(1, -1, -1, 0, 0), N(0, 0, 0, 1, 0), N(1, -1, 0, -1, 0), N(0, 1, 0, 0, 0)), support=(N(1, 0, -1, 0, -1), N(1, -1, 0, 0, -1), N(1, -1, -1, 0, 0), N(0, 0, 0, 1, 0), N(1, -1, 0, -1, 0), N(0, 1, 0, 0, 0)), fiber=N(2, -1, -1, 0, -1), basepoint=Point(curves=frozenset({N(0, 1, 0, 0, 0), N(1, -1, 0, -1, 0)})), transversal=False), Cylinder(S=<delPezzo_cylinders.Surface object at 0x7fa59e037760>, construction='lines2', complement=(N(1, 0, -1, -1, 0), N(1, -1, 0, -1, 0), N(1, -1, -1, 0, 0), N(0, 0, 0, 0, 1), N(0, 0, 0, 1, 0), N(1, 0, 0, -1, -1)), support=(N(1, 0, -1, -1, 0), N(1, -1, 0, -1, 0), N(1, -1, -1, 0, 0), N(0, 0, 0, 0, 1), N(0, 0, 0, 1, 0), N(1, 0, 0, -1, -1)), fiber=N(2, -1, -1, -1, 0), basepoint=Point(curves=frozenset({N(1, 0, 0, -1, -1), N(0, 0, 0, 1, 0)})), transversal=False), Cylinder(S=<delPezzo_cylinders.Surface object at 0x7fa59e037760>, construction='lines2', complement=(N(1, 0, -1, -1, 0), N(1, -1, 0, -1, 0), N(1, -1, -1, 0, 0), N(0, 0, 0, 0, 1), N(0, 0, 1, 0, 0), N(1, 0, -1, 0, -1)), support=(N(1, 0, -1, -1, 0), N(1, -1, 0, -1, 0), N(1, -1, -1, 0, 0), N(0, 0, 0, 0, 1), N(0, 0, 1, 0, 0), N(1, 0, -1, 0, -1)), fiber=N(2, -1, -1, -1, 0), basepoint=Point(curves=frozenset({N(0, 0, 1, 0, 0), N(1, 0, -1, 0, -1)})), transversal=False), Cylinder(S=<delPezzo_cylinders.Surface object at 0x7fa59e037760>, construction='lines2', complement=(N(1, 0, -1, -1, 0), N(1, -1, 0, -1, 0), N(1, -1, -1, 0, 0), N(0, 0, 0, 0, 1), N(1, -1, 0, 0, -1), N(0, 1, 0, 0, 0)), support=(N(1, 0, -1, -1, 0), N(1, -1, 0, -1, 0), N(1, -1, -1, 0, 0), N(0, 0, 0, 0, 1), N(1, -1, 0, 0, -1), N(0, 1, 0, 0, 0)), fiber=N(2, -1, -1, -1, 0), basepoint=Point(curves=frozenset({N(0, 1, 0, 0, 0), N(1, -1, 0, 0, -1)})), transversal=False)]"
      ]
     },
     "execution_count": 3,
     "metadata": {},
     "output_type": "execute_result"
    }
   ],
   "source": [
    "from test_deg5 import *\n",
    "test_Perepechko2013()"
   ]
  },
  {
   "cell_type": "code",
   "execution_count": 4,
   "metadata": {},
   "outputs": [
    {
     "data": {
      "text/plain": [
       "[Cylinder(S=<delPezzo_cylinders.Surface object at 0x7fa59c9680a0>, construction='tangent', complement=(N(0, 0, 1, 0, 0, 0), N(0, 0, 0, 0, 1, 0), N(1, -1, 0, -1, 0, 0), N(1, -1, 0, 0, 0, -1), N(1, 0, 0, -1, 0, -1), N(1, 0, -1, 0, -1, 0)), support=(N(0, 0, 1, 0, 0, 0), N(0, 0, 0, 0, 1, 0), N(1, -1, 0, -1, 0, 0), N(1, -1, 0, 0, 0, -1), N(1, 0, 0, -1, 0, -1), N(1, 0, -1, 0, -1, 0), N(2, -1, 0, -1, 0, -1)), fiber=None, basepoint=None, transversal=True), Cylinder(S=<delPezzo_cylinders.Surface object at 0x7fa59c9680a0>, construction='tangent', complement=(N(0, 0, 0, 1, 0, 0), N(0, 0, 0, 0, 0, 1), N(1, -1, -1, 0, 0, 0), N(1, -1, 0, 0, -1, 0), N(1, 0, -1, 0, -1, 0), N(1, 0, 0, -1, 0, -1)), support=(N(0, 0, 0, 1, 0, 0), N(0, 0, 0, 0, 0, 1), N(1, -1, -1, 0, 0, 0), N(1, -1, 0, 0, -1, 0), N(1, 0, -1, 0, -1, 0), N(1, 0, 0, -1, 0, -1), N(2, -1, -1, 0, -1, 0)), fiber=None, basepoint=None, transversal=True), Cylinder(S=<delPezzo_cylinders.Surface object at 0x7fa59c9680a0>, construction='tangent', complement=(N(0, 1, 0, 0, 0, 0), N(0, 0, 0, 0, 1, 0), N(1, 0, -1, -1, 0, 0), N(1, 0, -1, 0, 0, -1), N(1, 0, 0, -1, 0, -1), N(1, -1, 0, 0, -1, 0)), support=(N(0, 1, 0, 0, 0, 0), N(0, 0, 0, 0, 1, 0), N(1, 0, -1, -1, 0, 0), N(1, 0, -1, 0, 0, -1), N(1, 0, 0, -1, 0, -1), N(1, -1, 0, 0, -1, 0), N(2, 0, -1, -1, 0, -1)), fiber=None, basepoint=None, transversal=True), Cylinder(S=<delPezzo_cylinders.Surface object at 0x7fa59c9680a0>, construction='tangent', complement=(N(0, 0, 1, 0, 0, 0), N(0, 0, 0, 0, 0, 1), N(1, -1, 0, -1, 0, 0), N(1, -1, 0, 0, -1, 0), N(1, 0, 0, -1, -1, 0), N(1, 0, -1, 0, 0, -1)), support=(N(0, 0, 1, 0, 0, 0), N(0, 0, 0, 0, 0, 1), N(1, -1, 0, -1, 0, 0), N(1, -1, 0, 0, -1, 0), N(1, 0, 0, -1, -1, 0), N(1, 0, -1, 0, 0, -1), N(2, -1, 0, -1, -1, 0)), fiber=None, basepoint=None, transversal=True), Cylinder(S=<delPezzo_cylinders.Surface object at 0x7fa59c9680a0>, construction='tangent', complement=(N(0, 1, 0, 0, 0, 0), N(0, 0, 0, 1, 0, 0), N(1, 0, -1, 0, -1, 0), N(1, 0, -1, 0, 0, -1), N(1, 0, 0, 0, -1, -1), N(1, -1, 0, -1, 0, 0)), support=(N(0, 1, 0, 0, 0, 0), N(0, 0, 0, 1, 0, 0), N(1, 0, -1, 0, -1, 0), N(1, 0, -1, 0, 0, -1), N(1, 0, 0, 0, -1, -1), N(1, -1, 0, -1, 0, 0), N(2, 0, -1, 0, -1, -1)), fiber=None, basepoint=None, transversal=True)]"
      ]
     },
     "execution_count": 4,
     "metadata": {},
     "output_type": "execute_result"
    }
   ],
   "source": [
    "from test_deg4 import *\n",
    "test_ParkWon_B()\n",
    "test_Perepechko_B0()\n",
    "#test_ParkWon_C()\n"
   ]
  },
  {
   "cell_type": "code",
   "execution_count": 5,
   "metadata": {},
   "outputs": [],
   "source": [
    "from test_deg3 import *\n",
    "\n",
    "test_Perepechko2020()\n"
   ]
  },
  {
   "cell_type": "code",
   "execution_count": 7,
   "metadata": {},
   "outputs": [],
   "source": [
    "from test_deg2 import *\n",
    "\n",
    "test_deg2_cuspidal()"
   ]
  },
  {
   "cell_type": "code",
   "execution_count": null,
   "metadata": {},
   "outputs": [],
   "source": []
  }
 ],
 "metadata": {
  "kernelspec": {
   "display_name": "SageMath 9.7",
   "language": "sage",
   "name": "sagemath"
  },
  "language_info": {
   "codemirror_mode": {
    "name": "ipython",
    "version": 3
   },
   "file_extension": ".py",
   "mimetype": "text/x-python",
   "name": "python",
   "nbconvert_exporter": "python",
   "pygments_lexer": "ipython3",
   "version": "3.10.5"
  },
  "orig_nbformat": 4
 },
 "nbformat": 4,
 "nbformat_minor": 2
}
