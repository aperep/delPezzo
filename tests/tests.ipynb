{
 "cells": [
  {
   "cell_type": "code",
   "execution_count": 2,
   "metadata": {},
   "outputs": [],
   "source": [
    "%load_ext autoreload\n",
    "%autoreload 2\n",
    "import sys  \n",
    "sys.path.insert(0, '../src')"
   ]
  },
  {
   "cell_type": "code",
   "execution_count": 3,
   "metadata": {},
   "outputs": [],
   "source": [
    "from test_various import *\n",
    "test_S5_covering()\n",
    "test_cone_types()\n",
    "test_S3_tangent_covering()\n",
    "test_S3_cover_anticanonical()  "
   ]
  },
  {
   "cell_type": "code",
   "execution_count": 4,
   "metadata": {},
   "outputs": [
    {
     "data": {
      "text/plain": [
       "[Cylinder(S=<delPezzo_cylinders.Surface object at 0x7f288c37b820>, construction='lines2', complement=(N(0, 1, 0, 0, 0), N(0, 0, 1, 0, 0), N(0, 0, 0, 1, 0), N(0, 0, 0, 0, 1), N(1, -1, -1, 0, 0), N(1, 0, 0, -1, -1)), support=(N(0, 1, 0, 0, 0), N(0, 0, 1, 0, 0), N(0, 0, 0, 1, 0), N(0, 0, 0, 0, 1), N(1, -1, -1, 0, 0), N(1, 0, 0, -1, -1)), fiber=N(1, 0, 0, 0, 0), basepoint=Point(curves=frozenset({N(1, 0, 0, -1, -1), N(1, -1, -1, 0, 0)})), transversal=False, dimension=None),\n",
       " Cylinder(S=<delPezzo_cylinders.Surface object at 0x7f288c37b820>, construction='lines2', complement=(N(0, 1, 0, 0, 0), N(0, 0, 1, 0, 0), N(0, 0, 0, 1, 0), N(0, 0, 0, 0, 1), N(1, -1, 0, -1, 0), N(1, 0, -1, 0, -1)), support=(N(0, 1, 0, 0, 0), N(0, 0, 1, 0, 0), N(0, 0, 0, 1, 0), N(0, 0, 0, 0, 1), N(1, -1, 0, -1, 0), N(1, 0, -1, 0, -1)), fiber=N(1, 0, 0, 0, 0), basepoint=Point(curves=frozenset({N(1, -1, 0, -1, 0), N(1, 0, -1, 0, -1)})), transversal=False, dimension=None),\n",
       " Cylinder(S=<delPezzo_cylinders.Surface object at 0x7f288c37b820>, construction='lines2', complement=(N(0, 1, 0, 0, 0), N(0, 0, 1, 0, 0), N(0, 0, 0, 1, 0), N(0, 0, 0, 0, 1), N(1, -1, 0, 0, -1), N(1, 0, -1, -1, 0)), support=(N(0, 1, 0, 0, 0), N(0, 0, 1, 0, 0), N(0, 0, 0, 1, 0), N(0, 0, 0, 0, 1), N(1, -1, 0, 0, -1), N(1, 0, -1, -1, 0)), fiber=N(1, 0, 0, 0, 0), basepoint=Point(curves=frozenset({N(1, -1, 0, 0, -1), N(1, 0, -1, -1, 0)})), transversal=False, dimension=None)]"
      ]
     },
     "execution_count": 4,
     "metadata": {},
     "output_type": "execute_result"
    }
   ],
   "source": [
    "from test_deg5 import *\n",
    "test_Perepechko2013()"
   ]
  },
  {
   "cell_type": "code",
   "execution_count": 5,
   "metadata": {},
   "outputs": [
    {
     "data": {
      "text/plain": [
       "[Cylinder(S=<delPezzo_cylinders.Surface object at 0x7f2834129030>, construction='tangent', complement=(N(0, 0, 1, 0, 0, 0), N(0, 0, 0, 0, 1, 0), N(1, -1, 0, -1, 0, 0), N(1, -1, 0, 0, 0, -1), N(1, 0, 0, -1, 0, -1), N(1, 0, -1, 0, -1, 0)), support=(N(0, 0, 1, 0, 0, 0), N(0, 0, 0, 0, 1, 0), N(1, -1, 0, -1, 0, 0), N(1, -1, 0, 0, 0, -1), N(1, 0, 0, -1, 0, -1), N(1, 0, -1, 0, -1, 0), N(2, -1, 0, -1, 0, -1)), fiber=N(4, -2, 0, -2, 0, -2), basepoint=None, transversal=True, dimension=None),\n",
       " Cylinder(S=<delPezzo_cylinders.Surface object at 0x7f2834129030>, construction='tangent', complement=(N(0, 0, 0, 1, 0, 0), N(0, 0, 0, 0, 0, 1), N(1, -1, -1, 0, 0, 0), N(1, -1, 0, 0, -1, 0), N(1, 0, -1, 0, -1, 0), N(1, 0, 0, -1, 0, -1)), support=(N(0, 0, 0, 1, 0, 0), N(0, 0, 0, 0, 0, 1), N(1, -1, -1, 0, 0, 0), N(1, -1, 0, 0, -1, 0), N(1, 0, -1, 0, -1, 0), N(1, 0, 0, -1, 0, -1), N(2, -1, -1, 0, -1, 0)), fiber=N(4, -2, -2, 0, -2, 0), basepoint=None, transversal=True, dimension=None),\n",
       " Cylinder(S=<delPezzo_cylinders.Surface object at 0x7f2834129030>, construction='tangent', complement=(N(0, 1, 0, 0, 0, 0), N(0, 0, 0, 0, 1, 0), N(1, 0, -1, -1, 0, 0), N(1, 0, -1, 0, 0, -1), N(1, 0, 0, -1, 0, -1), N(1, -1, 0, 0, -1, 0)), support=(N(0, 1, 0, 0, 0, 0), N(0, 0, 0, 0, 1, 0), N(1, 0, -1, -1, 0, 0), N(1, 0, -1, 0, 0, -1), N(1, 0, 0, -1, 0, -1), N(1, -1, 0, 0, -1, 0), N(2, 0, -1, -1, 0, -1)), fiber=N(4, 0, -2, -2, 0, -2), basepoint=None, transversal=True, dimension=None),\n",
       " Cylinder(S=<delPezzo_cylinders.Surface object at 0x7f2834129030>, construction='tangent', complement=(N(0, 0, 1, 0, 0, 0), N(0, 0, 0, 0, 0, 1), N(1, -1, 0, -1, 0, 0), N(1, -1, 0, 0, -1, 0), N(1, 0, 0, -1, -1, 0), N(1, 0, -1, 0, 0, -1)), support=(N(0, 0, 1, 0, 0, 0), N(0, 0, 0, 0, 0, 1), N(1, -1, 0, -1, 0, 0), N(1, -1, 0, 0, -1, 0), N(1, 0, 0, -1, -1, 0), N(1, 0, -1, 0, 0, -1), N(2, -1, 0, -1, -1, 0)), fiber=N(4, -2, 0, -2, -2, 0), basepoint=None, transversal=True, dimension=None),\n",
       " Cylinder(S=<delPezzo_cylinders.Surface object at 0x7f2834129030>, construction='tangent', complement=(N(0, 1, 0, 0, 0, 0), N(0, 0, 0, 1, 0, 0), N(1, 0, -1, 0, -1, 0), N(1, 0, -1, 0, 0, -1), N(1, 0, 0, 0, -1, -1), N(1, -1, 0, -1, 0, 0)), support=(N(0, 1, 0, 0, 0, 0), N(0, 0, 0, 1, 0, 0), N(1, 0, -1, 0, -1, 0), N(1, 0, -1, 0, 0, -1), N(1, 0, 0, 0, -1, -1), N(1, -1, 0, -1, 0, 0), N(2, 0, -1, 0, -1, -1)), fiber=N(4, 0, -2, 0, -2, -2), basepoint=None, transversal=True, dimension=None)]"
      ]
     },
     "execution_count": 5,
     "metadata": {},
     "output_type": "execute_result"
    }
   ],
   "source": [
    "from test_deg4 import *\n",
    "test_ParkWon_B()\n",
    "test_Perepechko_B0()\n",
    "#test_ParkWon_C()\n"
   ]
  },
  {
   "cell_type": "code",
   "execution_count": 6,
   "metadata": {},
   "outputs": [],
   "source": [
    "from test_deg3 import *\n",
    "\n",
    "test_Perepechko2020()\n"
   ]
  },
  {
   "cell_type": "code",
   "execution_count": 7,
   "metadata": {},
   "outputs": [],
   "source": [
    "from test_deg2 import *\n",
    "\n",
    "test_deg2_cuspidal()"
   ]
  },
  {
   "cell_type": "code",
   "execution_count": 8,
   "metadata": {},
   "outputs": [],
   "source": [
    "from test_weak_deg6 import *\n",
    "\n",
    "test_deg6_weak_1()\n",
    "test_deg6_weak_2()"
   ]
  },
  {
   "cell_type": "code",
   "execution_count": 9,
   "metadata": {},
   "outputs": [
    {
     "name": "stdout",
     "output_type": "stream",
     "text": [
      "(N(0, 0, 1), N(0, 1, -1))\n"
     ]
    }
   ],
   "source": [
    "from test_blowups import *\n",
    "\n",
    "test_blowup_deg_8()\n",
    "test_contraction_P2()"
   ]
  },
  {
   "cell_type": "code",
   "execution_count": 3,
   "metadata": {},
   "outputs": [
    {
     "name": "stdout",
     "output_type": "stream",
     "text": [
      "[N(0, 1, 0, 0, 0, 0), N(0, 0, 1, 0, 0, 0), N(0, 0, 0, 1, 0, 0), N(0, 0, 0, 0, 1, 0), N(0, 0, 0, 0, 0, 1), N(1, -1, -1, 0, 0, 0), N(1, -1, 0, -1, 0, 0), N(1, -1, 0, 0, -1, 0), N(1, -1, 0, 0, 0, -1), N(1, 0, -1, 0, -1, 0), N(1, 0, 0, -1, -1, 0), N(1, 0, 0, 0, -1, -1)] [N(1, 0, -1, -1, 0, -1)]\n",
      "(N(0, 1, 0, 0, 0, 0), N(0, 0, 1, 0, 0, 0), N(0, 0, 0, 1, 0, 0), N(0, 0, 0, 0, 1, 0), N(0, 0, 0, 0, 0, 1))\n",
      "(N(0, 1, 0, 0, 0, 0), N(0, 0, 1, 0, 0, 0), N(1, 0, 0, -1, -1, 0), N(1, 0, 0, 0, -1, -1), N(1, 0, -1, -1, 0, -1))\n",
      "(N(0, 1, 0, 0, 0, 0), N(0, 0, 0, 1, 0, 0), N(1, 0, -1, 0, -1, 0), N(1, 0, 0, 0, -1, -1), N(1, 0, -1, -1, 0, -1))\n",
      "(N(0, 1, 0, 0, 0, 0), N(0, 0, 0, 0, 0, 1), N(1, 0, -1, 0, -1, 0), N(1, 0, 0, -1, -1, 0), N(1, 0, -1, -1, 0, -1))\n",
      "(N(0, 0, 1, 0, 0, 0), N(0, 0, 0, 1, 0, 0), N(1, -1, 0, 0, -1, 0), N(1, -1, 0, 0, 0, -1), N(1, 0, 0, 0, -1, -1))\n",
      "(N(0, 0, 1, 0, 0, 0), N(0, 0, 0, 0, 1, 0), N(1, -1, 0, -1, 0, 0), N(1, -1, 0, 0, 0, -1), N(1, 0, -1, -1, 0, -1))\n",
      "(N(0, 0, 1, 0, 0, 0), N(0, 0, 0, 0, 0, 1), N(1, -1, 0, -1, 0, 0), N(1, -1, 0, 0, -1, 0), N(1, 0, 0, -1, -1, 0))\n",
      "(N(0, 0, 0, 1, 0, 0), N(0, 0, 0, 0, 1, 0), N(1, -1, -1, 0, 0, 0), N(1, -1, 0, 0, 0, -1), N(1, 0, -1, -1, 0, -1))\n",
      "(N(0, 0, 0, 1, 0, 0), N(0, 0, 0, 0, 0, 1), N(1, -1, -1, 0, 0, 0), N(1, -1, 0, 0, -1, 0), N(1, 0, -1, 0, -1, 0))\n",
      "(N(0, 0, 0, 0, 1, 0), N(0, 0, 0, 0, 0, 1), N(1, -1, -1, 0, 0, 0), N(1, -1, 0, -1, 0, 0), N(1, 0, -1, -1, 0, -1))\n",
      "(N(1, -1, -1, 0, 0, 0), N(1, -1, 0, -1, 0, 0), N(1, -1, 0, 0, -1, 0), N(1, -1, 0, 0, 0, -1), N(1, 0, -1, -1, 0, -1))\n",
      "(N(1, -1, 0, 0, -1, 0), N(1, 0, -1, 0, -1, 0), N(1, 0, 0, -1, -1, 0), N(1, 0, 0, 0, -1, -1), N(1, 0, -1, -1, 0, -1))\n"
     ]
    }
   ],
   "source": [
    "from delPezzo_cylinders import *\n",
    "S = Surface(8)\n",
    "blowups2 = list(S.blowups())\n",
    "blowups3 = [c for b in blowups2 for c in b.blowups()]\n",
    "blowups4 = [c for b in blowups3 for c in b.blowups()]\n",
    "blowups5 = [c for b in blowups4 for c in b.blowups()]\n",
    "\n",
    "b=blowups5[4]\n",
    "print(b.minus_one_curves, b.minus_two_curves)\n",
    "contraction = list(b.contractions_P2())[0]\n",
    "E = contraction.E\n",
    "#cyl = Cylinder.make_type_tangent_weak(b, contraction, [E[1],E[0]], [E[2]])\n",
    "\n"
   ]
  },
  {
   "cell_type": "code",
   "execution_count": 97,
   "metadata": {},
   "outputs": [
    {
     "name": "stderr",
     "output_type": "stream",
     "text": [
      "[autoreload of delPezzo_cylinders failed: Traceback (most recent call last):\n",
      "  File \"/home/sage/sage/local/var/lib/sage/venv-python3.10.5/lib/python3.10/site-packages/IPython/extensions/autoreload.py\", line 257, in check\n",
      "    superreload(m, reload, self.old_objects)\n",
      "  File \"/home/sage/sage/local/var/lib/sage/venv-python3.10.5/lib/python3.10/site-packages/IPython/extensions/autoreload.py\", line 480, in superreload\n",
      "    update_generic(old_obj, new_obj)\n",
      "  File \"/home/sage/sage/local/var/lib/sage/venv-python3.10.5/lib/python3.10/site-packages/IPython/extensions/autoreload.py\", line 377, in update_generic\n",
      "    update(a, b)\n",
      "  File \"/home/sage/sage/local/var/lib/sage/venv-python3.10.5/lib/python3.10/site-packages/IPython/extensions/autoreload.py\", line 345, in update_class\n",
      "    update_instances(old, new)\n",
      "  File \"/home/sage/sage/local/var/lib/sage/venv-python3.10.5/lib/python3.10/site-packages/IPython/extensions/autoreload.py\", line 303, in update_instances\n",
      "    ref.__class__ = new\n",
      "  File \"<string>\", line 4, in __setattr__\n",
      "dataclasses.FrozenInstanceError: cannot assign to field '__class__'\n",
      "]\n"
     ]
    },
    {
     "name": "stdout",
     "output_type": "stream",
     "text": [
      "4 [[0, 1, 2], [3, 4]] [[0, 1, 2], [0, 3, 4]] [N(0, 0, 0, 1, 0, 0), N(0, 0, 0, 0, 0, 1)] [N(1, -1, -1, -1, 0, 0), N(1, -1, 0, 0, -1, -1), N(0, 1, -1, 0, 0, 0), N(0, 0, 1, -1, 0, 0), N(0, 0, 0, 0, 1, -1)]\n",
      "contraction (N(1, -1, -1, -1, 0, 0), N(0, 0, 0, 1, 0, 0), N(0, 1, -1, 0, 0, 0), N(1, -1, 0, 0, -1, -1), N(0, 0, 0, 0, 0, 1))\n",
      "contraction (N(0, 1, -1, 0, 0, 0), N(0, 0, 1, -1, 0, 0), N(0, 0, 0, 1, 0, 0), N(0, 0, 0, 0, 1, -1), N(0, 0, 0, 0, 0, 1))\n"
     ]
    }
   ],
   "source": [
    "b=blowups5[425]\n",
    "# for i,b in enumerate(blowups5):\n",
    "print(b.degree, b.infinitesimal_chains, b.collinear_triples, b.minus_one_curves, b.minus_two_curves)\n",
    "contractions = list(b.contractions_P2())\n",
    "for c in contractions:\n",
    "    print('contraction', c.C)\n",
    "contraction = contractions[1]\n",
    "for cyl in contraction.find_cylinders_QT():\n",
    "    if cyl.dimension in [0,1] and cyl.transversal:\n",
    "        print(f'cylinder of dim {cyl.dimension}')\n",
    "        print('complement ', cyl.complement)\n",
    "        print('support ', cyl.support)"
   ]
  },
  {
   "cell_type": "code",
   "execution_count": 66,
   "metadata": {},
   "outputs": [
    {
     "name": "stdout",
     "output_type": "stream",
     "text": [
      "False\n",
      "True\n",
      "True\n",
      "True\n",
      "False\n",
      "False\n",
      "False\n",
      "False\n",
      "False\n",
      "False\n"
     ]
    }
   ],
   "source": [
    "cylinder = [cyl for cyl in contraction.find_cylinders_QT() if cyl.dimension in [0,1]][0]\n",
    "for cone in b.NE.children():\n",
    "    if cone.dimension() == 6:\n",
    "        #print(c.dimension(), '-dim, cone rays: ', c.rays())\n",
    "        print(relint_contains_relint(cylinder.Pol,cone))"
   ]
  },
  {
   "cell_type": "code",
   "execution_count": 98,
   "metadata": {},
   "outputs": [
    {
     "data": {
      "text/plain": [
       "True"
      ]
     },
     "execution_count": 98,
     "metadata": {},
     "output_type": "execute_result"
    }
   ],
   "source": [
    "cylinders_LL = CylinderList(c for c in contraction.find_cylinders_LL() if c.dimension in [0,1])\n",
    "LL_on_ample = cylinders_LL.make_polar_on(cylinders_LL.S.Ample)\n",
    "LL_on_ample.is_generically_flexible_on(cylinders_LL.S.Ample)"
   ]
  },
  {
   "cell_type": "code",
   "execution_count": 105,
   "metadata": {},
   "outputs": [
    {
     "data": {
      "text/plain": [
       "(N(0, 1, -1, 0, 0, 0),\n",
       " N(0, 0, 1, -1, 0, 0),\n",
       " N(0, 0, 0, 1, 0, 0),\n",
       " N(0, 0, 0, 0, 1, -1),\n",
       " N(0, 0, 0, 0, 0, 1),\n",
       " N(1, 0, 0, 0, -1, 0),\n",
       " N(1, -1, -1, -1, 0, 0))"
      ]
     },
     "execution_count": 105,
     "metadata": {},
     "output_type": "execute_result"
    }
   ],
   "source": [
    "LL_on_ample[1].support"
   ]
  },
  {
   "cell_type": "code",
   "execution_count": null,
   "metadata": {},
   "outputs": [],
   "source": []
  }
 ],
 "metadata": {
  "kernelspec": {
   "display_name": "Python 3",
   "language": "python",
   "name": "python3"
  },
  "language_info": {
   "codemirror_mode": {
    "name": "ipython",
    "version": 3
   },
   "file_extension": ".py",
   "mimetype": "text/x-python",
   "name": "python",
   "nbconvert_exporter": "python",
   "pygments_lexer": "ipython3",
   "version": "3.10.5"
  },
  "orig_nbformat": 4
 },
 "nbformat": 4,
 "nbformat_minor": 2
}
