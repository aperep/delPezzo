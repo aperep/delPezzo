{
 "cells": [
  {
   "cell_type": "code",
   "execution_count": 2,
   "metadata": {},
   "outputs": [],
   "source": [
    "%load_ext autoreload\n",
    "%autoreload 2\n",
    "import sys  \n",
    "sys.path.insert(0, '../src')"
   ]
  },
  {
   "cell_type": "code",
   "execution_count": 3,
   "metadata": {},
   "outputs": [],
   "source": [
    "from test_various import *\n",
    "test_S5_covering()\n",
    "test_cone_types()\n",
    "test_S3_tangent_covering()\n",
    "test_S3_cover_anticanonical()  "
   ]
  },
  {
   "cell_type": "code",
   "execution_count": 4,
   "metadata": {},
   "outputs": [
    {
     "data": {
      "text/plain": [
       "[Cylinder(S=<delPezzo_cylinders.Surface object at 0x7f288c37b820>, construction='lines2', complement=(N(0, 1, 0, 0, 0), N(0, 0, 1, 0, 0), N(0, 0, 0, 1, 0), N(0, 0, 0, 0, 1), N(1, -1, -1, 0, 0), N(1, 0, 0, -1, -1)), support=(N(0, 1, 0, 0, 0), N(0, 0, 1, 0, 0), N(0, 0, 0, 1, 0), N(0, 0, 0, 0, 1), N(1, -1, -1, 0, 0), N(1, 0, 0, -1, -1)), fiber=N(1, 0, 0, 0, 0), basepoint=Point(curves=frozenset({N(1, 0, 0, -1, -1), N(1, -1, -1, 0, 0)})), transversal=False, dimension=None),\n",
       " Cylinder(S=<delPezzo_cylinders.Surface object at 0x7f288c37b820>, construction='lines2', complement=(N(0, 1, 0, 0, 0), N(0, 0, 1, 0, 0), N(0, 0, 0, 1, 0), N(0, 0, 0, 0, 1), N(1, -1, 0, -1, 0), N(1, 0, -1, 0, -1)), support=(N(0, 1, 0, 0, 0), N(0, 0, 1, 0, 0), N(0, 0, 0, 1, 0), N(0, 0, 0, 0, 1), N(1, -1, 0, -1, 0), N(1, 0, -1, 0, -1)), fiber=N(1, 0, 0, 0, 0), basepoint=Point(curves=frozenset({N(1, -1, 0, -1, 0), N(1, 0, -1, 0, -1)})), transversal=False, dimension=None),\n",
       " Cylinder(S=<delPezzo_cylinders.Surface object at 0x7f288c37b820>, construction='lines2', complement=(N(0, 1, 0, 0, 0), N(0, 0, 1, 0, 0), N(0, 0, 0, 1, 0), N(0, 0, 0, 0, 1), N(1, -1, 0, 0, -1), N(1, 0, -1, -1, 0)), support=(N(0, 1, 0, 0, 0), N(0, 0, 1, 0, 0), N(0, 0, 0, 1, 0), N(0, 0, 0, 0, 1), N(1, -1, 0, 0, -1), N(1, 0, -1, -1, 0)), fiber=N(1, 0, 0, 0, 0), basepoint=Point(curves=frozenset({N(1, -1, 0, 0, -1), N(1, 0, -1, -1, 0)})), transversal=False, dimension=None)]"
      ]
     },
     "execution_count": 4,
     "metadata": {},
     "output_type": "execute_result"
    }
   ],
   "source": [
    "from test_deg5 import *\n",
    "test_Perepechko2013()"
   ]
  },
  {
   "cell_type": "code",
   "execution_count": 5,
   "metadata": {},
   "outputs": [
    {
     "data": {
      "text/plain": [
       "[Cylinder(S=<delPezzo_cylinders.Surface object at 0x7f2834129030>, construction='tangent', complement=(N(0, 0, 1, 0, 0, 0), N(0, 0, 0, 0, 1, 0), N(1, -1, 0, -1, 0, 0), N(1, -1, 0, 0, 0, -1), N(1, 0, 0, -1, 0, -1), N(1, 0, -1, 0, -1, 0)), support=(N(0, 0, 1, 0, 0, 0), N(0, 0, 0, 0, 1, 0), N(1, -1, 0, -1, 0, 0), N(1, -1, 0, 0, 0, -1), N(1, 0, 0, -1, 0, -1), N(1, 0, -1, 0, -1, 0), N(2, -1, 0, -1, 0, -1)), fiber=N(4, -2, 0, -2, 0, -2), basepoint=None, transversal=True, dimension=None),\n",
       " Cylinder(S=<delPezzo_cylinders.Surface object at 0x7f2834129030>, construction='tangent', complement=(N(0, 0, 0, 1, 0, 0), N(0, 0, 0, 0, 0, 1), N(1, -1, -1, 0, 0, 0), N(1, -1, 0, 0, -1, 0), N(1, 0, -1, 0, -1, 0), N(1, 0, 0, -1, 0, -1)), support=(N(0, 0, 0, 1, 0, 0), N(0, 0, 0, 0, 0, 1), N(1, -1, -1, 0, 0, 0), N(1, -1, 0, 0, -1, 0), N(1, 0, -1, 0, -1, 0), N(1, 0, 0, -1, 0, -1), N(2, -1, -1, 0, -1, 0)), fiber=N(4, -2, -2, 0, -2, 0), basepoint=None, transversal=True, dimension=None),\n",
       " Cylinder(S=<delPezzo_cylinders.Surface object at 0x7f2834129030>, construction='tangent', complement=(N(0, 1, 0, 0, 0, 0), N(0, 0, 0, 0, 1, 0), N(1, 0, -1, -1, 0, 0), N(1, 0, -1, 0, 0, -1), N(1, 0, 0, -1, 0, -1), N(1, -1, 0, 0, -1, 0)), support=(N(0, 1, 0, 0, 0, 0), N(0, 0, 0, 0, 1, 0), N(1, 0, -1, -1, 0, 0), N(1, 0, -1, 0, 0, -1), N(1, 0, 0, -1, 0, -1), N(1, -1, 0, 0, -1, 0), N(2, 0, -1, -1, 0, -1)), fiber=N(4, 0, -2, -2, 0, -2), basepoint=None, transversal=True, dimension=None),\n",
       " Cylinder(S=<delPezzo_cylinders.Surface object at 0x7f2834129030>, construction='tangent', complement=(N(0, 0, 1, 0, 0, 0), N(0, 0, 0, 0, 0, 1), N(1, -1, 0, -1, 0, 0), N(1, -1, 0, 0, -1, 0), N(1, 0, 0, -1, -1, 0), N(1, 0, -1, 0, 0, -1)), support=(N(0, 0, 1, 0, 0, 0), N(0, 0, 0, 0, 0, 1), N(1, -1, 0, -1, 0, 0), N(1, -1, 0, 0, -1, 0), N(1, 0, 0, -1, -1, 0), N(1, 0, -1, 0, 0, -1), N(2, -1, 0, -1, -1, 0)), fiber=N(4, -2, 0, -2, -2, 0), basepoint=None, transversal=True, dimension=None),\n",
       " Cylinder(S=<delPezzo_cylinders.Surface object at 0x7f2834129030>, construction='tangent', complement=(N(0, 1, 0, 0, 0, 0), N(0, 0, 0, 1, 0, 0), N(1, 0, -1, 0, -1, 0), N(1, 0, -1, 0, 0, -1), N(1, 0, 0, 0, -1, -1), N(1, -1, 0, -1, 0, 0)), support=(N(0, 1, 0, 0, 0, 0), N(0, 0, 0, 1, 0, 0), N(1, 0, -1, 0, -1, 0), N(1, 0, -1, 0, 0, -1), N(1, 0, 0, 0, -1, -1), N(1, -1, 0, -1, 0, 0), N(2, 0, -1, 0, -1, -1)), fiber=N(4, 0, -2, 0, -2, -2), basepoint=None, transversal=True, dimension=None)]"
      ]
     },
     "execution_count": 5,
     "metadata": {},
     "output_type": "execute_result"
    }
   ],
   "source": [
    "from test_deg4 import *\n",
    "test_ParkWon_B()\n",
    "test_Perepechko_B0()\n",
    "#test_ParkWon_C()\n"
   ]
  },
  {
   "cell_type": "code",
   "execution_count": 6,
   "metadata": {},
   "outputs": [],
   "source": [
    "from test_deg3 import *\n",
    "\n",
    "test_Perepechko2020()\n"
   ]
  },
  {
   "cell_type": "code",
   "execution_count": 7,
   "metadata": {},
   "outputs": [],
   "source": [
    "from test_deg2 import *\n",
    "\n",
    "test_deg2_cuspidal()"
   ]
  },
  {
   "cell_type": "code",
   "execution_count": 8,
   "metadata": {},
   "outputs": [],
   "source": [
    "from test_weak_deg6 import *\n",
    "\n",
    "test_deg6_weak_1()\n",
    "test_deg6_weak_2()"
   ]
  },
  {
   "cell_type": "code",
   "execution_count": 9,
   "metadata": {},
   "outputs": [
    {
     "name": "stdout",
     "output_type": "stream",
     "text": [
      "(N(0, 0, 1), N(0, 1, -1))\n"
     ]
    }
   ],
   "source": [
    "from test_blowups import *\n",
    "\n",
    "test_blowup_deg_8()\n",
    "test_contraction_P2()"
   ]
  },
  {
   "cell_type": "code",
   "execution_count": null,
   "metadata": {},
   "outputs": [],
   "source": []
  }
 ],
 "metadata": {
  "kernelspec": {
   "display_name": "Python 3",
   "language": "python",
   "name": "python3"
  },
  "language_info": {
   "codemirror_mode": {
    "name": "ipython",
    "version": 3
   },
   "file_extension": ".py",
   "mimetype": "text/x-python",
   "name": "python",
   "nbconvert_exporter": "python",
   "pygments_lexer": "ipython3",
   "version": "3.10.5"
  },
  "orig_nbformat": 4
 },
 "nbformat": 4,
 "nbformat_minor": 2
}
