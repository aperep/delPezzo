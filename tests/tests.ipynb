{
 "cells": [
  {
   "cell_type": "code",
   "execution_count": 2,
   "metadata": {},
   "outputs": [],
   "source": [
    "%load_ext autoreload\n",
    "%autoreload 2\n",
    "import sys  \n",
    "sys.path.insert(0, '../src')"
   ]
  },
  {
   "cell_type": "code",
   "execution_count": 2,
   "metadata": {},
   "outputs": [],
   "source": [
    "from test_various import *\n",
    "test_S5_covering()\n",
    "test_cone_types()\n",
    "test_S3_tangent_covering()\n",
    "test_S3_cover_anticanonical()"
   ]
  },
  {
   "cell_type": "code",
   "execution_count": 3,
   "metadata": {},
   "outputs": [
    {
     "data": {
      "text/plain": [
       "[Cylinder(S=<delPezzo_cylinders.Surface object at 0x7fa59e037760>, construction='lines2', complement=(N(0, 0, 0, 0, 1), N(0, 0, 0, 1, 0), N(0, 0, 1, 0, 0), N(0, 1, 0, 0, 0), N(1, 0, 0, -1, -1), N(1, -1, -1, 0, 0)), support=(N(0, 0, 0, 0, 1), N(0, 0, 0, 1, 0), N(0, 0, 1, 0, 0), N(0, 1, 0, 0, 0), N(1, 0, 0, -1, -1), N(1, -1, -1, 0, 0)), fiber=N(1, 0, 0, 0, 0), basepoint=Point(curves=frozenset({N(1, 0, 0, -1, -1), N(1, -1, -1, 0, 0)})), transversal=False), Cylinder(S=<delPezzo_cylinders.Surface object at 0x7fa59e037760>, construction='lines2', complement=(N(0, 0, 0, 0, 1), N(0, 0, 0, 1, 0), N(0, 0, 1, 0, 0), N(0, 1, 0, 0, 0), N(1, 0, -1, 0, -1), N(1, -1, 0, -1, 0)), support=(N(0, 0, 0, 0, 1), N(0, 0, 0, 1, 0), N(0, 0, 1, 0, 0), N(0, 1, 0, 0, 0), N(1, 0, -1, 0, -1), N(1, -1, 0, -1, 0)), fiber=N(1, 0, 0, 0, 0), basepoint=Point(curves=frozenset({N(1, -1, 0, -1, 0), N(1, 0, -1, 0, -1)})), transversal=False), Cylinder(S=<delPezzo_cylinders.Surface object at 0x7fa59e037760>, construction='lines2', complement=(N(0, 0, 0, 0, 1), N(0, 0, 0, 1, 0), N(0, 0, 1, 0, 0), N(0, 1, 0, 0, 0), N(1, -1, 0, 0, -1), N(1, 0, -1, -1, 0)), support=(N(0, 0, 0, 0, 1), N(0, 0, 0, 1, 0), N(0, 0, 1, 0, 0), N(0, 1, 0, 0, 0), N(1, -1, 0, 0, -1), N(1, 0, -1, -1, 0)), fiber=N(1, 0, 0, 0, 0), basepoint=Point(curves=frozenset({N(1, -1, 0, 0, -1), N(1, 0, -1, -1, 0)})), transversal=False), Cylinder(S=<delPezzo_cylinders.Surface object at 0x7fa59e037760>, construction='lines2', complement=(N(1, 0, 0, -1, -1), N(1, 0, -1, 0, -1), N(1, 0, -1, -1, 0), N(0, 1, 0, 0, 0), N(0, 0, 0, 0, 1), N(1, -1, 0, 0, -1)), support=(N(1, 0, 0, -1, -1), N(1, 0, -1, 0, -1), N(1, 0, -1, -1, 0), N(0, 1, 0, 0, 0), N(0, 0, 0, 0, 1), N(1, -1, 0, 0, -1)), fiber=N(2, 0, -1, -1, -1), basepoint=Point(curves=frozenset({N(1, -1, 0, 0, -1), N(0, 0, 0, 0, 1)})), transversal=False), Cylinder(S=<delPezzo_cylinders.Surface object at 0x7fa59e037760>, construction='lines2', complement=(N(1, 0, 0, -1, -1), N(1, 0, -1, 0, -1), N(1, 0, -1, -1, 0), N(0, 1, 0, 0, 0), N(0, 0, 0, 1, 0), N(1, -1, 0, -1, 0)), support=(N(1, 0, 0, -1, -1), N(1, 0, -1, 0, -1), N(1, 0, -1, -1, 0), N(0, 1, 0, 0, 0), N(0, 0, 0, 1, 0), N(1, -1, 0, -1, 0)), fiber=N(2, 0, -1, -1, -1), basepoint=Point(curves=frozenset({N(1, -1, 0, -1, 0), N(0, 0, 0, 1, 0)})), transversal=False), Cylinder(S=<delPezzo_cylinders.Surface object at 0x7fa59e037760>, construction='lines2', complement=(N(1, 0, 0, -1, -1), N(1, 0, -1, 0, -1), N(1, 0, -1, -1, 0), N(0, 1, 0, 0, 0), N(1, -1, -1, 0, 0), N(0, 0, 1, 0, 0)), support=(N(1, 0, 0, -1, -1), N(1, 0, -1, 0, -1), N(1, 0, -1, -1, 0), N(0, 1, 0, 0, 0), N(1, -1, -1, 0, 0), N(0, 0, 1, 0, 0)), fiber=N(2, 0, -1, -1, -1), basepoint=Point(curves=frozenset({N(0, 0, 1, 0, 0), N(1, -1, -1, 0, 0)})), transversal=False), Cylinder(S=<delPezzo_cylinders.Surface object at 0x7fa59e037760>, construction='lines2', complement=(N(1, 0, 0, -1, -1), N(1, -1, 0, 0, -1), N(1, -1, 0, -1, 0), N(0, 0, 1, 0, 0), N(0, 0, 0, 0, 1), N(1, 0, -1, 0, -1)), support=(N(1, 0, 0, -1, -1), N(1, -1, 0, 0, -1), N(1, -1, 0, -1, 0), N(0, 0, 1, 0, 0), N(0, 0, 0, 0, 1), N(1, 0, -1, 0, -1)), fiber=N(2, -1, 0, -1, -1), basepoint=Point(curves=frozenset({N(1, 0, -1, 0, -1), N(0, 0, 0, 0, 1)})), transversal=False), Cylinder(S=<delPezzo_cylinders.Surface object at 0x7fa59e037760>, construction='lines2', complement=(N(1, 0, 0, -1, -1), N(1, -1, 0, 0, -1), N(1, -1, 0, -1, 0), N(0, 0, 1, 0, 0), N(0, 0, 0, 1, 0), N(1, 0, -1, -1, 0)), support=(N(1, 0, 0, -1, -1), N(1, -1, 0, 0, -1), N(1, -1, 0, -1, 0), N(0, 0, 1, 0, 0), N(0, 0, 0, 1, 0), N(1, 0, -1, -1, 0)), fiber=N(2, -1, 0, -1, -1), basepoint=Point(curves=frozenset({N(1, 0, -1, -1, 0), N(0, 0, 0, 1, 0)})), transversal=False), Cylinder(S=<delPezzo_cylinders.Surface object at 0x7fa59e037760>, construction='lines2', complement=(N(1, 0, 0, -1, -1), N(1, -1, 0, 0, -1), N(1, -1, 0, -1, 0), N(0, 0, 1, 0, 0), N(1, -1, -1, 0, 0), N(0, 1, 0, 0, 0)), support=(N(1, 0, 0, -1, -1), N(1, -1, 0, 0, -1), N(1, -1, 0, -1, 0), N(0, 0, 1, 0, 0), N(1, -1, -1, 0, 0), N(0, 1, 0, 0, 0)), fiber=N(2, -1, 0, -1, -1), basepoint=Point(curves=frozenset({N(0, 1, 0, 0, 0), N(1, -1, -1, 0, 0)})), transversal=False), Cylinder(S=<delPezzo_cylinders.Surface object at 0x7fa59e037760>, construction='lines2', complement=(N(1, 0, -1, 0, -1), N(1, -1, 0, 0, -1), N(1, -1, -1, 0, 0), N(0, 0, 0, 1, 0), N(0, 0, 0, 0, 1), N(1, 0, 0, -1, -1)), support=(N(1, 0, -1, 0, -1), N(1, -1, 0, 0, -1), N(1, -1, -1, 0, 0), N(0, 0, 0, 1, 0), N(0, 0, 0, 0, 1), N(1, 0, 0, -1, -1)), fiber=N(2, -1, -1, 0, -1), basepoint=Point(curves=frozenset({N(1, 0, 0, -1, -1), N(0, 0, 0, 0, 1)})), transversal=False), Cylinder(S=<delPezzo_cylinders.Surface object at 0x7fa59e037760>, construction='lines2', complement=(N(1, 0, -1, 0, -1), N(1, -1, 0, 0, -1), N(1, -1, -1, 0, 0), N(0, 0, 0, 1, 0), N(0, 0, 1, 0, 0), N(1, 0, -1, -1, 0)), support=(N(1, 0, -1, 0, -1), N(1, -1, 0, 0, -1), N(1, -1, -1, 0, 0), N(0, 0, 0, 1, 0), N(0, 0, 1, 0, 0), N(1, 0, -1, -1, 0)), fiber=N(2, -1, -1, 0, -1), basepoint=Point(curves=frozenset({N(0, 0, 1, 0, 0), N(1, 0, -1, -1, 0)})), transversal=False), Cylinder(S=<delPezzo_cylinders.Surface object at 0x7fa59e037760>, construction='lines2', complement=(N(1, 0, -1, 0, -1), N(1, -1, 0, 0, -1), N(1, -1, -1, 0, 0), N(0, 0, 0, 1, 0), N(1, -1, 0, -1, 0), N(0, 1, 0, 0, 0)), support=(N(1, 0, -1, 0, -1), N(1, -1, 0, 0, -1), N(1, -1, -1, 0, 0), N(0, 0, 0, 1, 0), N(1, -1, 0, -1, 0), N(0, 1, 0, 0, 0)), fiber=N(2, -1, -1, 0, -1), basepoint=Point(curves=frozenset({N(0, 1, 0, 0, 0), N(1, -1, 0, -1, 0)})), transversal=False), Cylinder(S=<delPezzo_cylinders.Surface object at 0x7fa59e037760>, construction='lines2', complement=(N(1, 0, -1, -1, 0), N(1, -1, 0, -1, 0), N(1, -1, -1, 0, 0), N(0, 0, 0, 0, 1), N(0, 0, 0, 1, 0), N(1, 0, 0, -1, -1)), support=(N(1, 0, -1, -1, 0), N(1, -1, 0, -1, 0), N(1, -1, -1, 0, 0), N(0, 0, 0, 0, 1), N(0, 0, 0, 1, 0), N(1, 0, 0, -1, -1)), fiber=N(2, -1, -1, -1, 0), basepoint=Point(curves=frozenset({N(1, 0, 0, -1, -1), N(0, 0, 0, 1, 0)})), transversal=False), Cylinder(S=<delPezzo_cylinders.Surface object at 0x7fa59e037760>, construction='lines2', complement=(N(1, 0, -1, -1, 0), N(1, -1, 0, -1, 0), N(1, -1, -1, 0, 0), N(0, 0, 0, 0, 1), N(0, 0, 1, 0, 0), N(1, 0, -1, 0, -1)), support=(N(1, 0, -1, -1, 0), N(1, -1, 0, -1, 0), N(1, -1, -1, 0, 0), N(0, 0, 0, 0, 1), N(0, 0, 1, 0, 0), N(1, 0, -1, 0, -1)), fiber=N(2, -1, -1, -1, 0), basepoint=Point(curves=frozenset({N(0, 0, 1, 0, 0), N(1, 0, -1, 0, -1)})), transversal=False), Cylinder(S=<delPezzo_cylinders.Surface object at 0x7fa59e037760>, construction='lines2', complement=(N(1, 0, -1, -1, 0), N(1, -1, 0, -1, 0), N(1, -1, -1, 0, 0), N(0, 0, 0, 0, 1), N(1, -1, 0, 0, -1), N(0, 1, 0, 0, 0)), support=(N(1, 0, -1, -1, 0), N(1, -1, 0, -1, 0), N(1, -1, -1, 0, 0), N(0, 0, 0, 0, 1), N(1, -1, 0, 0, -1), N(0, 1, 0, 0, 0)), fiber=N(2, -1, -1, -1, 0), basepoint=Point(curves=frozenset({N(0, 1, 0, 0, 0), N(1, -1, 0, 0, -1)})), transversal=False)]"
      ]
     },
     "execution_count": 3,
     "metadata": {},
     "output_type": "execute_result"
    }
   ],
   "source": [
    "from test_deg5 import *\n",
    "test_Perepechko2013()"
   ]
  },
  {
   "cell_type": "code",
   "execution_count": 4,
   "metadata": {},
   "outputs": [
    {
     "data": {
      "text/plain": [
       "[Cylinder(S=<delPezzo_cylinders.Surface object at 0x7fa59c9680a0>, construction='tangent', complement=(N(0, 0, 1, 0, 0, 0), N(0, 0, 0, 0, 1, 0), N(1, -1, 0, -1, 0, 0), N(1, -1, 0, 0, 0, -1), N(1, 0, 0, -1, 0, -1), N(1, 0, -1, 0, -1, 0)), support=(N(0, 0, 1, 0, 0, 0), N(0, 0, 0, 0, 1, 0), N(1, -1, 0, -1, 0, 0), N(1, -1, 0, 0, 0, -1), N(1, 0, 0, -1, 0, -1), N(1, 0, -1, 0, -1, 0), N(2, -1, 0, -1, 0, -1)), fiber=None, basepoint=None, transversal=True), Cylinder(S=<delPezzo_cylinders.Surface object at 0x7fa59c9680a0>, construction='tangent', complement=(N(0, 0, 0, 1, 0, 0), N(0, 0, 0, 0, 0, 1), N(1, -1, -1, 0, 0, 0), N(1, -1, 0, 0, -1, 0), N(1, 0, -1, 0, -1, 0), N(1, 0, 0, -1, 0, -1)), support=(N(0, 0, 0, 1, 0, 0), N(0, 0, 0, 0, 0, 1), N(1, -1, -1, 0, 0, 0), N(1, -1, 0, 0, -1, 0), N(1, 0, -1, 0, -1, 0), N(1, 0, 0, -1, 0, -1), N(2, -1, -1, 0, -1, 0)), fiber=None, basepoint=None, transversal=True), Cylinder(S=<delPezzo_cylinders.Surface object at 0x7fa59c9680a0>, construction='tangent', complement=(N(0, 1, 0, 0, 0, 0), N(0, 0, 0, 0, 1, 0), N(1, 0, -1, -1, 0, 0), N(1, 0, -1, 0, 0, -1), N(1, 0, 0, -1, 0, -1), N(1, -1, 0, 0, -1, 0)), support=(N(0, 1, 0, 0, 0, 0), N(0, 0, 0, 0, 1, 0), N(1, 0, -1, -1, 0, 0), N(1, 0, -1, 0, 0, -1), N(1, 0, 0, -1, 0, -1), N(1, -1, 0, 0, -1, 0), N(2, 0, -1, -1, 0, -1)), fiber=None, basepoint=None, transversal=True), Cylinder(S=<delPezzo_cylinders.Surface object at 0x7fa59c9680a0>, construction='tangent', complement=(N(0, 0, 1, 0, 0, 0), N(0, 0, 0, 0, 0, 1), N(1, -1, 0, -1, 0, 0), N(1, -1, 0, 0, -1, 0), N(1, 0, 0, -1, -1, 0), N(1, 0, -1, 0, 0, -1)), support=(N(0, 0, 1, 0, 0, 0), N(0, 0, 0, 0, 0, 1), N(1, -1, 0, -1, 0, 0), N(1, -1, 0, 0, -1, 0), N(1, 0, 0, -1, -1, 0), N(1, 0, -1, 0, 0, -1), N(2, -1, 0, -1, -1, 0)), fiber=None, basepoint=None, transversal=True), Cylinder(S=<delPezzo_cylinders.Surface object at 0x7fa59c9680a0>, construction='tangent', complement=(N(0, 1, 0, 0, 0, 0), N(0, 0, 0, 1, 0, 0), N(1, 0, -1, 0, -1, 0), N(1, 0, -1, 0, 0, -1), N(1, 0, 0, 0, -1, -1), N(1, -1, 0, -1, 0, 0)), support=(N(0, 1, 0, 0, 0, 0), N(0, 0, 0, 1, 0, 0), N(1, 0, -1, 0, -1, 0), N(1, 0, -1, 0, 0, -1), N(1, 0, 0, 0, -1, -1), N(1, -1, 0, -1, 0, 0), N(2, 0, -1, 0, -1, -1)), fiber=None, basepoint=None, transversal=True)]"
      ]
     },
     "execution_count": 4,
     "metadata": {},
     "output_type": "execute_result"
    }
   ],
   "source": [
    "from test_deg4 import *\n",
    "test_ParkWon_B()\n",
    "test_Perepechko_B0()\n",
    "#test_ParkWon_C()\n"
   ]
  },
  {
   "cell_type": "code",
   "execution_count": 5,
   "metadata": {},
   "outputs": [],
   "source": [
    "from test_deg3 import *\n",
    "\n",
    "test_Perepechko2020()\n"
   ]
  },
  {
   "cell_type": "code",
   "execution_count": 7,
   "metadata": {},
   "outputs": [],
   "source": [
    "from test_deg2 import *\n",
    "\n",
    "test_deg2_cuspidal()"
   ]
  },
  {
   "cell_type": "code",
   "execution_count": 8,
   "metadata": {},
   "outputs": [
    {
     "name": "stderr",
     "output_type": "stream",
     "text": [
      "[autoreload of delPezzo_cylinders failed: Traceback (most recent call last):\n",
      "  File \"/home/sage/sage/local/var/lib/sage/venv-python3.10.5/lib/python3.10/site-packages/IPython/extensions/autoreload.py\", line 257, in check\n",
      "    superreload(m, reload, self.old_objects)\n",
      "  File \"/home/sage/sage/local/var/lib/sage/venv-python3.10.5/lib/python3.10/site-packages/IPython/extensions/autoreload.py\", line 480, in superreload\n",
      "    update_generic(old_obj, new_obj)\n",
      "  File \"/home/sage/sage/local/var/lib/sage/venv-python3.10.5/lib/python3.10/site-packages/IPython/extensions/autoreload.py\", line 377, in update_generic\n",
      "    update(a, b)\n",
      "  File \"/home/sage/sage/local/var/lib/sage/venv-python3.10.5/lib/python3.10/site-packages/IPython/extensions/autoreload.py\", line 345, in update_class\n",
      "    update_instances(old, new)\n",
      "  File \"/home/sage/sage/local/var/lib/sage/venv-python3.10.5/lib/python3.10/site-packages/IPython/extensions/autoreload.py\", line 303, in update_instances\n",
      "    ref.__class__ = new\n",
      "  File \"<string>\", line 4, in __setattr__\n",
      "dataclasses.FrozenInstanceError: cannot assign to field '__class__'\n",
      "]\n"
     ]
    },
    {
     "name": "stdout",
     "output_type": "stream",
     "text": [
      "Unexpected exception formatting exception. Falling back to standard exception\n"
     ]
    },
    {
     "name": "stderr",
     "output_type": "stream",
     "text": [
      "Traceback (most recent call last):\n",
      "  File \"/home/sage/sage/local/var/lib/sage/venv-python3.10.5/lib/python3.10/site-packages/IPython/core/interactiveshell.py\", line 3398, in run_code\n",
      "    exec(code_obj, self.user_global_ns, self.user_ns)\n",
      "  File \"/tmp/ipykernel_3595/2504264940.py\", line 4, in <cell line: 4>\n",
      "    test_deg6_weak_2()\n",
      "  File \"/workspaces/sagemath/tests/../src/test_weak_deg6.py\", line 42, in test_deg6_weak_2\n",
      "    col = CylinderList([cyl1, cyl2])\n",
      "  File \"/workspaces/sagemath/tests/../src/delPezzo_cylinders.py\", line 462, in __init__\n",
      "  File \"/workspaces/sagemath/tests/../src/delPezzo_cylinders.py\", line 490, in _validate_cylinder\n",
      "    for cyl in self:\n",
      "TypeError: Cylinder(S=<delPezzo_cylinders.Surface object at 0x7f1866272ef0>, construction=None, complement=(N(0, 0, 1, 0), N(0, 1, -1, 0), N(1, -1, 0, -1), N(0, 0, 0, 1)), support=(N(0, 0, 1, 0), N(0, 1, -1, 0), N(1, -1, 0, -1), N(0, 0, 0, 1), N(1, 0, 0, 0)), fiber=N(1, 0, 0, 0), basepoint=None, transversal=True) is not a Cylinder\n",
      "\n",
      "During handling of the above exception, another exception occurred:\n",
      "\n",
      "Traceback (most recent call last):\n",
      "  File \"/home/sage/sage/local/var/lib/sage/venv-python3.10.5/lib/python3.10/site-packages/IPython/core/interactiveshell.py\", line 1993, in showtraceback\n",
      "    stb = self.InteractiveTB.structured_traceback(\n",
      "  File \"/home/sage/sage/local/var/lib/sage/venv-python3.10.5/lib/python3.10/site-packages/IPython/core/ultratb.py\", line 1118, in structured_traceback\n",
      "    return FormattedTB.structured_traceback(\n",
      "  File \"/home/sage/sage/local/var/lib/sage/venv-python3.10.5/lib/python3.10/site-packages/IPython/core/ultratb.py\", line 1012, in structured_traceback\n",
      "    return VerboseTB.structured_traceback(\n",
      "  File \"/home/sage/sage/local/var/lib/sage/venv-python3.10.5/lib/python3.10/site-packages/IPython/core/ultratb.py\", line 865, in structured_traceback\n",
      "    formatted_exception = self.format_exception_as_a_whole(etype, evalue, etb, number_of_lines_of_context,\n",
      "  File \"/home/sage/sage/local/var/lib/sage/venv-python3.10.5/lib/python3.10/site-packages/IPython/core/ultratb.py\", line 818, in format_exception_as_a_whole\n",
      "    frames.append(self.format_record(r))\n",
      "  File \"/home/sage/sage/local/var/lib/sage/venv-python3.10.5/lib/python3.10/site-packages/IPython/core/ultratb.py\", line 736, in format_record\n",
      "    result += ''.join(_format_traceback_lines(frame_info.lines, Colors, self.has_colors, lvals))\n",
      "  File \"/home/sage/sage/local/var/lib/sage/venv-python3.10.5/lib/python3.10/site-packages/stack_data/utils.py\", line 145, in cached_property_wrapper\n",
      "    value = obj.__dict__[self.func.__name__] = self.func(obj)\n",
      "  File \"/home/sage/sage/local/var/lib/sage/venv-python3.10.5/lib/python3.10/site-packages/stack_data/core.py\", line 698, in lines\n",
      "    pieces = self.included_pieces\n",
      "  File \"/home/sage/sage/local/var/lib/sage/venv-python3.10.5/lib/python3.10/site-packages/stack_data/utils.py\", line 145, in cached_property_wrapper\n",
      "    value = obj.__dict__[self.func.__name__] = self.func(obj)\n",
      "  File \"/home/sage/sage/local/var/lib/sage/venv-python3.10.5/lib/python3.10/site-packages/stack_data/core.py\", line 649, in included_pieces\n",
      "    pos = scope_pieces.index(self.executing_piece)\n",
      "  File \"/home/sage/sage/local/var/lib/sage/venv-python3.10.5/lib/python3.10/site-packages/stack_data/utils.py\", line 145, in cached_property_wrapper\n",
      "    value = obj.__dict__[self.func.__name__] = self.func(obj)\n",
      "  File \"/home/sage/sage/local/var/lib/sage/venv-python3.10.5/lib/python3.10/site-packages/stack_data/core.py\", line 628, in executing_piece\n",
      "    return only(\n",
      "  File \"/home/sage/sage/local/var/lib/sage/venv-python3.10.5/lib/python3.10/site-packages/executing/executing.py\", line 164, in only\n",
      "    raise NotOneValueFound('Expected one value, found 0')\n",
      "executing.executing.NotOneValueFound: Expected one value, found 0\n"
     ]
    }
   ],
   "source": [
    "from test_weak_deg6 import *\n",
    "\n",
    "test_deg6_weak_1()\n",
    "test_deg6_weak_2()"
   ]
  },
  {
   "cell_type": "code",
   "execution_count": null,
   "metadata": {},
   "outputs": [],
   "source": []
  }
 ],
 "metadata": {
  "kernelspec": {
   "display_name": "SageMath 9.7",
   "language": "sage",
   "name": "sagemath"
  },
  "language_info": {
   "codemirror_mode": {
    "name": "ipython",
    "version": 3
   },
   "file_extension": ".py",
   "mimetype": "text/x-python",
   "name": "python",
   "nbconvert_exporter": "python",
   "pygments_lexer": "ipython3",
   "version": "3.10.5"
  },
  "orig_nbformat": 4
 },
 "nbformat": 4,
 "nbformat_minor": 2
}
