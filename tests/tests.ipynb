{
 "cells": [
  {
   "cell_type": "code",
   "execution_count": 1,
   "metadata": {},
   "outputs": [],
   "source": [
    "%load_ext autoreload\n",
    "%autoreload 2\n",
    "import sys  \n",
    "sys.path.insert(0, '../src')"
   ]
  },
  {
   "cell_type": "code",
   "execution_count": 3,
   "metadata": {},
   "outputs": [
    {
     "name": "stderr",
     "output_type": "stream",
     "text": [
      "/home/sage/sage/local/var/lib/sage/venv-python3.10.5/lib/python3.10/site-packages/IPython/extensions/autoreload.py:403: DeprecationWarning: \n",
      "Importing verbose from here is deprecated; please use \"from sage.misc.verbose import verbose\" instead.\n",
      "See http://trac.sagemath.org/17815 for details.\n",
      "  in_module = hasattr(obj, \"__module__\") and obj.__module__ == module.__name__\n",
      "/home/sage/sage/local/var/lib/sage/venv-python3.10.5/lib/python3.10/site-packages/IPython/extensions/autoreload.py:403: DeprecationWarning: \n",
      "Importing union from here is deprecated; please use \"from sage.misc.misc import union\" instead.\n",
      "See https://trac.sagemath.org/32096 for details.\n",
      "  in_module = hasattr(obj, \"__module__\") and obj.__module__ == module.__name__\n",
      "// Giac share root-directory:/home/sage/sage/local/share/giac/\n",
      "// Giac share root-directory:/home/sage/sage/local/share/giac/\n",
      "Added 0 synonyms\n",
      "/home/sage/sage/local/var/lib/sage/venv-python3.10.5/lib/python3.10/site-packages/IPython/extensions/autoreload.py:403: DeprecationWarning: \n",
      "Importing PowerSeries from here is deprecated; please use \"from sage.rings.power_series_ring_element import PowerSeries\" instead.\n",
      "See https://trac.sagemath.org/33602 for details.\n",
      "  in_module = hasattr(obj, \"__module__\") and obj.__module__ == module.__name__\n",
      "/home/sage/sage/local/var/lib/sage/venv-python3.10.5/lib/python3.10/site-packages/IPython/extensions/autoreload.py:403: DeprecationWarning: \n",
      "Importing LaurentSeries from here is deprecated; please use \"from sage.rings.laurent_series_ring_element import LaurentSeries\" instead.\n",
      "See https://trac.sagemath.org/33602 for details.\n",
      "  in_module = hasattr(obj, \"__module__\") and obj.__module__ == module.__name__\n",
      "/home/sage/sage/local/var/lib/sage/venv-python3.10.5/lib/python3.10/site-packages/IPython/extensions/autoreload.py:403: DeprecationWarning: \n",
      "Importing PuiseuxSeries from here is deprecated; please use \"from sage.rings.puiseux_series_ring_element import PuiseuxSeries\" instead.\n",
      "See https://trac.sagemath.org/33602 for details.\n",
      "  in_module = hasattr(obj, \"__module__\") and obj.__module__ == module.__name__\n",
      "/home/sage/sage/local/var/lib/sage/venv-python3.10.5/lib/python3.10/site-packages/IPython/extensions/autoreload.py:403: DeprecationWarning: \n",
      "Importing Sigma from here is deprecated; please use \"from sage.arith.misc import Sigma\" instead.\n",
      "See https://trac.sagemath.org/30322 for details.\n",
      "  in_module = hasattr(obj, \"__module__\") and obj.__module__ == module.__name__\n",
      "/home/sage/sage/local/var/lib/sage/venv-python3.10.5/lib/python3.10/site-packages/IPython/extensions/autoreload.py:403: DeprecationWarning: \n",
      "Importing Moebius from here is deprecated; please use \"from sage.arith.misc import Moebius\" instead.\n",
      "See https://trac.sagemath.org/30322 for details.\n",
      "  in_module = hasattr(obj, \"__module__\") and obj.__module__ == module.__name__\n",
      "/home/sage/sage/local/var/lib/sage/venv-python3.10.5/lib/python3.10/site-packages/IPython/extensions/autoreload.py:403: DeprecationWarning: \n",
      "Importing Euler_Phi from here is deprecated; please use \"from sage.arith.misc import Euler_Phi\" instead.\n",
      "See https://trac.sagemath.org/30322 for details.\n",
      "  in_module = hasattr(obj, \"__module__\") and obj.__module__ == module.__name__\n",
      "/home/sage/sage/local/var/lib/sage/venv-python3.10.5/lib/python3.10/site-packages/IPython/extensions/autoreload.py:403: DeprecationWarning: removed from namespace\n",
      "See https://trac.sagemath.org/32647 for details.\n",
      "  in_module = hasattr(obj, \"__module__\") and obj.__module__ == module.__name__\n",
      "/home/sage/sage/local/var/lib/sage/venv-python3.10.5/lib/python3.10/site-packages/IPython/extensions/autoreload.py:403: DeprecationWarning: removed from main namespace\n",
      "See https://trac.sagemath.org/32647 for details.\n",
      "  in_module = hasattr(obj, \"__module__\") and obj.__module__ == module.__name__\n",
      "/home/sage/sage/local/var/lib/sage/venv-python3.10.5/lib/python3.10/site-packages/IPython/extensions/autoreload.py:403: DeprecationWarning: \n",
      "Importing igusa_clebsch_invariants from here is deprecated; please use \"from sage.schemes.hyperelliptic_curves.invariants import igusa_clebsch_invariants\" instead.\n",
      "See https://trac.sagemath.org/28064 for details.\n",
      "  in_module = hasattr(obj, \"__module__\") and obj.__module__ == module.__name__\n",
      "/home/sage/sage/local/var/lib/sage/venv-python3.10.5/lib/python3.10/site-packages/IPython/extensions/autoreload.py:403: DeprecationWarning: \n",
      "Importing absolute_igusa_invariants_kohel from here is deprecated; please use \"from sage.schemes.hyperelliptic_curves.invariants import absolute_igusa_invariants_kohel\" instead.\n",
      "See https://trac.sagemath.org/28064 for details.\n",
      "  in_module = hasattr(obj, \"__module__\") and obj.__module__ == module.__name__\n",
      "/home/sage/sage/local/var/lib/sage/venv-python3.10.5/lib/python3.10/site-packages/IPython/extensions/autoreload.py:403: DeprecationWarning: \n",
      "Importing absolute_igusa_invariants_wamelen from here is deprecated; please use \"from sage.schemes.hyperelliptic_curves.invariants import absolute_igusa_invariants_wamelen\" instead.\n",
      "See https://trac.sagemath.org/28064 for details.\n",
      "  in_module = hasattr(obj, \"__module__\") and obj.__module__ == module.__name__\n",
      "/home/sage/sage/local/var/lib/sage/venv-python3.10.5/lib/python3.10/site-packages/IPython/extensions/autoreload.py:403: DeprecationWarning: \n",
      "Importing clebsch_invariants from here is deprecated; please use \"from sage.schemes.hyperelliptic_curves.invariants import clebsch_invariants\" instead.\n",
      "See https://trac.sagemath.org/28064 for details.\n",
      "  in_module = hasattr(obj, \"__module__\") and obj.__module__ == module.__name__\n",
      "/home/sage/sage/local/var/lib/sage/venv-python3.10.5/lib/python3.10/site-packages/IPython/extensions/autoreload.py:403: DeprecationWarning: \n",
      "Importing tests from here is deprecated; please use \"from sage.tests import all as tests\" instead.\n",
      "See https://trac.sagemath.org/27337 for details.\n",
      "  in_module = hasattr(obj, \"__module__\") and obj.__module__ == module.__name__\n",
      "/home/sage/sage/local/var/lib/sage/venv-python3.10.5/lib/python3.10/site-packages/IPython/extensions/autoreload.py:403: DeprecationWarning: this class is deprecated, do not use\n",
      "See https://trac.sagemath.org/31545 for details.\n",
      "  in_module = hasattr(obj, \"__module__\") and obj.__module__ == module.__name__\n",
      "/home/sage/sage/local/var/lib/sage/venv-python3.10.5/lib/python3.10/site-packages/IPython/extensions/autoreload.py:403: DeprecationWarning: the package sage.media is deprecated\n",
      "See http://trac.sagemath.org/12673 for details.\n",
      "  in_module = hasattr(obj, \"__module__\") and obj.__module__ == module.__name__\n",
      "/home/sage/sage/local/var/lib/sage/venv-python3.10.5/lib/python3.10/site-packages/IPython/extensions/autoreload.py:403: DeprecationWarning: \n",
      "Importing wave from here is deprecated; please use \"from sage.media.wav import Wave as wave\" instead.\n",
      "See http://trac.sagemath.org/12673 for details.\n",
      "  in_module = hasattr(obj, \"__module__\") and obj.__module__ == module.__name__\n",
      "/home/sage/sage/local/var/lib/sage/venv-python3.10.5/lib/python3.10/site-packages/IPython/extensions/autoreload.py:403: DeprecationWarning: the package sage.finance is deprecated\n",
      "See https://trac.sagemath.org/32427 for details.\n",
      "  in_module = hasattr(obj, \"__module__\") and obj.__module__ == module.__name__\n",
      "/home/sage/sage/local/var/lib/sage/venv-python3.10.5/lib/python3.10/site-packages/IPython/extensions/autoreload.py:403: DeprecationWarning: \n",
      "Importing finance from here is deprecated; please use \"from sage.finance import all as finance\" instead.\n",
      "See https://trac.sagemath.org/32427 for details.\n",
      "  in_module = hasattr(obj, \"__module__\") and obj.__module__ == module.__name__\n",
      "/home/sage/sage/local/var/lib/sage/venv-python3.10.5/lib/python3.10/site-packages/IPython/extensions/autoreload.py:403: DeprecationWarning: \n",
      "Importing OpenInterval from here is deprecated; please use \"from sage.manifolds.differentiable.examples.real_line import OpenInterval\" instead.\n",
      "See https://trac.sagemath.org/31881 for details.\n",
      "  in_module = hasattr(obj, \"__module__\") and obj.__module__ == module.__name__\n",
      "/home/sage/sage/local/var/lib/sage/venv-python3.10.5/lib/python3.10/site-packages/IPython/extensions/autoreload.py:403: DeprecationWarning: \n",
      "Importing RealLine from here is deprecated; please use \"from sage.manifolds.differentiable.examples.real_line import RealLine\" instead.\n",
      "See https://trac.sagemath.org/31881 for details.\n",
      "  in_module = hasattr(obj, \"__module__\") and obj.__module__ == module.__name__\n",
      "[autoreload of delPezzo_cylinders failed: Traceback (most recent call last):\n",
      "  File \"/home/sage/sage/local/var/lib/sage/venv-python3.10.5/lib/python3.10/site-packages/IPython/extensions/autoreload.py\", line 257, in check\n",
      "    superreload(m, reload, self.old_objects)\n",
      "  File \"/home/sage/sage/local/var/lib/sage/venv-python3.10.5/lib/python3.10/site-packages/IPython/extensions/autoreload.py\", line 480, in superreload\n",
      "    update_generic(old_obj, new_obj)\n",
      "  File \"/home/sage/sage/local/var/lib/sage/venv-python3.10.5/lib/python3.10/site-packages/IPython/extensions/autoreload.py\", line 377, in update_generic\n",
      "    update(a, b)\n",
      "  File \"/home/sage/sage/local/var/lib/sage/venv-python3.10.5/lib/python3.10/site-packages/IPython/extensions/autoreload.py\", line 345, in update_class\n",
      "    update_instances(old, new)\n",
      "  File \"/home/sage/sage/local/var/lib/sage/venv-python3.10.5/lib/python3.10/site-packages/IPython/extensions/autoreload.py\", line 303, in update_instances\n",
      "    ref.__class__ = new\n",
      "  File \"<string>\", line 4, in __setattr__\n",
      "dataclasses.FrozenInstanceError: cannot assign to field '__class__'\n",
      "]\n"
     ]
    }
   ],
   "source": [
    "from test_various import *\n",
    "test_S5_covering()\n",
    "test_cone_types()\n",
    "test_S3_tangent_covering()\n",
    "test_S3_cover_anticanonical()"
   ]
  },
  {
   "cell_type": "code",
   "execution_count": 4,
   "metadata": {},
   "outputs": [
    {
     "data": {
      "text/plain": [
       "[Cylinder(S=<delPezzo_cylinders.Surface object at 0x7ff6f6f6b400>, construction='lines2', complement=(N(0, 1, 0, 0, 0), N(0, 0, 1, 0, 0), N(0, 0, 0, 1, 0), N(0, 0, 0, 0, 1), N(1, -1, -1, 0, 0), N(1, 0, 0, -1, -1)), support=(N(0, 1, 0, 0, 0), N(0, 0, 1, 0, 0), N(0, 0, 0, 1, 0), N(0, 0, 0, 0, 1), N(1, -1, -1, 0, 0), N(1, 0, 0, -1, -1)), fiber=N(1, 0, 0, 0, 0), basepoint=Point(curves=frozenset({N(1, 0, 0, -1, -1), N(1, -1, -1, 0, 0)})), transversal=False),\n",
       " Cylinder(S=<delPezzo_cylinders.Surface object at 0x7ff6f6f6b400>, construction='lines2', complement=(N(0, 1, 0, 0, 0), N(0, 0, 1, 0, 0), N(0, 0, 0, 1, 0), N(0, 0, 0, 0, 1), N(1, -1, 0, -1, 0), N(1, 0, -1, 0, -1)), support=(N(0, 1, 0, 0, 0), N(0, 0, 1, 0, 0), N(0, 0, 0, 1, 0), N(0, 0, 0, 0, 1), N(1, -1, 0, -1, 0), N(1, 0, -1, 0, -1)), fiber=N(1, 0, 0, 0, 0), basepoint=Point(curves=frozenset({N(1, -1, 0, -1, 0), N(1, 0, -1, 0, -1)})), transversal=False),\n",
       " Cylinder(S=<delPezzo_cylinders.Surface object at 0x7ff6f6f6b400>, construction='lines2', complement=(N(0, 1, 0, 0, 0), N(0, 0, 1, 0, 0), N(0, 0, 0, 1, 0), N(0, 0, 0, 0, 1), N(1, -1, 0, 0, -1), N(1, 0, -1, -1, 0)), support=(N(0, 1, 0, 0, 0), N(0, 0, 1, 0, 0), N(0, 0, 0, 1, 0), N(0, 0, 0, 0, 1), N(1, -1, 0, 0, -1), N(1, 0, -1, -1, 0)), fiber=N(1, 0, 0, 0, 0), basepoint=Point(curves=frozenset({N(1, -1, 0, 0, -1), N(1, 0, -1, -1, 0)})), transversal=False)]"
      ]
     },
     "execution_count": 4,
     "metadata": {},
     "output_type": "execute_result"
    }
   ],
   "source": [
    "from test_deg5 import *\n",
    "test_Perepechko2013()"
   ]
  },
  {
   "cell_type": "code",
   "execution_count": 5,
   "metadata": {},
   "outputs": [
    {
     "data": {
      "text/plain": [
       "[Cylinder(S=<delPezzo_cylinders.Surface object at 0x7f5824f5ff70>, construction='tangent', complement=(N(0, 0, 1, 0, 0, 0), N(0, 0, 0, 0, 1, 0), N(1, -1, 0, -1, 0, 0), N(1, -1, 0, 0, 0, -1), N(1, 0, 0, -1, 0, -1), N(1, 0, -1, 0, -1, 0)), support=(N(0, 0, 1, 0, 0, 0), N(0, 0, 0, 0, 1, 0), N(1, -1, 0, -1, 0, 0), N(1, -1, 0, 0, 0, -1), N(1, 0, 0, -1, 0, -1), N(1, 0, -1, 0, -1, 0), N(2, -1, 0, -1, 0, -1)), fiber=N(4, -2, 0, -2, 0, -2), basepoint=None, transversal=True),\n",
       " Cylinder(S=<delPezzo_cylinders.Surface object at 0x7f5824f5ff70>, construction='tangent', complement=(N(0, 0, 0, 1, 0, 0), N(0, 0, 0, 0, 0, 1), N(1, -1, -1, 0, 0, 0), N(1, -1, 0, 0, -1, 0), N(1, 0, -1, 0, -1, 0), N(1, 0, 0, -1, 0, -1)), support=(N(0, 0, 0, 1, 0, 0), N(0, 0, 0, 0, 0, 1), N(1, -1, -1, 0, 0, 0), N(1, -1, 0, 0, -1, 0), N(1, 0, -1, 0, -1, 0), N(1, 0, 0, -1, 0, -1), N(2, -1, -1, 0, -1, 0)), fiber=N(4, -2, -2, 0, -2, 0), basepoint=None, transversal=True),\n",
       " Cylinder(S=<delPezzo_cylinders.Surface object at 0x7f5824f5ff70>, construction='tangent', complement=(N(0, 1, 0, 0, 0, 0), N(0, 0, 0, 0, 1, 0), N(1, 0, -1, -1, 0, 0), N(1, 0, -1, 0, 0, -1), N(1, 0, 0, -1, 0, -1), N(1, -1, 0, 0, -1, 0)), support=(N(0, 1, 0, 0, 0, 0), N(0, 0, 0, 0, 1, 0), N(1, 0, -1, -1, 0, 0), N(1, 0, -1, 0, 0, -1), N(1, 0, 0, -1, 0, -1), N(1, -1, 0, 0, -1, 0), N(2, 0, -1, -1, 0, -1)), fiber=N(4, 0, -2, -2, 0, -2), basepoint=None, transversal=True),\n",
       " Cylinder(S=<delPezzo_cylinders.Surface object at 0x7f5824f5ff70>, construction='tangent', complement=(N(0, 0, 1, 0, 0, 0), N(0, 0, 0, 0, 0, 1), N(1, -1, 0, -1, 0, 0), N(1, -1, 0, 0, -1, 0), N(1, 0, 0, -1, -1, 0), N(1, 0, -1, 0, 0, -1)), support=(N(0, 0, 1, 0, 0, 0), N(0, 0, 0, 0, 0, 1), N(1, -1, 0, -1, 0, 0), N(1, -1, 0, 0, -1, 0), N(1, 0, 0, -1, -1, 0), N(1, 0, -1, 0, 0, -1), N(2, -1, 0, -1, -1, 0)), fiber=N(4, -2, 0, -2, -2, 0), basepoint=None, transversal=True),\n",
       " Cylinder(S=<delPezzo_cylinders.Surface object at 0x7f5824f5ff70>, construction='tangent', complement=(N(0, 1, 0, 0, 0, 0), N(0, 0, 0, 1, 0, 0), N(1, 0, -1, 0, -1, 0), N(1, 0, -1, 0, 0, -1), N(1, 0, 0, 0, -1, -1), N(1, -1, 0, -1, 0, 0)), support=(N(0, 1, 0, 0, 0, 0), N(0, 0, 0, 1, 0, 0), N(1, 0, -1, 0, -1, 0), N(1, 0, -1, 0, 0, -1), N(1, 0, 0, 0, -1, -1), N(1, -1, 0, -1, 0, 0), N(2, 0, -1, 0, -1, -1)), fiber=N(4, 0, -2, 0, -2, -2), basepoint=None, transversal=True)]"
      ]
     },
     "execution_count": 5,
     "metadata": {},
     "output_type": "execute_result"
    }
   ],
   "source": [
    "from test_deg4 import *\n",
    "test_ParkWon_B()\n",
    "test_Perepechko_B0()\n",
    "#test_ParkWon_C()\n"
   ]
  },
  {
   "cell_type": "code",
   "execution_count": 6,
   "metadata": {},
   "outputs": [],
   "source": [
    "from test_deg3 import *\n",
    "\n",
    "test_Perepechko2020()\n"
   ]
  },
  {
   "cell_type": "code",
   "execution_count": 7,
   "metadata": {},
   "outputs": [],
   "source": [
    "from test_deg2 import *\n",
    "\n",
    "test_deg2_cuspidal()"
   ]
  },
  {
   "cell_type": "code",
   "execution_count": 8,
   "metadata": {},
   "outputs": [],
   "source": [
    "from test_weak_deg6 import *\n",
    "\n",
    "test_deg6_weak_1()\n",
    "test_deg6_weak_2()"
   ]
  },
  {
   "cell_type": "code",
   "execution_count": 187,
   "metadata": {},
   "outputs": [
    {
     "name": "stderr",
     "output_type": "stream",
     "text": [
      "[autoreload of delPezzo_cylinders failed: Traceback (most recent call last):\n",
      "  File \"/home/sage/sage/local/var/lib/sage/venv-python3.10.5/lib/python3.10/site-packages/IPython/extensions/autoreload.py\", line 257, in check\n",
      "    superreload(m, reload, self.old_objects)\n",
      "  File \"/home/sage/sage/local/var/lib/sage/venv-python3.10.5/lib/python3.10/site-packages/IPython/extensions/autoreload.py\", line 480, in superreload\n",
      "    update_generic(old_obj, new_obj)\n",
      "  File \"/home/sage/sage/local/var/lib/sage/venv-python3.10.5/lib/python3.10/site-packages/IPython/extensions/autoreload.py\", line 377, in update_generic\n",
      "    update(a, b)\n",
      "  File \"/home/sage/sage/local/var/lib/sage/venv-python3.10.5/lib/python3.10/site-packages/IPython/extensions/autoreload.py\", line 345, in update_class\n",
      "    update_instances(old, new)\n",
      "  File \"/home/sage/sage/local/var/lib/sage/venv-python3.10.5/lib/python3.10/site-packages/IPython/extensions/autoreload.py\", line 303, in update_instances\n",
      "    ref.__class__ = new\n",
      "  File \"<string>\", line 4, in __setattr__\n",
      "dataclasses.FrozenInstanceError: cannot assign to field '__class__'\n",
      "]\n"
     ]
    }
   ],
   "source": [
    "from test_blowups import *\n",
    "\n",
    "test_blowup_deg_8()\n",
    "test_contraction_P2()"
   ]
  },
  {
   "cell_type": "code",
   "execution_count": 6,
   "metadata": {},
   "outputs": [],
   "source": [
    "S = Surface(8)\n",
    "blowups2 = list(S.blowups())\n",
    "blowups3 = [c for b in blowups2 for c in b.blowups()]\n",
    "blowups4 = [c for b in blowups3 for c in b.blowups()]\n",
    "blowups5 = [c for b in blowups4 for c in b.blowups()]\n"
   ]
  },
  {
   "cell_type": "code",
   "execution_count": 13,
   "metadata": {},
   "outputs": [
    {
     "name": "stdout",
     "output_type": "stream",
     "text": [
      "[N(0, 0, 1, 0), N(0, 0, 0, 1)] [N(1, -1, -1, -1), N(0, 1, 0, -1)]\n"
     ]
    },
    {
     "name": "stderr",
     "output_type": "stream",
     "text": [
      "[autoreload of delPezzo_cylinders failed: Traceback (most recent call last):\n",
      "  File \"/home/sage/sage/local/var/lib/sage/venv-python3.10.5/lib/python3.10/site-packages/IPython/extensions/autoreload.py\", line 257, in check\n",
      "    superreload(m, reload, self.old_objects)\n",
      "  File \"/home/sage/sage/local/var/lib/sage/venv-python3.10.5/lib/python3.10/site-packages/IPython/extensions/autoreload.py\", line 480, in superreload\n",
      "    update_generic(old_obj, new_obj)\n",
      "  File \"/home/sage/sage/local/var/lib/sage/venv-python3.10.5/lib/python3.10/site-packages/IPython/extensions/autoreload.py\", line 377, in update_generic\n",
      "    update(a, b)\n",
      "  File \"/home/sage/sage/local/var/lib/sage/venv-python3.10.5/lib/python3.10/site-packages/IPython/extensions/autoreload.py\", line 345, in update_class\n",
      "    update_instances(old, new)\n",
      "  File \"/home/sage/sage/local/var/lib/sage/venv-python3.10.5/lib/python3.10/site-packages/IPython/extensions/autoreload.py\", line 303, in update_instances\n",
      "    ref.__class__ = new\n",
      "  File \"<string>\", line 4, in __setattr__\n",
      "dataclasses.FrozenInstanceError: cannot assign to field '__class__'\n",
      "]\n"
     ]
    }
   ],
   "source": [
    "from delPezzo_cylinders import *\n",
    "b=blowups3[3]\n",
    "print(b.minus_one_curves, b.minus_two_curves)\n",
    "contraction = list(b.contractions_P2())[0]\n",
    "E = contraction.E\n",
    "cyl = Cylinder.make_type_tangent_weak(b, contraction, [E[1],E[0]], [E[2]])\n"
   ]
  },
  {
   "cell_type": "code",
   "execution_count": 20,
   "metadata": {},
   "outputs": [
    {
     "data": {
      "text/plain": [
       "True"
      ]
     },
     "execution_count": 20,
     "metadata": {},
     "output_type": "execute_result"
    }
   ],
   "source": [
    "cyl.Forb.rays()\n",
    "cyl.is_transversal()"
   ]
  },
  {
   "cell_type": "code",
   "execution_count": null,
   "metadata": {},
   "outputs": [],
   "source": []
  }
 ],
 "metadata": {
  "kernelspec": {
   "display_name": "Python 3",
   "language": "python",
   "name": "python3"
  },
  "language_info": {
   "codemirror_mode": {
    "name": "ipython",
    "version": 3
   },
   "file_extension": ".py",
   "mimetype": "text/x-python",
   "name": "python",
   "nbconvert_exporter": "python",
   "pygments_lexer": "ipython3",
   "version": "3.10.5"
  },
  "orig_nbformat": 4
 },
 "nbformat": 4,
 "nbformat_minor": 2
}
